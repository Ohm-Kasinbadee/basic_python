{
  "nbformat": 4,
  "nbformat_minor": 0,
  "metadata": {
    "colab": {
      "name": "Tools_for_Data_Science-Assignment -Week9.ipynb",
      "provenance": [],
      "collapsed_sections": []
    },
    "kernelspec": {
      "name": "python3",
      "display_name": "Python 3"
    }
  },
  "cells": [
    {
      "cell_type": "markdown",
      "metadata": {
        "id": "0O9n9G6P4Gh1"
      },
      "source": [
        "<h3> Tools for Data Science Assignment Week 9 Pandas </h3>"
      ]
    },
    {
      "cell_type": "code",
      "metadata": {
        "id": "4lH7707PUDCq"
      },
      "source": [
        "import pandas as pd\n",
        "import numpy as np\n",
        "import json"
      ],
      "execution_count": null,
      "outputs": []
    },
    {
      "cell_type": "code",
      "metadata": {
        "id": "CPPTjSD47v6D",
        "colab": {
          "base_uri": "https://localhost:8080/",
          "height": 124
        },
        "outputId": "24bb4c16-174d-420f-e23e-1913d568f255"
      },
      "source": [
        "from google.colab import drive\n",
        "drive.mount('/content/drive')"
      ],
      "execution_count": null,
      "outputs": [
        {
          "output_type": "stream",
          "text": [
            "Go to this URL in a browser: https://accounts.google.com/o/oauth2/auth?client_id=947318989803-6bn6qk8qdgf4n4g3pfee6491hc0brc4i.apps.googleusercontent.com&redirect_uri=urn%3aietf%3awg%3aoauth%3a2.0%3aoob&scope=email%20https%3a%2f%2fwww.googleapis.com%2fauth%2fdocs.test%20https%3a%2f%2fwww.googleapis.com%2fauth%2fdrive%20https%3a%2f%2fwww.googleapis.com%2fauth%2fdrive.photos.readonly%20https%3a%2f%2fwww.googleapis.com%2fauth%2fpeopleapi.readonly&response_type=code\n",
            "\n",
            "Enter your authorization code:\n",
            "··········\n",
            "Mounted at /content/drive\n"
          ],
          "name": "stdout"
        }
      ]
    },
    {
      "cell_type": "markdown",
      "metadata": {
        "id": "feyEWjXsUNy_"
      },
      "source": [
        "<b> Dataset 1: Twitter Data #stayhome </b> <br>\n",
        "https://www.kaggle.com/robertvici/stay-at-home-tweets-covid19 <br>\n",
        "\n",
        "\n",
        "ลิงค์ดาว์นโหลดข้อมูล ช่วงเวลาวันที่ 13, 14, 15, 16 มีนาคม 2563 <br>\n",
        "https://drive.google.com/drive/folders/1vjDWn2w2bFpU8mRm1ItvBdg2LHPHGCtd?usp=sharing <br>\n",
        "\n",
        "<b> คำถาม </b>\n",
        "1. แสดงจำนวนครั้งของ tweet ที่มีคำว่า covid ในแต่ละวัน (ที่มีให้ในข้อมูล)\n",
        "2. แสดงชื่อ User ที่ tweet หรือใช้ hashtags คำว่า covid หรือ stayAtHome มากที่สุด 10 อันดับ\n",
        "3. แสดงชื่อ User ที่มีจำนวน mentions มากที่สุดเรียง 10 อันดับ\n",
        "4. User  ที่มีการ tweet หรือ ใช้ hashtag ว่า covid ในช่วงเวลากลางวัน (6:00AM - 6:00PM) มากที่สุด คือ user ใด\n",
        "5. User  ที่มีความแตกต่างของการ tweet หรือใช้ hashtag ว่า covid ในช่วงเวลากลางวัน (6:00AM - 6:00PM) กับช่วงเวลากลางคืน (6:00PM - 6:00AM) มากที่สุด คือ user ใด\n",
        "\n"
      ]
    },
    {
      "cell_type": "code",
      "metadata": {
        "id": "la32nHLOULgK"
      },
      "source": [
        "# Read Json\n",
        "pd.set_option('display.max_rows', False)\n",
        "path = '/content/drive/My Drive/88950162_tools_for_data_science_101/63910161_python/week8/'\n",
        "\n",
        "dataFilePath1 = path + r'2020-03-13.json'\n",
        "dataFilePath2 = path + r'2020-03-14.json'\n",
        "dataFilePath3 = path + r'2020-03-15.json'\n",
        "dataFilePath4 = path + r'2020-03-16.json'\n",
        "\n",
        "df1 = pd.read_json(dataFilePath1)\n",
        "df2 = pd.read_json(dataFilePath2)\n",
        "df3 = pd.read_json(dataFilePath3)\n",
        "df4 = pd.read_json(dataFilePath4)\n",
        "\n",
        "# Mergeing data\n",
        "df = [df1, df2, df3, df4]\n",
        "df = pd.concat(df)\n",
        "\n",
        "# Export Data to CSV\n",
        "df.to_csv('tweet_data.csv', encoding='utf-8')"
      ],
      "execution_count": null,
      "outputs": []
    },
    {
      "cell_type": "code",
      "metadata": {
        "id": "9YJ2aGUdAho1"
      },
      "source": [
        "# Read file\n",
        "dataFilePath =  '/content/tweet_data.csv'\n",
        "\n",
        "df = pd.read_csv(dataFilePath, index_col=0)"
      ],
      "execution_count": null,
      "outputs": []
    },
    {
      "cell_type": "code",
      "metadata": {
        "id": "TipmCRbRAwbu",
        "colab": {
          "base_uri": "https://localhost:8080/",
          "height": 121
        },
        "outputId": "17927175-9a10-4cf1-cfc5-00803831d474"
      },
      "source": [
        "# 1.แสดงจำนวนครั้งของ tweet ที่มีคำว่า covid ในแต่ละวัน (ที่มีให้ในข้อมูล)\n",
        "covid_ = df[df['tweet'].str.contains(\"covid\")]\n",
        "covid_.groupby(['date'])['tweet'].count()"
      ],
      "execution_count": null,
      "outputs": [
        {
          "output_type": "execute_result",
          "data": {
            "text/plain": [
              "date\n",
              "2020-03-13 00:00:00     433\n",
              "2020-03-14 00:00:00     339\n",
              "2020-03-15 00:00:00     462\n",
              "2020-03-16 00:00:00    1150\n",
              "Name: tweet, dtype: int64"
            ]
          },
          "metadata": {
            "tags": []
          },
          "execution_count": 153
        }
      ]
    },
    {
      "cell_type": "code",
      "metadata": {
        "id": "D5Bv034TC_Yj",
        "colab": {
          "base_uri": "https://localhost:8080/",
          "height": 896
        },
        "outputId": "32c20c7d-26fd-44d3-d2bd-cdcc4d53503b"
      },
      "source": [
        "# 2.แสดงชื่อ User ที่ tweet หรือใช้ hashtags คำว่า covid หรือ stayAtHome มากที่สุด 10 อันดับ\n",
        "covid_stayAtHome_ = df[(df['tweet'].str.contains(\"covid\")) | \\\n",
        "                       (df['tweet'].str.contains(\"stayAtHome\")) | \\\n",
        "                       (df['hashtags'].str.contains(\"covid\")) | \\\n",
        "                       (df['hashtags'].str.contains(\"stayAtHome\"))]\n",
        "\n",
        "covid_stayAtHome_['tweet_covid'] = covid_stayAtHome_['tweet'].str.count('covid')\n",
        "covid_stayAtHome_['tweet_stayAtHome'] = covid_stayAtHome_['tweet'].str.count('stayAtHome')\n",
        "covid_stayAtHome_['hashtags_covid'] = covid_stayAtHome_['hashtags'].str.count('covid')\n",
        "covid_stayAtHome_['hashtags_stayAtHome'] = covid_stayAtHome_['hashtags'].str.count('stayAtHome')\n",
        "\n",
        "covid_stayAtHome_['count_Token'] = covid_stayAtHome_.tweet_covid \\\n",
        "                                   + covid_stayAtHome_.tweet_stayAtHome \\\n",
        "                                   + covid_stayAtHome_.hashtags_covid \\\n",
        "                                   + covid_stayAtHome_.hashtags_stayAtHome\n",
        "\n",
        "covid_stayAtHome_ = covid_stayAtHome_.sort_values(['count_Token'], ascending=False)\n",
        "\n",
        "username_ = covid_stayAtHome_.groupby('username').sum()\n",
        "username_[['count_Token']].sort_values(['count_Token'], ascending=False).head(10)"
      ],
      "execution_count": null,
      "outputs": [
        {
          "output_type": "stream",
          "text": [
            "/usr/local/lib/python3.6/dist-packages/ipykernel_launcher.py:4: SettingWithCopyWarning: \n",
            "A value is trying to be set on a copy of a slice from a DataFrame.\n",
            "Try using .loc[row_indexer,col_indexer] = value instead\n",
            "\n",
            "See the caveats in the documentation: https://pandas.pydata.org/pandas-docs/stable/user_guide/indexing.html#returning-a-view-versus-a-copy\n",
            "  after removing the cwd from sys.path.\n",
            "/usr/local/lib/python3.6/dist-packages/ipykernel_launcher.py:5: SettingWithCopyWarning: \n",
            "A value is trying to be set on a copy of a slice from a DataFrame.\n",
            "Try using .loc[row_indexer,col_indexer] = value instead\n",
            "\n",
            "See the caveats in the documentation: https://pandas.pydata.org/pandas-docs/stable/user_guide/indexing.html#returning-a-view-versus-a-copy\n",
            "  \"\"\"\n",
            "/usr/local/lib/python3.6/dist-packages/ipykernel_launcher.py:6: SettingWithCopyWarning: \n",
            "A value is trying to be set on a copy of a slice from a DataFrame.\n",
            "Try using .loc[row_indexer,col_indexer] = value instead\n",
            "\n",
            "See the caveats in the documentation: https://pandas.pydata.org/pandas-docs/stable/user_guide/indexing.html#returning-a-view-versus-a-copy\n",
            "  \n",
            "/usr/local/lib/python3.6/dist-packages/ipykernel_launcher.py:7: SettingWithCopyWarning: \n",
            "A value is trying to be set on a copy of a slice from a DataFrame.\n",
            "Try using .loc[row_indexer,col_indexer] = value instead\n",
            "\n",
            "See the caveats in the documentation: https://pandas.pydata.org/pandas-docs/stable/user_guide/indexing.html#returning-a-view-versus-a-copy\n",
            "  import sys\n",
            "/usr/local/lib/python3.6/dist-packages/ipykernel_launcher.py:9: SettingWithCopyWarning: \n",
            "A value is trying to be set on a copy of a slice from a DataFrame.\n",
            "Try using .loc[row_indexer,col_indexer] = value instead\n",
            "\n",
            "See the caveats in the documentation: https://pandas.pydata.org/pandas-docs/stable/user_guide/indexing.html#returning-a-view-versus-a-copy\n",
            "  if __name__ == '__main__':\n"
          ],
          "name": "stderr"
        },
        {
          "output_type": "execute_result",
          "data": {
            "text/html": [
              "<div>\n",
              "<style scoped>\n",
              "    .dataframe tbody tr th:only-of-type {\n",
              "        vertical-align: middle;\n",
              "    }\n",
              "\n",
              "    .dataframe tbody tr th {\n",
              "        vertical-align: top;\n",
              "    }\n",
              "\n",
              "    .dataframe thead th {\n",
              "        text-align: right;\n",
              "    }\n",
              "</style>\n",
              "<table border=\"1\" class=\"dataframe\">\n",
              "  <thead>\n",
              "    <tr style=\"text-align: right;\">\n",
              "      <th></th>\n",
              "      <th>count_Token</th>\n",
              "    </tr>\n",
              "    <tr>\n",
              "      <th>username</th>\n",
              "      <th></th>\n",
              "    </tr>\n",
              "  </thead>\n",
              "  <tbody>\n",
              "    <tr>\n",
              "      <th>yassd32k1</th>\n",
              "      <td>38.0</td>\n",
              "    </tr>\n",
              "    <tr>\n",
              "      <th>jl_mico</th>\n",
              "      <td>31.0</td>\n",
              "    </tr>\n",
              "    <tr>\n",
              "      <th>barpyplatwurst</th>\n",
              "      <td>28.0</td>\n",
              "    </tr>\n",
              "    <tr>\n",
              "      <th>coronavirusari1</th>\n",
              "      <td>24.0</td>\n",
              "    </tr>\n",
              "    <tr>\n",
              "      <th>kick_please</th>\n",
              "      <td>24.0</td>\n",
              "    </tr>\n",
              "    <tr>\n",
              "      <th>ulli39989686</th>\n",
              "      <td>22.0</td>\n",
              "    </tr>\n",
              "    <tr>\n",
              "      <th>crwth_</th>\n",
              "      <td>21.0</td>\n",
              "    </tr>\n",
              "    <tr>\n",
              "      <th>english_as</th>\n",
              "      <td>19.0</td>\n",
              "    </tr>\n",
              "    <tr>\n",
              "      <th>capitangian</th>\n",
              "      <td>19.0</td>\n",
              "    </tr>\n",
              "    <tr>\n",
              "      <th>deepinspection</th>\n",
              "      <td>18.0</td>\n",
              "    </tr>\n",
              "  </tbody>\n",
              "</table>\n",
              "</div>"
            ],
            "text/plain": [
              "                 count_Token\n",
              "username                    \n",
              "yassd32k1               38.0\n",
              "jl_mico                 31.0\n",
              "barpyplatwurst          28.0\n",
              "coronavirusari1         24.0\n",
              "kick_please             24.0\n",
              "ulli39989686            22.0\n",
              "crwth_                  21.0\n",
              "english_as              19.0\n",
              "capitangian             19.0\n",
              "deepinspection          18.0"
            ]
          },
          "metadata": {
            "tags": []
          },
          "execution_count": 154
        }
      ]
    },
    {
      "cell_type": "code",
      "metadata": {
        "id": "KcOpnOD1MbIs",
        "colab": {
          "base_uri": "https://localhost:8080/",
          "height": 482
        },
        "outputId": "2bd1b589-b36d-4f75-dec9-1a64869f6f66"
      },
      "source": [
        "# 3.แสดงชื่อ User ที่มีจำนวน mentions มากที่สุดเรียง 10 อันดับ\n",
        "\n",
        "mentions_ = df[['username', 'mentions']]\n",
        "mentions_['count'] = df.mentions.str.len()\n",
        "\n",
        "mentions_ = mentions_.groupby('username').sum()\n",
        "mentions_.sort_values(['count'], ascending=False).head(10)"
      ],
      "execution_count": null,
      "outputs": [
        {
          "output_type": "stream",
          "text": [
            "/usr/local/lib/python3.6/dist-packages/ipykernel_launcher.py:4: SettingWithCopyWarning: \n",
            "A value is trying to be set on a copy of a slice from a DataFrame.\n",
            "Try using .loc[row_indexer,col_indexer] = value instead\n",
            "\n",
            "See the caveats in the documentation: https://pandas.pydata.org/pandas-docs/stable/user_guide/indexing.html#returning-a-view-versus-a-copy\n",
            "  after removing the cwd from sys.path.\n"
          ],
          "name": "stderr"
        },
        {
          "output_type": "execute_result",
          "data": {
            "text/html": [
              "<div>\n",
              "<style scoped>\n",
              "    .dataframe tbody tr th:only-of-type {\n",
              "        vertical-align: middle;\n",
              "    }\n",
              "\n",
              "    .dataframe tbody tr th {\n",
              "        vertical-align: top;\n",
              "    }\n",
              "\n",
              "    .dataframe thead th {\n",
              "        text-align: right;\n",
              "    }\n",
              "</style>\n",
              "<table border=\"1\" class=\"dataframe\">\n",
              "  <thead>\n",
              "    <tr style=\"text-align: right;\">\n",
              "      <th></th>\n",
              "      <th>count</th>\n",
              "    </tr>\n",
              "    <tr>\n",
              "      <th>username</th>\n",
              "      <th></th>\n",
              "    </tr>\n",
              "  </thead>\n",
              "  <tbody>\n",
              "    <tr>\n",
              "      <th>athanasiatrian1</th>\n",
              "      <td>1676</td>\n",
              "    </tr>\n",
              "    <tr>\n",
              "      <th>gazza41</th>\n",
              "      <td>1573</td>\n",
              "    </tr>\n",
              "    <tr>\n",
              "      <th>nielsockelmann</th>\n",
              "      <td>1572</td>\n",
              "    </tr>\n",
              "    <tr>\n",
              "      <th>florian_vienna</th>\n",
              "      <td>1375</td>\n",
              "    </tr>\n",
              "    <tr>\n",
              "      <th>jasb1001</th>\n",
              "      <td>1140</td>\n",
              "    </tr>\n",
              "    <tr>\n",
              "      <th>melbprieto</th>\n",
              "      <td>1125</td>\n",
              "    </tr>\n",
              "    <tr>\n",
              "      <th>mokum_misfit</th>\n",
              "      <td>1113</td>\n",
              "    </tr>\n",
              "    <tr>\n",
              "      <th>lwjanssen</th>\n",
              "      <td>887</td>\n",
              "    </tr>\n",
              "    <tr>\n",
              "      <th>martinis2018</th>\n",
              "      <td>790</td>\n",
              "    </tr>\n",
              "    <tr>\n",
              "      <th>christinerap74</th>\n",
              "      <td>790</td>\n",
              "    </tr>\n",
              "  </tbody>\n",
              "</table>\n",
              "</div>"
            ],
            "text/plain": [
              "                 count\n",
              "username              \n",
              "athanasiatrian1   1676\n",
              "gazza41           1573\n",
              "nielsockelmann    1572\n",
              "florian_vienna    1375\n",
              "jasb1001          1140\n",
              "melbprieto        1125\n",
              "mokum_misfit      1113\n",
              "lwjanssen          887\n",
              "martinis2018       790\n",
              "christinerap74     790"
            ]
          },
          "metadata": {
            "tags": []
          },
          "execution_count": 155
        }
      ]
    },
    {
      "cell_type": "code",
      "metadata": {
        "id": "XZn7PLBrOXnH"
      },
      "source": [
        "# 4.User ที่มีการ tweet หรือ ใช้ hashtag ว่า covid ในช่วงเวลากลางวัน (6:00AM - 6:00PM) มากที่สุด คือ user ใด\n",
        "# covid_user_ = df[(df['tweet'].str.contains(\"covid\")) | (df['hashtags'].str.contains(\"covid\"))]\n",
        "\n",
        "# covid_user_['created_at'] = pd.to_datetime(covid_user_['created_at'])\n",
        "# covid_user_.info()\n",
        "\n",
        "# covid_user_['datehour'] = covid_user_.created_at.dt.hour\n",
        "# covid_user_\n"
      ],
      "execution_count": null,
      "outputs": []
    },
    {
      "cell_type": "code",
      "metadata": {
        "id": "h8JxNRkrn05B"
      },
      "source": [
        "# 5.User ที่มีความแตกต่างของการ tweet หรือใช้ hashtag ว่า covid ในช่วงเวลากลางวัน (6:00AM - 6:00PM) กับช่วงเวลากลางคืน (6:00PM - 6:00AM) มากที่สุด คือ user ใด"
      ],
      "execution_count": null,
      "outputs": []
    },
    {
      "cell_type": "markdown",
      "metadata": {
        "id": "2FZ3q1NhaFM8"
      },
      "source": [
        "<b> Dataset 2: Data Analyst Jobs 2253 job listings scraped from glassdoor </b> <br> https://www.kaggle.com/andrewmvd/data-analyst-jobs\n",
        "<br>\n",
        "<table>\n",
        "  <tr>\n",
        "    <th> Column name </th>\n",
        "    <th> Description </th>\n",
        "  </tr>\n",
        "  <tr>\n",
        "    <td> Job Title </td>\n",
        "    <td> Job title </td>\n",
        "  </tr>\n",
        "  <tr>\n",
        "    <td> Salary Estimate </td>\n",
        "    <td> Glassdoor salary estimate </td>\n",
        "  </tr>\n",
        "  <tr>\n",
        "    <td> Job Desciption </td>\n",
        "    <td> Job description </td>\n",
        "  </tr>\n",
        "  <tr>\n",
        "    <td> Rating </td>\n",
        "    <td> Company rating </td>\n",
        "  </tr>\n",
        "  <tr>\n",
        "    <td> Company Name </td>\n",
        "    <td> Company Name </td>\n",
        "  </tr>\n",
        "  <tr>\n",
        "    <td> Location </td>\n",
        "    <td> Location </td>\n",
        "  </tr>\n",
        "  <tr>\n",
        "    <td> Headquaters </td>\n",
        "    <td> Company Headquaters location </td>\n",
        "  </tr>\n",
        "  <tr>\n",
        "    <td> Size </td>\n",
        "    <td> Company size by number of employess </td>\n",
        "  </tr>\n",
        "  <tr>\n",
        "    <td> Founded </td>\n",
        "    <td> Year the compnany was founded\n",
        "  </tr>\n",
        "</table>\n",
        "\n"
      ]
    },
    {
      "cell_type": "code",
      "metadata": {
        "id": "LMBGrpxjioK7"
      },
      "source": [
        "path = '/content/drive/My Drive/88950162_tools_for_data_science_101/63910161_python/week8/'\n",
        "data = pd.read_csv(path +'DataAnalyst.csv')"
      ],
      "execution_count": null,
      "outputs": []
    },
    {
      "cell_type": "markdown",
      "metadata": {
        "id": "Vgp97YtkknkM"
      },
      "source": [
        "<b> Part 1: Data Cleaning </b>\n",
        "- ลบคอลัมภ์ Unnamed: 0 \n",
        "- แทนค่า -1 หรือ -1.0 หรือ '-1' ด้วยค่า NaN ทุกคอลัมภ์\n",
        "- สร้างคอลัมภ์ Department จากแบ่งข้อมูลในคอลัมภ์ Job Title\n",
        "- เช็คดูว่าข้อมูลในคอลัมภ์ Company_Name ในการลบ \\n\n",
        "- แบ่งข้อมูลจากคอลัมภ์ Salary Estimate ออกเป็นคอลัมภ์ \n",
        "salary น้อยที่สุด (Min_Salary) และคอลัมภ์ salary มากที่สุด (Max_Salary)"
      ]
    },
    {
      "cell_type": "code",
      "metadata": {
        "id": "AIjHRGy0je8_"
      },
      "source": [
        "# ลบคอลัมภ์ Unnamed: 0\n",
        "data = data.drop(columns=\"Unnamed: 0\")"
      ],
      "execution_count": null,
      "outputs": []
    },
    {
      "cell_type": "code",
      "metadata": {
        "id": "hEoe6KIuUbSX"
      },
      "source": [
        "# แทนค่า -1 หรือ -1.0 หรือ '-1' ด้วยค่า NaN ทุกคอลัมภ์\n",
        "\n",
        "data = data.replace(-1, np.NaN)\n",
        "data = data.replace(-1.0, np.NaN)\n",
        "data = data.replace('-1', np.NaN)\n",
        "data = data.replace('-1.0', np.NaN)"
      ],
      "execution_count": null,
      "outputs": []
    },
    {
      "cell_type": "code",
      "metadata": {
        "id": "rzouwx1dX7F9"
      },
      "source": [
        "# สร้างคอลัมภ์ Department จากแบ่งข้อมูลในคอลัมภ์ Job Title\n",
        "data['Department'] = data['Job Title']"
      ],
      "execution_count": null,
      "outputs": []
    },
    {
      "cell_type": "code",
      "metadata": {
        "id": "CGtu-bxzYGLj"
      },
      "source": [
        "# เช็คดูว่าข้อมูลในคอลัมภ์ Company Name ในการลบ \\n\n",
        "data['Company Name'] = data['Company Name'].str.replace('\\n', ' ')"
      ],
      "execution_count": null,
      "outputs": []
    },
    {
      "cell_type": "code",
      "metadata": {
        "id": "-dVdnIQhYJ3x"
      },
      "source": [
        "# แบ่งข้อมูลจากคอลัมภ์ Salary Estimate ออกเป็นคอลัมภ์ salary น้อยที่สุด (Min_Salary) และคอลัมภ์ salary มากที่สุด (Max_Salary)\n",
        "data['Min_Salary'] = data['Salary Estimate'].str.replace('$', ' ').str.replace('K', ' ').str.replace('-', ' ').str.split().str[0]\n",
        "data['Max_Salary'] = data['Salary Estimate'].str.replace('$', ' ').str.replace('K', ' ').str.replace('-', ' ').str.split().str[1]"
      ],
      "execution_count": null,
      "outputs": []
    },
    {
      "cell_type": "markdown",
      "metadata": {
        "id": "uR_DMHmb4eci"
      },
      "source": [
        "<b> Part 2: Data Selection </b>"
      ]
    },
    {
      "cell_type": "markdown",
      "metadata": {
        "id": "bGAhGknEv4Qp"
      },
      "source": [
        "1. แสดงตำแหน่งงาน (Job Title) ที่เกิดขึ้นมากที่สุดโดยเรียงจากมากไปน้อย"
      ]
    },
    {
      "cell_type": "code",
      "metadata": {
        "id": "mxMJewLpvxu4",
        "colab": {
          "base_uri": "https://localhost:8080/",
          "height": 242
        },
        "outputId": "f8100e4e-7556-4a9d-d5cf-9daace77b305"
      },
      "source": [
        "data.groupby('Job Title')['Job Title'].count().sort_values(ascending=False)"
      ],
      "execution_count": null,
      "outputs": [
        {
          "output_type": "execute_result",
          "data": {
            "text/plain": [
              "Job Title\n",
              "Data Analyst                                                            405\n",
              "Senior Data Analyst                                                      90\n",
              "Junior Data Analyst                                                      30\n",
              "Business Data Analyst                                                    28\n",
              "Sr. Data Analyst                                                         21\n",
              "                                                                       ... \n",
              "Mid Level Data Analyst / BI Engineer - Looker, Python, Client Facing      1\n",
              "Mid-Level Data Analyst                                                    1\n",
              "Mid-Senior Data Analyst                                                   1\n",
              "Music Copyright Data Analyst                                              1\n",
              "#104252 Division Data and Financial Analyst                               1\n",
              "Name: Job Title, Length: 1272, dtype: int64"
            ]
          },
          "metadata": {
            "tags": []
          },
          "execution_count": 15
        }
      ]
    },
    {
      "cell_type": "markdown",
      "metadata": {
        "id": "kFLL6CUjwN0A"
      },
      "source": [
        "2. แสดงชื่อเมืองที่ตำแหน่งที่เกิดขึ้นมากที่สุด โดยเรียงจากมากไปน้อย"
      ]
    },
    {
      "cell_type": "code",
      "metadata": {
        "id": "heqKpVqWwNX9",
        "colab": {
          "base_uri": "https://localhost:8080/",
          "height": 997
        },
        "outputId": "f89e5a34-4d75-4b20-8664-e4c625f01026"
      },
      "source": [
        "data.groupby('Company Name')['Company Name'].count().sort_values(ascending=False)"
      ],
      "execution_count": null,
      "outputs": [
        {
          "output_type": "execute_result",
          "data": {
            "text/html": [
              "<div>\n",
              "<style scoped>\n",
              "    .dataframe tbody tr th:only-of-type {\n",
              "        vertical-align: middle;\n",
              "    }\n",
              "\n",
              "    .dataframe tbody tr th {\n",
              "        vertical-align: top;\n",
              "    }\n",
              "\n",
              "    .dataframe thead th {\n",
              "        text-align: right;\n",
              "    }\n",
              "</style>\n",
              "<table border=\"1\" class=\"dataframe\">\n",
              "  <thead>\n",
              "    <tr style=\"text-align: right;\">\n",
              "      <th></th>\n",
              "      <th>Unnamed: 0</th>\n",
              "      <th>Job Title</th>\n",
              "      <th>Salary Estimate</th>\n",
              "      <th>Job Description</th>\n",
              "      <th>Rating</th>\n",
              "      <th>Company Name</th>\n",
              "      <th>Location</th>\n",
              "      <th>Headquarters</th>\n",
              "      <th>Size</th>\n",
              "      <th>Founded</th>\n",
              "      <th>Type of ownership</th>\n",
              "      <th>Industry</th>\n",
              "      <th>Sector</th>\n",
              "      <th>Revenue</th>\n",
              "      <th>Competitors</th>\n",
              "      <th>Easy Apply</th>\n",
              "    </tr>\n",
              "  </thead>\n",
              "  <tbody>\n",
              "    <tr>\n",
              "      <th>0</th>\n",
              "      <td>0</td>\n",
              "      <td>Data Analyst, Center on Immigration and Justic...</td>\n",
              "      <td>$37K-$66K (Glassdoor est.)</td>\n",
              "      <td>Are you eager to roll up your sleeves and harn...</td>\n",
              "      <td>3.2</td>\n",
              "      <td>Vera Institute of Justice\\n3.2</td>\n",
              "      <td>New York, NY</td>\n",
              "      <td>New York, NY</td>\n",
              "      <td>201 to 500 employees</td>\n",
              "      <td>1961</td>\n",
              "      <td>Nonprofit Organization</td>\n",
              "      <td>Social Assistance</td>\n",
              "      <td>Non-Profit</td>\n",
              "      <td>$100 to $500 million (USD)</td>\n",
              "      <td>-1</td>\n",
              "      <td>True</td>\n",
              "    </tr>\n",
              "    <tr>\n",
              "      <th>1</th>\n",
              "      <td>1</td>\n",
              "      <td>Quality Data Analyst</td>\n",
              "      <td>$37K-$66K (Glassdoor est.)</td>\n",
              "      <td>Overview\\n\\nProvides analytical and technical ...</td>\n",
              "      <td>3.8</td>\n",
              "      <td>Visiting Nurse Service of New York\\n3.8</td>\n",
              "      <td>New York, NY</td>\n",
              "      <td>New York, NY</td>\n",
              "      <td>10000+ employees</td>\n",
              "      <td>1893</td>\n",
              "      <td>Nonprofit Organization</td>\n",
              "      <td>Health Care Services &amp; Hospitals</td>\n",
              "      <td>Health Care</td>\n",
              "      <td>$2 to $5 billion (USD)</td>\n",
              "      <td>-1</td>\n",
              "      <td>-1</td>\n",
              "    </tr>\n",
              "    <tr>\n",
              "      <th>2</th>\n",
              "      <td>2</td>\n",
              "      <td>Senior Data Analyst, Insights &amp; Analytics Team...</td>\n",
              "      <td>$37K-$66K (Glassdoor est.)</td>\n",
              "      <td>We’re looking for a Senior Data Analyst who ha...</td>\n",
              "      <td>3.4</td>\n",
              "      <td>Squarespace\\n3.4</td>\n",
              "      <td>New York, NY</td>\n",
              "      <td>New York, NY</td>\n",
              "      <td>1001 to 5000 employees</td>\n",
              "      <td>2003</td>\n",
              "      <td>Company - Private</td>\n",
              "      <td>Internet</td>\n",
              "      <td>Information Technology</td>\n",
              "      <td>Unknown / Non-Applicable</td>\n",
              "      <td>GoDaddy</td>\n",
              "      <td>-1</td>\n",
              "    </tr>\n",
              "    <tr>\n",
              "      <th>3</th>\n",
              "      <td>3</td>\n",
              "      <td>Data Analyst</td>\n",
              "      <td>$37K-$66K (Glassdoor est.)</td>\n",
              "      <td>Requisition NumberRR-0001939\\nRemote:Yes\\nWe c...</td>\n",
              "      <td>4.1</td>\n",
              "      <td>Celerity\\n4.1</td>\n",
              "      <td>New York, NY</td>\n",
              "      <td>McLean, VA</td>\n",
              "      <td>201 to 500 employees</td>\n",
              "      <td>2002</td>\n",
              "      <td>Subsidiary or Business Segment</td>\n",
              "      <td>IT Services</td>\n",
              "      <td>Information Technology</td>\n",
              "      <td>$50 to $100 million (USD)</td>\n",
              "      <td>-1</td>\n",
              "      <td>-1</td>\n",
              "    </tr>\n",
              "    <tr>\n",
              "      <th>4</th>\n",
              "      <td>4</td>\n",
              "      <td>Reporting Data Analyst</td>\n",
              "      <td>$37K-$66K (Glassdoor est.)</td>\n",
              "      <td>ABOUT FANDUEL GROUP\\n\\nFanDuel Group is a worl...</td>\n",
              "      <td>3.9</td>\n",
              "      <td>FanDuel\\n3.9</td>\n",
              "      <td>New York, NY</td>\n",
              "      <td>New York, NY</td>\n",
              "      <td>501 to 1000 employees</td>\n",
              "      <td>2009</td>\n",
              "      <td>Company - Private</td>\n",
              "      <td>Sports &amp; Recreation</td>\n",
              "      <td>Arts, Entertainment &amp; Recreation</td>\n",
              "      <td>$100 to $500 million (USD)</td>\n",
              "      <td>DraftKings</td>\n",
              "      <td>True</td>\n",
              "    </tr>\n",
              "    <tr>\n",
              "      <th>...</th>\n",
              "      <td>...</td>\n",
              "      <td>...</td>\n",
              "      <td>...</td>\n",
              "      <td>...</td>\n",
              "      <td>...</td>\n",
              "      <td>...</td>\n",
              "      <td>...</td>\n",
              "      <td>...</td>\n",
              "      <td>...</td>\n",
              "      <td>...</td>\n",
              "      <td>...</td>\n",
              "      <td>...</td>\n",
              "      <td>...</td>\n",
              "      <td>...</td>\n",
              "      <td>...</td>\n",
              "      <td>...</td>\n",
              "    </tr>\n",
              "    <tr>\n",
              "      <th>2248</th>\n",
              "      <td>2248</td>\n",
              "      <td>RQS - IHHA - 201900004460 -1q Data Security An...</td>\n",
              "      <td>$78K-$104K (Glassdoor est.)</td>\n",
              "      <td>Maintains systems to protect data from unautho...</td>\n",
              "      <td>2.5</td>\n",
              "      <td>Avacend, Inc.\\n2.5</td>\n",
              "      <td>Denver, CO</td>\n",
              "      <td>Alpharetta, GA</td>\n",
              "      <td>51 to 200 employees</td>\n",
              "      <td>-1</td>\n",
              "      <td>Company - Private</td>\n",
              "      <td>Staffing &amp; Outsourcing</td>\n",
              "      <td>Business Services</td>\n",
              "      <td>Unknown / Non-Applicable</td>\n",
              "      <td>-1</td>\n",
              "      <td>-1</td>\n",
              "    </tr>\n",
              "    <tr>\n",
              "      <th>2249</th>\n",
              "      <td>2249</td>\n",
              "      <td>Senior Data Analyst (Corporate Audit)</td>\n",
              "      <td>$78K-$104K (Glassdoor est.)</td>\n",
              "      <td>Position:\\nSenior Data Analyst (Corporate Audi...</td>\n",
              "      <td>2.9</td>\n",
              "      <td>Arrow Electronics\\n2.9</td>\n",
              "      <td>Centennial, CO</td>\n",
              "      <td>Centennial, CO</td>\n",
              "      <td>10000+ employees</td>\n",
              "      <td>1935</td>\n",
              "      <td>Company - Public</td>\n",
              "      <td>Wholesale</td>\n",
              "      <td>Business Services</td>\n",
              "      <td>$10+ billion (USD)</td>\n",
              "      <td>Avnet, Ingram Micro, Tech Data</td>\n",
              "      <td>-1</td>\n",
              "    </tr>\n",
              "    <tr>\n",
              "      <th>2250</th>\n",
              "      <td>2250</td>\n",
              "      <td>Technical Business Analyst (SQL, Data analytic...</td>\n",
              "      <td>$78K-$104K (Glassdoor est.)</td>\n",
              "      <td>Title: Technical Business Analyst (SQL, Data a...</td>\n",
              "      <td>-1.0</td>\n",
              "      <td>Spiceorb</td>\n",
              "      <td>Denver, CO</td>\n",
              "      <td>-1</td>\n",
              "      <td>-1</td>\n",
              "      <td>-1</td>\n",
              "      <td>-1</td>\n",
              "      <td>-1</td>\n",
              "      <td>-1</td>\n",
              "      <td>-1</td>\n",
              "      <td>-1</td>\n",
              "      <td>-1</td>\n",
              "    </tr>\n",
              "    <tr>\n",
              "      <th>2251</th>\n",
              "      <td>2251</td>\n",
              "      <td>Data Analyst 3, Customer Experience</td>\n",
              "      <td>$78K-$104K (Glassdoor est.)</td>\n",
              "      <td>Summary\\n\\nResponsible for working cross-funct...</td>\n",
              "      <td>3.1</td>\n",
              "      <td>Contingent Network Services\\n3.1</td>\n",
              "      <td>Centennial, CO</td>\n",
              "      <td>West Chester, OH</td>\n",
              "      <td>201 to 500 employees</td>\n",
              "      <td>1984</td>\n",
              "      <td>Company - Private</td>\n",
              "      <td>Enterprise Software &amp; Network Solutions</td>\n",
              "      <td>Information Technology</td>\n",
              "      <td>$25 to $50 million (USD)</td>\n",
              "      <td>-1</td>\n",
              "      <td>-1</td>\n",
              "    </tr>\n",
              "    <tr>\n",
              "      <th>2252</th>\n",
              "      <td>2252</td>\n",
              "      <td>Senior Quality Data Analyst</td>\n",
              "      <td>$78K-$104K (Glassdoor est.)</td>\n",
              "      <td>You.\\n\\nYou bring your body, mind, heart and s...</td>\n",
              "      <td>3.4</td>\n",
              "      <td>SCL Health\\n3.4</td>\n",
              "      <td>Broomfield, CO</td>\n",
              "      <td>Broomfield, CO</td>\n",
              "      <td>10000+ employees</td>\n",
              "      <td>1864</td>\n",
              "      <td>Nonprofit Organization</td>\n",
              "      <td>Health Care Services &amp; Hospitals</td>\n",
              "      <td>Health Care</td>\n",
              "      <td>$2 to $5 billion (USD)</td>\n",
              "      <td>Centura Health, HealthONE, Denver Health and H...</td>\n",
              "      <td>-1</td>\n",
              "    </tr>\n",
              "  </tbody>\n",
              "</table>\n",
              "<p>2253 rows × 16 columns</p>\n",
              "</div>"
            ],
            "text/plain": [
              "      Unnamed: 0  ... Easy Apply\n",
              "0              0  ...       True\n",
              "1              1  ...         -1\n",
              "2              2  ...         -1\n",
              "3              3  ...         -1\n",
              "4              4  ...       True\n",
              "...          ...  ...        ...\n",
              "2248        2248  ...         -1\n",
              "2249        2249  ...         -1\n",
              "2250        2250  ...         -1\n",
              "2251        2251  ...         -1\n",
              "2252        2252  ...         -1\n",
              "\n",
              "[2253 rows x 16 columns]"
            ]
          },
          "metadata": {
            "tags": []
          },
          "execution_count": 18
        }
      ]
    },
    {
      "cell_type": "markdown",
      "metadata": {
        "id": "ilvEhzVkzJBt"
      },
      "source": [
        "3. แสดงการประมาณค่าเงินเดือน(Salary Estimate)ที่เกิดขึ้นมากที่สุด โดยเรียงจากมากไปน้อย"
      ]
    },
    {
      "cell_type": "code",
      "metadata": {
        "id": "ELJzz3FSxalQ",
        "colab": {
          "base_uri": "https://localhost:8080/",
          "height": 225
        },
        "outputId": "2e0f7e87-f76c-4c99-cca3-e05313a3ffb9"
      },
      "source": [
        "salary_ = data.groupby('Salary Estimate')['Salary Estimate'].count().sort_values(ascending=False).head(10)\n",
        "salary_"
      ],
      "execution_count": null,
      "outputs": [
        {
          "output_type": "execute_result",
          "data": {
            "text/plain": [
              "Salary Estimate\n",
              "$42K-$76K (Glassdoor est.)     57\n",
              "$41K-$78K (Glassdoor est.)     57\n",
              "$50K-$86K (Glassdoor est.)     41\n",
              "$35K-$67K (Glassdoor est.)     33\n",
              "$43K-$76K (Glassdoor est.)     31\n",
              "$60K-$124K (Glassdoor est.)    31\n",
              "$58K-$93K (Glassdoor est.)     31\n",
              "$37K-$66K (Glassdoor est.)     30\n",
              "$60K-$66K (Glassdoor est.)     30\n",
              "$60K-$110K (Glassdoor est.)    30\n",
              "Name: Salary Estimate, dtype: int64"
            ]
          },
          "metadata": {
            "tags": []
          },
          "execution_count": 193
        }
      ]
    },
    {
      "cell_type": "markdown",
      "metadata": {
        "id": "LMKEuzqTbkIR"
      },
      "source": [
        "4. แสดงบริษัท (companies) ที่มีจากจ้างงานตำแหน่ง Data analyst มากที่สุด 10 อันดับ โดยดูจาก Easy Apply ที่มีค่าเป็นจริง (1)"
      ]
    },
    {
      "cell_type": "code",
      "metadata": {
        "id": "A-bZU-EsaHWa",
        "colab": {
          "base_uri": "https://localhost:8080/",
          "height": 921
        },
        "outputId": "8b598831-4a09-40bf-d4db-82603d4bccd1"
      },
      "source": [
        "data[data['Easy Apply'] == 'True'].head(10)"
      ],
      "execution_count": null,
      "outputs": [
        {
          "output_type": "execute_result",
          "data": {
            "text/html": [
              "<div>\n",
              "<style scoped>\n",
              "    .dataframe tbody tr th:only-of-type {\n",
              "        vertical-align: middle;\n",
              "    }\n",
              "\n",
              "    .dataframe tbody tr th {\n",
              "        vertical-align: top;\n",
              "    }\n",
              "\n",
              "    .dataframe thead th {\n",
              "        text-align: right;\n",
              "    }\n",
              "</style>\n",
              "<table border=\"1\" class=\"dataframe\">\n",
              "  <thead>\n",
              "    <tr style=\"text-align: right;\">\n",
              "      <th></th>\n",
              "      <th>Job Title</th>\n",
              "      <th>Salary Estimate</th>\n",
              "      <th>Job Description</th>\n",
              "      <th>Rating</th>\n",
              "      <th>Company Name</th>\n",
              "      <th>Location</th>\n",
              "      <th>Headquarters</th>\n",
              "      <th>Size</th>\n",
              "      <th>Founded</th>\n",
              "      <th>Type of ownership</th>\n",
              "      <th>Industry</th>\n",
              "      <th>Sector</th>\n",
              "      <th>Revenue</th>\n",
              "      <th>Competitors</th>\n",
              "      <th>Easy Apply</th>\n",
              "      <th>Department</th>\n",
              "      <th>Min_Salary</th>\n",
              "      <th>Max_Salary</th>\n",
              "    </tr>\n",
              "  </thead>\n",
              "  <tbody>\n",
              "    <tr>\n",
              "      <th>0</th>\n",
              "      <td>Data Analyst, Center on Immigration and Justic...</td>\n",
              "      <td>$37K-$66K (Glassdoor est.)</td>\n",
              "      <td>Are you eager to roll up your sleeves and harn...</td>\n",
              "      <td>3.2</td>\n",
              "      <td>Vera Institute of Justice 3.2</td>\n",
              "      <td>New York, NY</td>\n",
              "      <td>New York, NY</td>\n",
              "      <td>201 to 500 employees</td>\n",
              "      <td>1961.0</td>\n",
              "      <td>Nonprofit Organization</td>\n",
              "      <td>Social Assistance</td>\n",
              "      <td>Non-Profit</td>\n",
              "      <td>$100 to $500 million (USD)</td>\n",
              "      <td>NaN</td>\n",
              "      <td>True</td>\n",
              "      <td>Data Analyst, Center on Immigration and Justic...</td>\n",
              "      <td>37</td>\n",
              "      <td>66</td>\n",
              "    </tr>\n",
              "    <tr>\n",
              "      <th>4</th>\n",
              "      <td>Reporting Data Analyst</td>\n",
              "      <td>$37K-$66K (Glassdoor est.)</td>\n",
              "      <td>ABOUT FANDUEL GROUP\\n\\nFanDuel Group is a worl...</td>\n",
              "      <td>3.9</td>\n",
              "      <td>FanDuel 3.9</td>\n",
              "      <td>New York, NY</td>\n",
              "      <td>New York, NY</td>\n",
              "      <td>501 to 1000 employees</td>\n",
              "      <td>2009.0</td>\n",
              "      <td>Company - Private</td>\n",
              "      <td>Sports &amp; Recreation</td>\n",
              "      <td>Arts, Entertainment &amp; Recreation</td>\n",
              "      <td>$100 to $500 million (USD)</td>\n",
              "      <td>DraftKings</td>\n",
              "      <td>True</td>\n",
              "      <td>Reporting Data Analyst</td>\n",
              "      <td>37</td>\n",
              "      <td>66</td>\n",
              "    </tr>\n",
              "    <tr>\n",
              "      <th>7</th>\n",
              "      <td>Data Science Analyst</td>\n",
              "      <td>$37K-$66K (Glassdoor est.)</td>\n",
              "      <td>Data Science Analyst\\n\\nJob Details\\nLevel\\nEx...</td>\n",
              "      <td>3.7</td>\n",
              "      <td>GNY Insurance Companies 3.7</td>\n",
              "      <td>New York, NY</td>\n",
              "      <td>New York, NY</td>\n",
              "      <td>201 to 500 employees</td>\n",
              "      <td>1914.0</td>\n",
              "      <td>Company - Private</td>\n",
              "      <td>Insurance Carriers</td>\n",
              "      <td>Insurance</td>\n",
              "      <td>$100 to $500 million (USD)</td>\n",
              "      <td>Travelers, Chubb, Crum &amp; Forster</td>\n",
              "      <td>True</td>\n",
              "      <td>Data Science Analyst</td>\n",
              "      <td>37</td>\n",
              "      <td>66</td>\n",
              "    </tr>\n",
              "    <tr>\n",
              "      <th>13</th>\n",
              "      <td>Senior Data Analyst</td>\n",
              "      <td>$37K-$66K (Glassdoor est.)</td>\n",
              "      <td>About Known\\n\\nKnown is a modern marketing com...</td>\n",
              "      <td>3.0</td>\n",
              "      <td>Known 3.0</td>\n",
              "      <td>New York, NY</td>\n",
              "      <td>New York, NY</td>\n",
              "      <td>201 to 500 employees</td>\n",
              "      <td>2004.0</td>\n",
              "      <td>Company - Private</td>\n",
              "      <td>Advertising &amp; Marketing</td>\n",
              "      <td>Business Services</td>\n",
              "      <td>$100 to $500 million (USD)</td>\n",
              "      <td>NaN</td>\n",
              "      <td>True</td>\n",
              "      <td>Senior Data Analyst</td>\n",
              "      <td>37</td>\n",
              "      <td>66</td>\n",
              "    </tr>\n",
              "    <tr>\n",
              "      <th>16</th>\n",
              "      <td>Data Analyst</td>\n",
              "      <td>$37K-$66K (Glassdoor est.)</td>\n",
              "      <td>Undertone stands alone among AdTech and ad net...</td>\n",
              "      <td>3.8</td>\n",
              "      <td>Undertone 3.8</td>\n",
              "      <td>New York, NY</td>\n",
              "      <td>New York, NY</td>\n",
              "      <td>201 to 500 employees</td>\n",
              "      <td>2001.0</td>\n",
              "      <td>Subsidiary or Business Segment</td>\n",
              "      <td>Advertising &amp; Marketing</td>\n",
              "      <td>Business Services</td>\n",
              "      <td>Unknown / Non-Applicable</td>\n",
              "      <td>DoubleClick, Specific Media, Collective</td>\n",
              "      <td>True</td>\n",
              "      <td>Data Analyst</td>\n",
              "      <td>37</td>\n",
              "      <td>66</td>\n",
              "    </tr>\n",
              "    <tr>\n",
              "      <th>30</th>\n",
              "      <td>Data Analyst</td>\n",
              "      <td>$46K-$87K (Glassdoor est.)</td>\n",
              "      <td>Our Mission\\n\\nMove people.\\n\\nOur Values\\n\\nW...</td>\n",
              "      <td>3.6</td>\n",
              "      <td>Revel 3.6</td>\n",
              "      <td>Brooklyn, NY</td>\n",
              "      <td>Seattle, WA</td>\n",
              "      <td>51 to 200 employees</td>\n",
              "      <td>2005.0</td>\n",
              "      <td>Company - Private</td>\n",
              "      <td>Consulting</td>\n",
              "      <td>Business Services</td>\n",
              "      <td>$25 to $50 million (USD)</td>\n",
              "      <td>NaN</td>\n",
              "      <td>True</td>\n",
              "      <td>Data Analyst</td>\n",
              "      <td>46</td>\n",
              "      <td>87</td>\n",
              "    </tr>\n",
              "    <tr>\n",
              "      <th>47</th>\n",
              "      <td>Data Analyst</td>\n",
              "      <td>$46K-$87K (Glassdoor est.)</td>\n",
              "      <td>MediaMath is a leading global independent adve...</td>\n",
              "      <td>3.6</td>\n",
              "      <td>MediaMath 3.6</td>\n",
              "      <td>New York, NY</td>\n",
              "      <td>New York, NY</td>\n",
              "      <td>501 to 1000 employees</td>\n",
              "      <td>2007.0</td>\n",
              "      <td>Company - Private</td>\n",
              "      <td>Advertising &amp; Marketing</td>\n",
              "      <td>Business Services</td>\n",
              "      <td>$100 to $500 million (USD)</td>\n",
              "      <td>Criteo, AppNexus, dataxu</td>\n",
              "      <td>True</td>\n",
              "      <td>Data Analyst</td>\n",
              "      <td>46</td>\n",
              "      <td>87</td>\n",
              "    </tr>\n",
              "    <tr>\n",
              "      <th>82</th>\n",
              "      <td>Healthcare Data Analyst, Qsight</td>\n",
              "      <td>$51K-$88K (Glassdoor est.)</td>\n",
              "      <td>Guidepoint's Qsight team turns rows of data in...</td>\n",
              "      <td>3.3</td>\n",
              "      <td>Guidepoint 3.3</td>\n",
              "      <td>New York, NY</td>\n",
              "      <td>New York, NY</td>\n",
              "      <td>501 to 1000 employees</td>\n",
              "      <td>2003.0</td>\n",
              "      <td>Company - Private</td>\n",
              "      <td>Research &amp; Development</td>\n",
              "      <td>Business Services</td>\n",
              "      <td>Unknown / Non-Applicable</td>\n",
              "      <td>Coleman Research, AlphaSights, Third Bridge</td>\n",
              "      <td>True</td>\n",
              "      <td>Healthcare Data Analyst, Qsight</td>\n",
              "      <td>51</td>\n",
              "      <td>88</td>\n",
              "    </tr>\n",
              "    <tr>\n",
              "      <th>88</th>\n",
              "      <td>Quantitative Data Analyst</td>\n",
              "      <td>$51K-$88K (Glassdoor est.)</td>\n",
              "      <td>**We are still hiring and interviewing for thi...</td>\n",
              "      <td>4.5</td>\n",
              "      <td>Global Atlantic Financial Group 4.5</td>\n",
              "      <td>New York, NY</td>\n",
              "      <td>New York, NY</td>\n",
              "      <td>1001 to 5000 employees</td>\n",
              "      <td>2004.0</td>\n",
              "      <td>Company - Private</td>\n",
              "      <td>Insurance Carriers</td>\n",
              "      <td>Insurance</td>\n",
              "      <td>Unknown / Non-Applicable</td>\n",
              "      <td>NaN</td>\n",
              "      <td>True</td>\n",
              "      <td>Quantitative Data Analyst</td>\n",
              "      <td>51</td>\n",
              "      <td>88</td>\n",
              "    </tr>\n",
              "    <tr>\n",
              "      <th>94</th>\n",
              "      <td>Data Analyst</td>\n",
              "      <td>$51K-$87K (Glassdoor est.)</td>\n",
              "      <td>Job Description\\n\\n\\nJob #: 1076857\\n\\nRole: F...</td>\n",
              "      <td>3.8</td>\n",
              "      <td>Apex Systems 3.8</td>\n",
              "      <td>Jersey City, NJ</td>\n",
              "      <td>Glen Allen, VA</td>\n",
              "      <td>1001 to 5000 employees</td>\n",
              "      <td>1995.0</td>\n",
              "      <td>Subsidiary or Business Segment</td>\n",
              "      <td>Staffing &amp; Outsourcing</td>\n",
              "      <td>Business Services</td>\n",
              "      <td>$2 to $5 billion (USD)</td>\n",
              "      <td>TEKsystems, Insight Global, Accenture</td>\n",
              "      <td>True</td>\n",
              "      <td>Data Analyst</td>\n",
              "      <td>51</td>\n",
              "      <td>87</td>\n",
              "    </tr>\n",
              "  </tbody>\n",
              "</table>\n",
              "</div>"
            ],
            "text/plain": [
              "                                            Job Title  ... Max_Salary\n",
              "0   Data Analyst, Center on Immigration and Justic...  ...         66\n",
              "4                              Reporting Data Analyst  ...         66\n",
              "7                                Data Science Analyst  ...         66\n",
              "13                                Senior Data Analyst  ...         66\n",
              "16                                       Data Analyst  ...         66\n",
              "30                                       Data Analyst  ...         87\n",
              "47                                       Data Analyst  ...         87\n",
              "82                    Healthcare Data Analyst, Qsight  ...         88\n",
              "88                          Quantitative Data Analyst  ...         88\n",
              "94                                       Data Analyst  ...         87\n",
              "\n",
              "[10 rows x 18 columns]"
            ]
          },
          "metadata": {
            "tags": []
          },
          "execution_count": 194
        }
      ]
    },
    {
      "cell_type": "markdown",
      "metadata": {
        "id": "sUpOx7xNbwrP"
      },
      "source": [
        "5. แสดงเมือง (Location) ที่ให้ที่คำนวณ salary น้อยและมากที่สุด โดยเรียงจากค่า Max_Salary และ Min_Salary ที่มากที่สุด"
      ]
    },
    {
      "cell_type": "code",
      "metadata": {
        "id": "YkuR3C-go_1t",
        "colab": {
          "base_uri": "https://localhost:8080/",
          "height": 677
        },
        "outputId": "39784b7c-3fdc-4bce-cbaf-ca8656739b01"
      },
      "source": [
        "data['Min_Salary'] = data['Min_Salary'].fillna(0) \n",
        "data['Max_Salary']= data['Max_Salary'].fillna(0) \n",
        "\n",
        "data['Min_Salary'] = data['Min_Salary'].astype('float64')\n",
        "data['Max_Salary'] = data['Max_Salary'].astype('float64')\n",
        "data.groupby('Location')[['Min_Salary', 'Max_Salary']].agg({'Min_Salary' : 'min', 'Max_Salary': 'max' })"
      ],
      "execution_count": null,
      "outputs": [
        {
          "output_type": "execute_result",
          "data": {
            "text/html": [
              "<div>\n",
              "<style scoped>\n",
              "    .dataframe tbody tr th:only-of-type {\n",
              "        vertical-align: middle;\n",
              "    }\n",
              "\n",
              "    .dataframe tbody tr th {\n",
              "        vertical-align: top;\n",
              "    }\n",
              "\n",
              "    .dataframe thead th {\n",
              "        text-align: right;\n",
              "    }\n",
              "</style>\n",
              "<table border=\"1\" class=\"dataframe\">\n",
              "  <thead>\n",
              "    <tr style=\"text-align: right;\">\n",
              "      <th></th>\n",
              "      <th>Min_Salary</th>\n",
              "      <th>Max_Salary</th>\n",
              "    </tr>\n",
              "    <tr>\n",
              "      <th>Location</th>\n",
              "      <th></th>\n",
              "      <th></th>\n",
              "    </tr>\n",
              "  </thead>\n",
              "  <tbody>\n",
              "    <tr>\n",
              "      <th>Addison, TX</th>\n",
              "      <td>41.0</td>\n",
              "      <td>86.0</td>\n",
              "    </tr>\n",
              "    <tr>\n",
              "      <th>Alachua, FL</th>\n",
              "      <td>30.0</td>\n",
              "      <td>54.0</td>\n",
              "    </tr>\n",
              "    <tr>\n",
              "      <th>Alameda, CA</th>\n",
              "      <td>47.0</td>\n",
              "      <td>74.0</td>\n",
              "    </tr>\n",
              "    <tr>\n",
              "      <th>Alhambra, CA</th>\n",
              "      <td>35.0</td>\n",
              "      <td>81.0</td>\n",
              "    </tr>\n",
              "    <tr>\n",
              "      <th>Allegheny West, PA</th>\n",
              "      <td>37.0</td>\n",
              "      <td>93.0</td>\n",
              "    </tr>\n",
              "    <tr>\n",
              "      <th>Allen, TX</th>\n",
              "      <td>24.0</td>\n",
              "      <td>88.0</td>\n",
              "    </tr>\n",
              "    <tr>\n",
              "      <th>American Fork, UT</th>\n",
              "      <td>26.0</td>\n",
              "      <td>47.0</td>\n",
              "    </tr>\n",
              "    <tr>\n",
              "      <th>Anaheim, CA</th>\n",
              "      <td>37.0</td>\n",
              "      <td>132.0</td>\n",
              "    </tr>\n",
              "    <tr>\n",
              "      <th>Arcadia, CA</th>\n",
              "      <td>42.0</td>\n",
              "      <td>132.0</td>\n",
              "    </tr>\n",
              "    <tr>\n",
              "      <th>...</th>\n",
              "      <td>...</td>\n",
              "      <td>...</td>\n",
              "    </tr>\n",
              "    <tr>\n",
              "      <th>Whippany, NJ</th>\n",
              "      <td>48.0</td>\n",
              "      <td>114.0</td>\n",
              "    </tr>\n",
              "    <tr>\n",
              "      <th>Whitestown, IN</th>\n",
              "      <td>34.0</td>\n",
              "      <td>61.0</td>\n",
              "    </tr>\n",
              "    <tr>\n",
              "      <th>Whittier, CA</th>\n",
              "      <td>113.0</td>\n",
              "      <td>132.0</td>\n",
              "    </tr>\n",
              "    <tr>\n",
              "      <th>Wilmington, DE</th>\n",
              "      <td>37.0</td>\n",
              "      <td>93.0</td>\n",
              "    </tr>\n",
              "    <tr>\n",
              "      <th>Woodbridge, NJ</th>\n",
              "      <td>98.0</td>\n",
              "      <td>114.0</td>\n",
              "    </tr>\n",
              "    <tr>\n",
              "      <th>Woodcliff Lake, NJ</th>\n",
              "      <td>48.0</td>\n",
              "      <td>96.0</td>\n",
              "    </tr>\n",
              "    <tr>\n",
              "      <th>Woodland Hills, CA</th>\n",
              "      <td>42.0</td>\n",
              "      <td>132.0</td>\n",
              "    </tr>\n",
              "    <tr>\n",
              "      <th>Woodridge, IL</th>\n",
              "      <td>42.0</td>\n",
              "      <td>82.0</td>\n",
              "    </tr>\n",
              "    <tr>\n",
              "      <th>Yorktown, VA</th>\n",
              "      <td>43.0</td>\n",
              "      <td>69.0</td>\n",
              "    </tr>\n",
              "  </tbody>\n",
              "</table>\n",
              "<p>253 rows × 2 columns</p>\n",
              "</div>"
            ],
            "text/plain": [
              "                    Min_Salary  Max_Salary\n",
              "Location                                  \n",
              "Addison, TX               41.0        86.0\n",
              "Alachua, FL               30.0        54.0\n",
              "Alameda, CA               47.0        74.0\n",
              "Alhambra, CA              35.0        81.0\n",
              "Allegheny West, PA        37.0        93.0\n",
              "Allen, TX                 24.0        88.0\n",
              "American Fork, UT         26.0        47.0\n",
              "Anaheim, CA               37.0       132.0\n",
              "Arcadia, CA               42.0       132.0\n",
              "...                        ...         ...\n",
              "Whippany, NJ              48.0       114.0\n",
              "Whitestown, IN            34.0        61.0\n",
              "Whittier, CA             113.0       132.0\n",
              "Wilmington, DE            37.0        93.0\n",
              "Woodbridge, NJ            98.0       114.0\n",
              "Woodcliff Lake, NJ        48.0        96.0\n",
              "Woodland Hills, CA        42.0       132.0\n",
              "Woodridge, IL             42.0        82.0\n",
              "Yorktown, VA              43.0        69.0\n",
              "\n",
              "[253 rows x 2 columns]"
            ]
          },
          "metadata": {
            "tags": []
          },
          "execution_count": 195
        }
      ]
    },
    {
      "cell_type": "markdown",
      "metadata": {
        "id": "EetsS_myrFNq"
      },
      "source": [
        "6. แสดงตำแหน่งโดยใช้ Job Title ที่ได้เงินเดือนน้อยและมากที่สุด จากค่า Max_Salary และ Min_Salary ที่มากที่สุด"
      ]
    },
    {
      "cell_type": "code",
      "metadata": {
        "id": "jtiKNwOOq07Y",
        "colab": {
          "base_uri": "https://localhost:8080/",
          "height": 677
        },
        "outputId": "92603e11-ef80-4d2e-da94-b04663fc9d32"
      },
      "source": [
        "data['Min_Salary'] = data['Min_Salary'].fillna(0) \n",
        "data['Max_Salary']= data['Max_Salary'].fillna(0) \n",
        "\n",
        "data['Min_Salary'] = data['Min_Salary'].astype('int64')\n",
        "data['Max_Salary'] = data['Max_Salary'].astype('int64')\n",
        "data.groupby('Job Title')[['Min_Salary', 'Max_Salary']].agg({'Min_Salary' : 'min', 'Max_Salary': 'max' })"
      ],
      "execution_count": null,
      "outputs": [
        {
          "output_type": "execute_result",
          "data": {
            "text/html": [
              "<div>\n",
              "<style scoped>\n",
              "    .dataframe tbody tr th:only-of-type {\n",
              "        vertical-align: middle;\n",
              "    }\n",
              "\n",
              "    .dataframe tbody tr th {\n",
              "        vertical-align: top;\n",
              "    }\n",
              "\n",
              "    .dataframe thead th {\n",
              "        text-align: right;\n",
              "    }\n",
              "</style>\n",
              "<table border=\"1\" class=\"dataframe\">\n",
              "  <thead>\n",
              "    <tr style=\"text-align: right;\">\n",
              "      <th></th>\n",
              "      <th>Min_Salary</th>\n",
              "      <th>Max_Salary</th>\n",
              "    </tr>\n",
              "    <tr>\n",
              "      <th>Job Title</th>\n",
              "      <th></th>\n",
              "      <th></th>\n",
              "    </tr>\n",
              "  </thead>\n",
              "  <tbody>\n",
              "    <tr>\n",
              "      <th>#104252 Division Data and Financial Analyst</th>\n",
              "      <td>34</td>\n",
              "      <td>61</td>\n",
              "    </tr>\n",
              "    <tr>\n",
              "      <th>#105009 Research Data Analyst</th>\n",
              "      <td>60</td>\n",
              "      <td>124</td>\n",
              "    </tr>\n",
              "    <tr>\n",
              "      <th>(Data Analyst) BA/BSA</th>\n",
              "      <td>45</td>\n",
              "      <td>78</td>\n",
              "    </tr>\n",
              "    <tr>\n",
              "      <th>(Data Risk Analyst: Data Modeler)</th>\n",
              "      <td>35</td>\n",
              "      <td>67</td>\n",
              "    </tr>\n",
              "    <tr>\n",
              "      <th>(REMOTE) Sr. Risk Analyst (IT, IS and/or Data expertise)</th>\n",
              "      <td>73</td>\n",
              "      <td>89</td>\n",
              "    </tr>\n",
              "    <tr>\n",
              "      <th>(Risk Data Analyst)</th>\n",
              "      <td>35</td>\n",
              "      <td>67</td>\n",
              "    </tr>\n",
              "    <tr>\n",
              "      <th>+ Global Process Data Analyst</th>\n",
              "      <td>57</td>\n",
              "      <td>70</td>\n",
              "    </tr>\n",
              "    <tr>\n",
              "      <th>.Net Developer - Program Data Design Analyst</th>\n",
              "      <td>74</td>\n",
              "      <td>123</td>\n",
              "    </tr>\n",
              "    <tr>\n",
              "      <th>.net, sharepoint, Java, Data analyst, Business Analyst</th>\n",
              "      <td>27</td>\n",
              "      <td>52</td>\n",
              "    </tr>\n",
              "    <tr>\n",
              "      <th>...</th>\n",
              "      <td>...</td>\n",
              "      <td>...</td>\n",
              "    </tr>\n",
              "    <tr>\n",
              "      <th>Workday EIB Data Analyst</th>\n",
              "      <td>51</td>\n",
              "      <td>93</td>\n",
              "    </tr>\n",
              "    <tr>\n",
              "      <th>Workday Technical Analyst- Data Conversions</th>\n",
              "      <td>37</td>\n",
              "      <td>70</td>\n",
              "    </tr>\n",
              "    <tr>\n",
              "      <th>Workforce Data Analyst</th>\n",
              "      <td>42</td>\n",
              "      <td>76</td>\n",
              "    </tr>\n",
              "    <tr>\n",
              "      <th>XYZ Data Analyst</th>\n",
              "      <td>29</td>\n",
              "      <td>38</td>\n",
              "    </tr>\n",
              "    <tr>\n",
              "      <th>a. Senior Data and Business Analyst</th>\n",
              "      <td>31</td>\n",
              "      <td>59</td>\n",
              "    </tr>\n",
              "    <tr>\n",
              "      <th>eCommerce Data Analyst</th>\n",
              "      <td>73</td>\n",
              "      <td>127</td>\n",
              "    </tr>\n",
              "    <tr>\n",
              "      <th>eDiscovery Data Analyst</th>\n",
              "      <td>74</td>\n",
              "      <td>123</td>\n",
              "    </tr>\n",
              "    <tr>\n",
              "      <th>{\"title\":\"GAO Analyst (Data Analysis)\",\"extended\":{\"opening_type\":null}}</th>\n",
              "      <td>49</td>\n",
              "      <td>91</td>\n",
              "    </tr>\n",
              "    <tr>\n",
              "      <th>【1yr OPT+Intern】Data Analyst 保实习保就业</th>\n",
              "      <td>42</td>\n",
              "      <td>66</td>\n",
              "    </tr>\n",
              "  </tbody>\n",
              "</table>\n",
              "<p>1272 rows × 2 columns</p>\n",
              "</div>"
            ],
            "text/plain": [
              "                                                    Min_Salary  Max_Salary\n",
              "Job Title                                                                 \n",
              "#104252 Division Data and Financial Analyst                 34          61\n",
              "#105009 Research Data Analyst                               60         124\n",
              "(Data Analyst) BA/BSA                                       45          78\n",
              "(Data Risk Analyst: Data Modeler)                           35          67\n",
              "(REMOTE) Sr. Risk Analyst (IT, IS and/or Data e...          73          89\n",
              "(Risk Data Analyst)                                         35          67\n",
              "+ Global Process Data Analyst                               57          70\n",
              ".Net Developer - Program Data Design Analyst                74         123\n",
              ".net, sharepoint, Java, Data analyst, Business ...          27          52\n",
              "...                                                        ...         ...\n",
              "Workday EIB Data Analyst                                    51          93\n",
              "Workday Technical Analyst- Data Conversions                 37          70\n",
              "Workforce Data Analyst                                      42          76\n",
              "XYZ Data Analyst                                            29          38\n",
              "a. Senior Data and Business Analyst                         31          59\n",
              "eCommerce Data Analyst                                      73         127\n",
              "eDiscovery Data Analyst                                     74         123\n",
              "{\"title\":\"GAO Analyst (Data Analysis)\",\"extende...          49          91\n",
              "【1yr OPT+Intern】Data Analyst 保实习保就业                         42          66\n",
              "\n",
              "[1272 rows x 2 columns]"
            ]
          },
          "metadata": {
            "tags": []
          },
          "execution_count": 169
        }
      ]
    },
    {
      "cell_type": "markdown",
      "metadata": {
        "id": "xNq3unZhseeS"
      },
      "source": [
        "7. แสดงรายได้ที่ (Revenue) ตามอุตสากรรม (industries) โดยเรียงจากมากไปน้อย 10 อันดับ"
      ]
    },
    {
      "cell_type": "code",
      "metadata": {
        "id": "rUPV4CvGx4Hd"
      },
      "source": [
        "def filter_revenue(x):\n",
        "    revenue=0\n",
        "    if(x== 'Unknown / Non-Applicable' or type(x)==float):\n",
        "        revenue=0\n",
        "    elif(('million' in x) and ('billion' not in x)):\n",
        "        maxRev = x.replace('(USD)','').replace(\"million\",'').replace('$','').strip().split('to')\n",
        "        if('Less than' in maxRev[0]):\n",
        "            revenue = float(maxRev[0].replace('Less than','').strip())\n",
        "        else:\n",
        "            if(len(maxRev)==2):\n",
        "                revenue = float(maxRev[1])\n",
        "            elif(len(maxRev)<2):\n",
        "                revenue = float(maxRev[0])\n",
        "    elif(('billion'in x)):\n",
        "        maxRev = x.replace('(USD)','').replace(\"billion\",'').replace('$','').strip().split('to')\n",
        "        if('+' in maxRev[0]):\n",
        "            revenue = float(maxRev[0].replace('+','').strip())*1000\n",
        "        else:\n",
        "            if(len(maxRev)==2):\n",
        "                revenue = float(maxRev[1])*1000\n",
        "            elif(len(maxRev)<2):\n",
        "                revenue = float(maxRev[0])*1000\n",
        "    return revenue"
      ],
      "execution_count": null,
      "outputs": []
    },
    {
      "cell_type": "code",
      "metadata": {
        "id": "dojxxfFQseMc",
        "colab": {
          "base_uri": "https://localhost:8080/",
          "height": 104
        },
        "outputId": "545ac382-5a27-4fca-e2ce-2a9ef56be01f"
      },
      "source": [
        "for x in range(0, len(data['Revenue'])):\n",
        "  data['Revenue'][x] = filter_revenue(data['Revenue'][x])"
      ],
      "execution_count": null,
      "outputs": [
        {
          "output_type": "stream",
          "text": [
            "/usr/local/lib/python3.6/dist-packages/ipykernel_launcher.py:2: SettingWithCopyWarning: \n",
            "A value is trying to be set on a copy of a slice from a DataFrame\n",
            "\n",
            "See the caveats in the documentation: https://pandas.pydata.org/pandas-docs/stable/user_guide/indexing.html#returning-a-view-versus-a-copy\n",
            "  \n"
          ],
          "name": "stderr"
        }
      ]
    },
    {
      "cell_type": "code",
      "metadata": {
        "id": "tA5IjZKq-21w",
        "colab": {
          "base_uri": "https://localhost:8080/",
          "height": 225
        },
        "outputId": "6099f236-1fb9-4088-b384-8fddde4b3052"
      },
      "source": [
        "data.groupby('Industry')['Revenue'].sum().sort_values(ascending=False).head(10)"
      ],
      "execution_count": null,
      "outputs": [
        {
          "output_type": "execute_result",
          "data": {
            "text/plain": [
              "Industry\n",
              "Investment Banking & Asset Management      480586.0\n",
              "Staffing & Outsourcing                     303013.0\n",
              "Computer Hardware & Software               300033.0\n",
              "Insurance Carriers                         267625.0\n",
              "Health Care Services & Hospitals           260977.0\n",
              "Banks & Credit Unions                      213000.0\n",
              "IT Services                                182331.0\n",
              "Internet                                   128082.0\n",
              "Enterprise Software & Network Solutions    116062.0\n",
              "Aerospace & Defense                        107450.0\n",
              "Name: Revenue, dtype: float64"
            ]
          },
          "metadata": {
            "tags": []
          },
          "execution_count": 172
        }
      ]
    },
    {
      "cell_type": "markdown",
      "metadata": {
        "id": "cagVlJ5vz0eJ"
      },
      "source": [
        "8. แสดงจำนวนนับจำนวนบริษัทที่ก่อตั้งตามปี (Founded) ตั้งแต่ปี 2010"
      ]
    },
    {
      "cell_type": "code",
      "metadata": {
        "id": "7d5tP9fL2J-9",
        "colab": {
          "base_uri": "https://localhost:8080/",
          "height": 484
        },
        "outputId": "6bf92e92-0d27-45e4-d8f6-e400c8c19193"
      },
      "source": [
        "Founded_ = data[data['Founded'] >= 2010].sort_values('Founded')\n",
        "Founded_.groupby('Company Name')['Company Name'].count().sort_values(ascending=False)"
      ],
      "execution_count": null,
      "outputs": [
        {
          "output_type": "execute_result",
          "data": {
            "text/plain": [
              "Company Name\n",
              "Praescient Analytics 3.1                5\n",
              "TechProjects 4.8                        4\n",
              "TikTok 3.8                              4\n",
              "CYNET SYSTEMS 4.0                       4\n",
              "InvenTech Info 4.8                      3\n",
              "Flexport 3.5                            3\n",
              "Swoon 4.6                               3\n",
              "Chime 4.8                               3\n",
              "Zachary Piper Solutions, LLC 3.9        3\n",
              "Mount Sinai Health System 3.4           3\n",
              "Signify Health 3.6                      3\n",
              "Piper Companies 4.5                     3\n",
              "                                       ..\n",
              "PubNub 4.1                              1\n",
              "Professional Enrollment Concepts 3.3    1\n",
              "ProMedia 4.4                            1\n",
              "Principle Auto 4.1                      1\n",
              "Poshmark 4.8                            1\n",
              "Point72 3.9                             1\n",
              "Pieces Technology, Inc. 4.9             1\n",
              "Perfect Day 4.4                         1\n",
              "People Tree                             1\n",
              "Pareto Systems 4.3                      1\n",
              "PUBG Santa Monica 4.5                   1\n",
              "ARK Solutions, Inc. 3.9                 1\n",
              "Name: Company Name, Length: 201, dtype: int64"
            ]
          },
          "metadata": {
            "tags": []
          },
          "execution_count": 173
        }
      ]
    },
    {
      "cell_type": "markdown",
      "metadata": {
        "id": "v3Pv3sjwaH67"
      },
      "source": [
        "<h3> Dataset 3: Netflix Movies and TV Shows </h3>\n",
        "This dataset consists of tv shows and movies available on Netflix as of 2019. The dataset is collected from Flixable which is a third-party Netflix search engine.\n",
        "\n",
        "https://www.kaggle.com/shivamb/netflix-shows"
      ]
    },
    {
      "cell_type": "code",
      "metadata": {
        "id": "CxexWpL1aI0p"
      },
      "source": [
        "path = '/content/drive/My Drive/88950162_tools_for_data_science_101/63910161_python/week8/'\n",
        "data = pd.read_csv(path +'netflix_titles.csv')"
      ],
      "execution_count": null,
      "outputs": []
    },
    {
      "cell_type": "code",
      "metadata": {
        "id": "i0mGAikkNvEL"
      },
      "source": [
        "## add new features in the dataset\n",
        "data[\"date_added\"] = pd.to_datetime(data['date_added'])\n",
        "data[\"year_added\"] = data['date_added'].dt.year\n",
        "data[\"month_added\"] = data['date_added'].dt.month\n",
        "\n",
        "data['season_count'] = data.apply(lambda x : x['duration'].split(\" \")[0] if \"Season\" in x ['duration'] else \"\", axis = 1)\n",
        "data['duration'] = data.apply(lambda x : x['duration'].split(\" \")[0] if \"Season\" in x ['duration'] else \"\", axis = 1)"
      ],
      "execution_count": null,
      "outputs": []
    },
    {
      "cell_type": "markdown",
      "metadata": {
        "id": "LjZ1w4bcE8l1"
      },
      "source": [
        "1. แสดงจำนวนของ type ใน content ของ Netflix ทั้งหมด"
      ]
    },
    {
      "cell_type": "code",
      "metadata": {
        "id": "4lqYNXUeEcbf",
        "colab": {
          "base_uri": "https://localhost:8080/",
          "height": 86
        },
        "outputId": "e3d31588-f5c3-4923-c2b7-55f055ede1b2"
      },
      "source": [
        "data.groupby('type')['type'].count() "
      ],
      "execution_count": null,
      "outputs": [
        {
          "output_type": "execute_result",
          "data": {
            "text/plain": [
              "type\n",
              "Movie      4265\n",
              "TV Show    1969\n",
              "Name: type, dtype: int64"
            ]
          },
          "metadata": {
            "tags": []
          },
          "execution_count": 199
        }
      ]
    },
    {
      "cell_type": "markdown",
      "metadata": {
        "id": "TH16tpH9FIe_"
      },
      "source": [
        "2. แสดงจำนวน content (type) ที่ถูกเพิ่มลงใน Netflix ในแต่ละปี (year_added) "
      ]
    },
    {
      "cell_type": "code",
      "metadata": {
        "id": "lybsiU7rE9UF",
        "colab": {
          "base_uri": "https://localhost:8080/",
          "height": 449
        },
        "outputId": "56474472-8e97-486f-87f2-627b47667dec"
      },
      "source": [
        "# pd.set_option('display.max_rows', False)\n",
        "data['year_added'] = data['date_added'].str.replace(',', ' ').str.split().str[2]\n",
        "data.groupby(['year_added', 'type'])['type'].count()"
      ],
      "execution_count": null,
      "outputs": [
        {
          "output_type": "execute_result",
          "data": {
            "text/plain": [
              "year_added  type   \n",
              "2008        Movie         1\n",
              "            TV Show       1\n",
              "2009        Movie         2\n",
              "2010        Movie         1\n",
              "2011        Movie        13\n",
              "2012        Movie         4\n",
              "            TV Show       3\n",
              "2013        Movie         6\n",
              "            TV Show       6\n",
              "2014        Movie        19\n",
              "            TV Show       6\n",
              "2015        Movie        58\n",
              "            TV Show      32\n",
              "2016        Movie       264\n",
              "            TV Show     192\n",
              "2017        Movie       913\n",
              "            TV Show     387\n",
              "2018        Movie      1290\n",
              "            TV Show     492\n",
              "2019        Movie      1546\n",
              "            TV Show     803\n",
              "2020        Movie       147\n",
              "            TV Show      37\n",
              "Name: type, dtype: int64"
            ]
          },
          "metadata": {
            "tags": []
          },
          "execution_count": 176
        }
      ]
    },
    {
      "cell_type": "markdown",
      "metadata": {
        "id": "tfzHYvDGFfNi"
      },
      "source": [
        "3. นับจำนวน content แบบ tv show ที่ถูกเพิ่ม (date_added) ในแต่ละเดือนของทุกๆ ปีมากที่สุด "
      ]
    },
    {
      "cell_type": "code",
      "metadata": {
        "id": "PUdsL032FHj3",
        "colab": {
          "base_uri": "https://localhost:8080/",
          "height": 225
        },
        "outputId": "82ee638b-29d0-4636-af11-583be850e9cd"
      },
      "source": [
        "tv_ = data[data['type'] == 'TV Show']\n",
        "tv_.groupby(['year_added', 'type'])['type'].count()"
      ],
      "execution_count": null,
      "outputs": [
        {
          "output_type": "execute_result",
          "data": {
            "text/plain": [
              "year_added  type   \n",
              "2008        TV Show      1\n",
              "2012        TV Show      3\n",
              "2013        TV Show      6\n",
              "2014        TV Show      6\n",
              "2015        TV Show     32\n",
              "2016        TV Show    192\n",
              "2017        TV Show    387\n",
              "2018        TV Show    492\n",
              "2019        TV Show    803\n",
              "2020        TV Show     37\n",
              "Name: type, dtype: int64"
            ]
          },
          "metadata": {
            "tags": []
          },
          "execution_count": 177
        }
      ]
    },
    {
      "cell_type": "markdown",
      "metadata": {
        "id": "j5CEKB5ZGFeD"
      },
      "source": [
        "4. แสดงจำนวนประเภทที่มีจำนวน content ทั้งแบบ tv show และ movie บน Netflix ที่ฉาย (release_year) ตั้งแต่ปี 2010"
      ]
    },
    {
      "cell_type": "code",
      "metadata": {
        "id": "D57P5okVFgsK",
        "colab": {
          "base_uri": "https://localhost:8080/",
          "height": 86
        },
        "outputId": "d3277f5f-97f4-44b9-c2a2-8dc3950107f6"
      },
      "source": [
        "release_year = data[data['release_year'] >= 2010]\n",
        "release_year.groupby(['type'])['type'].count()"
      ],
      "execution_count": null,
      "outputs": [
        {
          "output_type": "execute_result",
          "data": {
            "text/plain": [
              "type\n",
              "Movie      3416\n",
              "TV Show    1814\n",
              "Name: type, dtype: int64"
            ]
          },
          "metadata": {
            "tags": []
          },
          "execution_count": 178
        }
      ]
    },
    {
      "cell_type": "markdown",
      "metadata": {
        "id": "qvlK5ZfxGkqz"
      },
      "source": [
        "5. แสดงนับจำนวนว่า TV show มีกี่จำนวนกี่ Seasons เรียงจากจำนวน Seasons จากมาไปน้อย"
      ]
    },
    {
      "cell_type": "code",
      "metadata": {
        "id": "BVE-eeEPGySV",
        "colab": {
          "base_uri": "https://localhost:8080/",
          "height": 311
        },
        "outputId": "b3369039-6709-41bb-d3e4-85a89e7c48d5"
      },
      "source": [
        "season_ = data[(data['type'] == 'TV Show') & (data.duration.str.contains(\"Season\"))]\n",
        "season_.groupby('duration')['duration'].count().sort_values(ascending=False)"
      ],
      "execution_count": null,
      "outputs": [
        {
          "output_type": "execute_result",
          "data": {
            "text/plain": [
              "duration\n",
              "1 Season      1321\n",
              "2 Seasons      304\n",
              "3 Seasons      158\n",
              "4 Seasons       61\n",
              "5 Seasons       46\n",
              "6 Seasons       22\n",
              "7 Seasons       21\n",
              "8 Seasons       16\n",
              "9 Seasons        7\n",
              "11 Seasons       3\n",
              "10 Seasons       3\n",
              "15 Seasons       2\n",
              "13 Seasons       2\n",
              "12 Seasons       2\n",
              "14 Seasons       1\n",
              "Name: duration, dtype: int64"
            ]
          },
          "metadata": {
            "tags": []
          },
          "execution_count": 179
        }
      ]
    },
    {
      "cell_type": "markdown",
      "metadata": {
        "id": "NtjCw1z7GiIE"
      },
      "source": [
        "6. แสดงนับจำนวน rating ของ content ที่เป็นทั้ง tv shows และ movies"
      ]
    },
    {
      "cell_type": "code",
      "metadata": {
        "id": "s78ZMp_ZHv8i",
        "colab": {
          "base_uri": "https://localhost:8080/",
          "height": 484
        },
        "outputId": "e0df27d2-105a-4c83-afb0-0bca477fa236"
      },
      "source": [
        "data.groupby(['type', 'rating'])['rating'].count()"
      ],
      "execution_count": null,
      "outputs": [
        {
          "output_type": "execute_result",
          "data": {
            "text/plain": [
              "type     rating  \n",
              "Movie    G             36\n",
              "         NC-17          2\n",
              "         NR           202\n",
              "         PG           183\n",
              "         PG-13        286\n",
              "         R            506\n",
              "         TV-14       1038\n",
              "         TV-G          80\n",
              "         TV-MA       1348\n",
              "         TV-PG        432\n",
              "         TV-Y          41\n",
              "         TV-Y7         69\n",
              "                     ... \n",
              "         UR             7\n",
              "TV Show  G              1\n",
              "         NR            16\n",
              "         PG             1\n",
              "         R              2\n",
              "         TV-14        660\n",
              "         TV-G          69\n",
              "         TV-MA        679\n",
              "         TV-PG        269\n",
              "         TV-Y         102\n",
              "         TV-Y7        100\n",
              "         TV-Y7-FV      68\n",
              "Name: rating, Length: 25, dtype: int64"
            ]
          },
          "metadata": {
            "tags": []
          },
          "execution_count": 180
        }
      ]
    },
    {
      "cell_type": "markdown",
      "metadata": {
        "id": "iKO9RmBiH3E9"
      },
      "source": [
        "7. แสดงจำนวนกลุ่มของ content ทั้งหมดมากที่สุดทั้งหมด 15 อันดับ"
      ]
    },
    {
      "cell_type": "code",
      "metadata": {
        "id": "oK_edu3XH2qP"
      },
      "source": [
        "data['listed_in'] = data['listed_in'].str.split(',')"
      ],
      "execution_count": null,
      "outputs": []
    },
    {
      "cell_type": "code",
      "metadata": {
        "id": "BGaTEr921lh_",
        "colab": {
          "base_uri": "https://localhost:8080/",
          "height": 498
        },
        "outputId": "2693e840-02a0-45f8-838c-32b7d46472c3"
      },
      "source": [
        "list_ = pd.Series([item for sublist in data.listed_in for item in sublist])\n",
        "cat = list_.value_counts().sort_index().rename_axis('categories').reset_index(name='count')\n",
        "cat.sort_values('count', ascending=False).head(15)"
      ],
      "execution_count": null,
      "outputs": [
        {
          "output_type": "execute_result",
          "data": {
            "text/html": [
              "<div>\n",
              "<style scoped>\n",
              "    .dataframe tbody tr th:only-of-type {\n",
              "        vertical-align: middle;\n",
              "    }\n",
              "\n",
              "    .dataframe tbody tr th {\n",
              "        vertical-align: top;\n",
              "    }\n",
              "\n",
              "    .dataframe thead th {\n",
              "        text-align: right;\n",
              "    }\n",
              "</style>\n",
              "<table border=\"1\" class=\"dataframe\">\n",
              "  <thead>\n",
              "    <tr style=\"text-align: right;\">\n",
              "      <th></th>\n",
              "      <th>categories</th>\n",
              "      <th>count</th>\n",
              "    </tr>\n",
              "  </thead>\n",
              "  <tbody>\n",
              "    <tr>\n",
              "      <th>13</th>\n",
              "      <td>International Movies</td>\n",
              "      <td>1842</td>\n",
              "    </tr>\n",
              "    <tr>\n",
              "      <th>49</th>\n",
              "      <td>Dramas</td>\n",
              "      <td>1077</td>\n",
              "    </tr>\n",
              "    <tr>\n",
              "      <th>44</th>\n",
              "      <td>Comedies</td>\n",
              "      <td>803</td>\n",
              "    </tr>\n",
              "    <tr>\n",
              "      <th>47</th>\n",
              "      <td>Documentaries</td>\n",
              "      <td>644</td>\n",
              "    </tr>\n",
              "    <tr>\n",
              "      <th>37</th>\n",
              "      <td>Action &amp; Adventure</td>\n",
              "      <td>597</td>\n",
              "    </tr>\n",
              "    <tr>\n",
              "      <th>53</th>\n",
              "      <td>International TV Shows</td>\n",
              "      <td>570</td>\n",
              "    </tr>\n",
              "    <tr>\n",
              "      <th>9</th>\n",
              "      <td>Dramas</td>\n",
              "      <td>546</td>\n",
              "    </tr>\n",
              "    <tr>\n",
              "      <th>30</th>\n",
              "      <td>TV Dramas</td>\n",
              "      <td>543</td>\n",
              "    </tr>\n",
              "    <tr>\n",
              "      <th>12</th>\n",
              "      <td>Independent Movies</td>\n",
              "      <td>534</td>\n",
              "    </tr>\n",
              "    <tr>\n",
              "      <th>14</th>\n",
              "      <td>International TV Shows</td>\n",
              "      <td>431</td>\n",
              "    </tr>\n",
              "    <tr>\n",
              "      <th>20</th>\n",
              "      <td>Romantic Movies</td>\n",
              "      <td>374</td>\n",
              "    </tr>\n",
              "    <tr>\n",
              "      <th>41</th>\n",
              "      <td>Children &amp; Family Movies</td>\n",
              "      <td>358</td>\n",
              "    </tr>\n",
              "    <tr>\n",
              "      <th>36</th>\n",
              "      <td>Thrillers</td>\n",
              "      <td>352</td>\n",
              "    </tr>\n",
              "    <tr>\n",
              "      <th>29</th>\n",
              "      <td>TV Comedies</td>\n",
              "      <td>347</td>\n",
              "    </tr>\n",
              "    <tr>\n",
              "      <th>4</th>\n",
              "      <td>Comedies</td>\n",
              "      <td>310</td>\n",
              "    </tr>\n",
              "  </tbody>\n",
              "</table>\n",
              "</div>"
            ],
            "text/plain": [
              "                  categories  count\n",
              "13      International Movies   1842\n",
              "49                    Dramas   1077\n",
              "44                  Comedies    803\n",
              "47             Documentaries    644\n",
              "37        Action & Adventure    597\n",
              "53    International TV Shows    570\n",
              "9                     Dramas    546\n",
              "30                 TV Dramas    543\n",
              "12        Independent Movies    534\n",
              "14    International TV Shows    431\n",
              "20           Romantic Movies    374\n",
              "41  Children & Family Movies    358\n",
              "36                 Thrillers    352\n",
              "29               TV Comedies    347\n",
              "4                   Comedies    310"
            ]
          },
          "metadata": {
            "tags": []
          },
          "execution_count": 182
        }
      ]
    },
    {
      "cell_type": "markdown",
      "metadata": {
        "id": "HXGhUtOXRT1y"
      },
      "source": [
        "8. แสดงรายชื่อนักแสดงภาพยนต์ (movie) ที่แสดงมากที่สุดโดยเรียงจากมากไปน้อย 10 อันดับ โดยเช็คว่าต้อง duration ของภาพยนตร์ไม่เท่ากับช่องว่าง (Null)"
      ]
    },
    {
      "cell_type": "code",
      "metadata": {
        "id": "PVntxBzgRTnj",
        "colab": {
          "base_uri": "https://localhost:8080/",
          "height": 225
        },
        "outputId": "4f85082c-0934-45cb-a76b-8c666f4de32a"
      },
      "source": [
        "movie_ = data[(data['type'] == 'Movie') & (data.director.notnull())]\n",
        "movie_.groupby('director')['director'].count().sort_values(ascending=False).head(10)"
      ],
      "execution_count": null,
      "outputs": [
        {
          "output_type": "execute_result",
          "data": {
            "text/plain": [
              "director\n",
              "Raúl Campos, Jan Suter    18\n",
              "Marcus Raboy              14\n",
              "Jay Karas                 13\n",
              "Jay Chapman               12\n",
              "Martin Scorsese            9\n",
              "Steven Spielberg           9\n",
              "Johnnie To                 8\n",
              "David Dhawan               8\n",
              "Lance Bangs                8\n",
              "Hakan Algül                7\n",
              "Name: director, dtype: int64"
            ]
          },
          "metadata": {
            "tags": []
          },
          "execution_count": 183
        }
      ]
    }
  ]
}