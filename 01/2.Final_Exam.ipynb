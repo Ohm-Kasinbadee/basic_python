{
  "nbformat": 4,
  "nbformat_minor": 0,
  "metadata": {
    "colab": {
      "name": "Tools_for_Data_Science_1_2020_Final_Exam.ipynb",
      "provenance": [],
      "collapsed_sections": [
        "oRmV-7kKePtT",
        "Fr5HaWlNeWbR"
      ]
    },
    "kernelspec": {
      "name": "python3",
      "display_name": "Python 3"
    }
  },
  "cells": [
    {
      "cell_type": "markdown",
      "metadata": {
        "id": "XdecOQTpDrh_"
      },
      "source": [
        "<h3> ข้อสอบปลายภาคเรียนที่ 1 ปีการศึกษา 2563 <BR>\n",
        "วิชา Tools for Data Science </h3>\n",
        "**เวลาสอบ 13.00-16.00 น.**\n",
        "\n",
        "คำชี้แจง \n",
        "1. ข้อสอบมีจำนวน 3 ข้อใหญ่ แต่ละข้อใหญ่ประกอบด้วย 5 ข้อย่อย คะแนนรวม 15 คะแนน (ข้อย่อยที่ 1 และ 2 ข้อละ 1.5 คะแนน, ข้อย่อยที่ 3,4 ข้อละ 3 คะแนน และข้อย่อยที่ 5 ข้อละ 6 คะแนน)\n",
        "2. ให้นิสิตเขียนโปรแกรมตามคำถามแต่ละข้อลงในไฟล์นี้ และเมื่อทำเสร็จให้ download file ในนามสกุล ipynb เพื่อจัดส่งคำตอบใน google classroom **ห้ามทำการส่งเป็น link เด็ดขาด**\n",
        "\n",
        "\n",
        "ชุดข้อมูล <br>\n",
        "ข้อที่ 1: https://raw.githubusercontent.com/ABChamp/python_programming_buu_class/master/data/datasert1.csv <br>\n",
        "ข้อที่ 2: https://raw.githubusercontent.com/ABChamp/python_programming_buu_class/master/data/dataset2.csv<br>\n",
        "ข้อที่ 3: https://raw.githubusercontent.com/ABChamp/python_programming_buu_class/master/data/dataset3.csv<br>"
      ]
    },
    {
      "cell_type": "code",
      "metadata": {
        "id": "ZHu1rKxeYq8S"
      },
      "source": [
        "import pandas as pd"
      ],
      "execution_count": 4,
      "outputs": []
    },
    {
      "cell_type": "markdown",
      "source": [
        "# ข้อที่ 1: Google Job Skill"
      ],
      "metadata": {
        "id": "oRmV-7kKePtT"
      }
    },
    {
      "cell_type": "markdown",
      "metadata": {
        "id": "c8Dr4HR7Dz-v"
      },
      "source": [
        "<h3> <b> ข้อที่ 1: Google Job Skill </b> </h3>\n",
        "\n",
        "data shape : 5 columns, 1250 rows\n",
        "<table>\n",
        "  <tr>\n",
        "  <td> Name </td>\n",
        "  <td> Description </td>\n",
        "  </tr>\n",
        "  <tr>\n",
        "    <td>Title</td>\n",
        "    <td>The title of the job</td>\n",
        "  </tr>\n",
        "  <tr>\n",
        "    <td> Category </td>\n",
        "    <td> Category of the job </td>\n",
        "  </tr>\n",
        "  <tr>\n",
        "    <td> Location </td>\n",
        "    <td> Location of the job </td>\n",
        "  </tr>\n",
        "  <tr>\n",
        "    <td> Responsibilities </td>\n",
        "    <td> Responsibilities for the job </td>\n",
        "  </tr>\n",
        "  <tr>\n",
        "    <td> Minimum Qualifications </td>\n",
        "    <td> Minimum Qualifications for the job </td>\n",
        "  </tr>\n",
        "  <tr>\n",
        "    <td> Preferred Qualifications </td>\n",
        "    <td> Preferred Qualifications for the job </td>\n",
        "  </tr>\n",
        "</table>\n"
      ]
    },
    {
      "cell_type": "code",
      "source": [
        "from google.colab import drive\n",
        "drive.mount('/content/drive')"
      ],
      "metadata": {
        "colab": {
          "base_uri": "https://localhost:8080/"
        },
        "id": "hUioG7DK-CTC",
        "outputId": "add7f871-a0f2-4d34-9a01-6ed4652d650b"
      },
      "execution_count": 5,
      "outputs": [
        {
          "output_type": "stream",
          "name": "stdout",
          "text": [
            "Drive already mounted at /content/drive; to attempt to forcibly remount, call drive.mount(\"/content/drive\", force_remount=True).\n"
          ]
        }
      ]
    },
    {
      "cell_type": "code",
      "source": [
        "path1 = '/content/drive/MyDrive/pandas/tool data sci/job_skills.csv'\n",
        "df = pd.read_csv(path1)\n",
        "df = df.rename(columns=lambda x: x.strip())\n",
        "df = df.rename(columns=lambda x: x.lower())\n",
        "df = df.apply(lambda col: col.str.lower())\n",
        "df = df.rename({'minimum qualifications': 'minimum_qualifications', 'preferred qualifications': 'preferred_qualifications'}, axis='columns')\n",
        "df = df.fillna('null')"
      ],
      "metadata": {
        "id": "JbVSjreC96UH"
      },
      "execution_count": 6,
      "outputs": []
    },
    {
      "cell_type": "code",
      "metadata": {
        "id": "tTt0IOw0axYq"
      },
      "source": [
        "# df\n",
        "# df.info()\n",
        "# df.isnull().sum()\n",
        "# df.describe()"
      ],
      "execution_count": 7,
      "outputs": []
    },
    {
      "cell_type": "markdown",
      "metadata": {
        "id": "zXNXAWStazOY"
      },
      "source": [
        "**1.1 มีจำนวนกี่บริษัท (Company) ที่เปิดรับพนักงาน และมีตำแหน่งรวมกันกี่ตำแหน่ง (นับรวมทุกตำแหน่งตาม Title)**\n",
        "\n",
        "\n",
        "\n"
      ]
    },
    {
      "cell_type": "code",
      "source": [
        "company = list(df.groupby(['company'])['company'].first())\n",
        "df1 = df.groupby('company')['title'].apply(list).reset_index(name='title')\n",
        "count_com = int(df1.company.count())\n",
        "\n",
        "title_sum = 0\n",
        "for x in company:\n",
        "  title_sum += len((list(df1[(df1['company'] == company)].title))[0])\n",
        "\n",
        "print('มีจำนวนกี่บริษัท(Company)ที่เปิดรับพนักงาน : ', len(company), 'บริษัท และมีตำแหน่งรวมกันกี่ตำแหน่ง :', title_sum, 'ตำแหน่ง')"
      ],
      "metadata": {
        "colab": {
          "base_uri": "https://localhost:8080/"
        },
        "id": "2c0oygupJEPi",
        "outputId": "dd9dd05e-b0cd-44b0-bc5e-c543d1fb745c"
      },
      "execution_count": 8,
      "outputs": [
        {
          "output_type": "stream",
          "name": "stdout",
          "text": [
            "มีจำนวนกี่บริษัท(Company)ที่เปิดรับพนักงาน :  2 บริษัท และมีตำแหน่งรวมกันกี่ตำแหน่ง : 2454 ตำแหน่ง\n"
          ]
        }
      ]
    },
    {
      "cell_type": "markdown",
      "metadata": {
        "id": "TAvRl2eHbTPj"
      },
      "source": [
        "**1.2 ในประเทศ Singapore มีกลุ่มของตำแหน่ง (Category) ที่เปิดรับพนักงาน อะไรบ้าง และมีจำนวนกี่ตำแหน่ง**"
      ]
    },
    {
      "cell_type": "code",
      "metadata": {
        "id": "--EMfjLia3Cz",
        "colab": {
          "base_uri": "https://localhost:8080/"
        },
        "outputId": "71f2d4f8-9dcb-45bb-8658-c6db5ebb76f2"
      },
      "source": [
        "df2 = df[df['location'] == 'singapore'].groupby('category').first()\n",
        "print('ในประเทศ Singapore มีกลุ่มของตำแหน่ง (Category) ที่เปิดรับพนักงาน ได้แก่ : ', df2.index.tolist())\n",
        "print('และมีจำนวนทั้งหมด : ', len(df2.index.tolist()))"
      ],
      "execution_count": 9,
      "outputs": [
        {
          "output_type": "stream",
          "name": "stdout",
          "text": [
            "ในประเทศ Singapore มีกลุ่มของตำแหน่ง (Category) ที่เปิดรับพนักงาน ได้แก่ :  ['administrative', 'business strategy', 'finance', 'legal & government relations', 'partnerships', 'people operations', 'product & customer support', 'program management', 'sales & account management', 'sales operations', 'technical solutions', 'user experience & design']\n",
            "และมีจำนวนทั้งหมด :  12\n"
          ]
        }
      ]
    },
    {
      "cell_type": "markdown",
      "metadata": {
        "id": "q7geXXWVfO1k"
      },
      "source": [
        "**1.3 รายชื่อตำแหน่งงาน (Title) ที่มีจำเป็นตัองมีคุณสมบัติด้านวุฒิการศึกษา (Minimun Qualifications) อย่างน้อยปริญญาโท (Master Degree)**"
      ]
    },
    {
      "cell_type": "code",
      "metadata": {
        "id": "M9MeqIWZc7rn",
        "colab": {
          "base_uri": "https://localhost:8080/"
        },
        "outputId": "9732673c-f7aa-4fd0-d5b2-cb8bfe50f4b0"
      },
      "source": [
        "list_word = ['null','ba/bs degree ', 'bs degree', 'ba/bs', 'bachelor’s degree', \"bachelor's degree\", 'ba degree', \"bachelor's\"]\n",
        "degree = df[df.minimum_qualifications.str.contains('degree')] # -> select keyword 'degree'\n",
        "filter_degree = degree[~degree.minimum_qualifications.str.contains('|'.join(list_word))]\n",
        "\n",
        "list_title = []\n",
        "for x in filter_degree.title.tolist():\n",
        "  job = x.split(',')\n",
        "  for y in job:\n",
        "    list_title.append(y.strip())\n",
        "\n",
        "print('รายชื่อตำแหน่งงาน (Title) มีดังนี้ : ')\n",
        "number = 0\n",
        "for x in list(set(list_title)):\n",
        "  number += 1\n",
        "  print(number,'.', x)"
      ],
      "execution_count": 10,
      "outputs": [
        {
          "output_type": "stream",
          "name": "stdout",
          "text": [
            "รายชื่อตำแหน่งงาน (Title) มีดังนี้ : \n",
            "1 . virtual prototyping\n",
            "2 . portfolio strategist\n",
            "3 . phone accessories (google hardware)\n",
            "4 . partner strategy planning lead\n",
            "5 . counsel\n",
            "6 . consumer hardware\n",
            "7 . performance modeling\n",
            "8 . phones business\n",
            "9 . enforcement analyst\n",
            "10 . business strategy lead\n",
            "11 . mandarin)\n",
            "12 . quantitative analyst\n",
            "13 . trust and safety\n",
            "14 . associate commercial counsel\n",
            "15 . play\n",
            "16 . quantitative user experience research lead\n",
            "17 . software engineer\n",
            "18 . engineering\n",
            "19 . ethics and compliance associate counsel\n",
            "20 . cell design and process engineer\n",
            "21 . user experience researcher\n",
            "22 . regulatory investigations\n",
            "23 . associate product counsel\n",
            "24 . quantitative analyst lead\n",
            "25 . google cloud\n",
            "26 . google cloud support\n",
            "27 . lead data scientist\n",
            "28 . display technology lead\n",
            "29 . us political law\n",
            "30 . trademark counsel\n",
            "31 . data scientist / quantitative analyst technical lead\n",
            "32 . consumer hardware products\n",
            "33 . ux researcher (english\n",
            "34 . network business analyst\n",
            "35 . image processing\n",
            "36 . youtube\n",
            "37 . customer experience data scientist\n",
            "38 . strategy and operations manager\n"
          ]
        }
      ]
    },
    {
      "cell_type": "markdown",
      "metadata": {
        "id": "lCOUrJhgfF7N"
      },
      "source": [
        "\n",
        "**1.4 แสดงรายชื่อประเทศ (Location) ที่ประกาศรับสมัครพนักงานมากที่สุด 5 อันดับจากมากไปน้อย**  \n"
      ]
    },
    {
      "cell_type": "code",
      "metadata": {
        "id": "AKkcHEBtcPnd",
        "colab": {
          "base_uri": "https://localhost:8080/",
          "height": 206
        },
        "outputId": "37511aca-7c6c-4991-d9de-08d428e2cbeb"
      },
      "source": [
        "df3 = df.copy()\n",
        "df3[\"location\"] = df3[\"location\"].str.split(\",\")\n",
        "df3 = df3.explode(\"location\").reset_index(drop=True)\n",
        "\n",
        "df3 = df3.groupby(df3.location.tolist(),as_index=False).size()\n",
        "df3 = df3.rename({'index': 'location', 'size': 'count'}, axis='columns')\n",
        "df3 = df3.sort_values('count', ascending=False).head(5).reset_index()\n",
        "df3 = df3.drop('index', 1)\n",
        "df3"
      ],
      "execution_count": 11,
      "outputs": [
        {
          "output_type": "execute_result",
          "data": {
            "text/html": [
              "<div>\n",
              "<style scoped>\n",
              "    .dataframe tbody tr th:only-of-type {\n",
              "        vertical-align: middle;\n",
              "    }\n",
              "\n",
              "    .dataframe tbody tr th {\n",
              "        vertical-align: top;\n",
              "    }\n",
              "\n",
              "    .dataframe thead th {\n",
              "        text-align: right;\n",
              "    }\n",
              "</style>\n",
              "<table border=\"1\" class=\"dataframe\">\n",
              "  <thead>\n",
              "    <tr style=\"text-align: right;\">\n",
              "      <th></th>\n",
              "      <th>location</th>\n",
              "      <th>count</th>\n",
              "    </tr>\n",
              "  </thead>\n",
              "  <tbody>\n",
              "    <tr>\n",
              "      <th>0</th>\n",
              "      <td>united states</td>\n",
              "      <td>638</td>\n",
              "    </tr>\n",
              "    <tr>\n",
              "      <th>1</th>\n",
              "      <td>ca</td>\n",
              "      <td>449</td>\n",
              "    </tr>\n",
              "    <tr>\n",
              "      <th>2</th>\n",
              "      <td>mountain view</td>\n",
              "      <td>190</td>\n",
              "    </tr>\n",
              "    <tr>\n",
              "      <th>3</th>\n",
              "      <td>sunnyvale</td>\n",
              "      <td>155</td>\n",
              "    </tr>\n",
              "    <tr>\n",
              "      <th>4</th>\n",
              "      <td>ireland</td>\n",
              "      <td>87</td>\n",
              "    </tr>\n",
              "  </tbody>\n",
              "</table>\n",
              "</div>"
            ],
            "text/plain": [
              "         location  count\n",
              "0   united states    638\n",
              "1              ca    449\n",
              "2   mountain view    190\n",
              "3       sunnyvale    155\n",
              "4         ireland     87"
            ]
          },
          "metadata": {},
          "execution_count": 11
        }
      ]
    },
    {
      "cell_type": "markdown",
      "metadata": {
        "id": "QJ9FeZl_fsya"
      },
      "source": [
        "**1.5 ความถี่สะสมของคำ (word) ที่เกิดขึ้นในคุณสมบัติเฉพาะตำแหน่ง (Preferred Qualification) สำหรับในรายการตำแหน่ง (Title) ที่มีคำว่า \"Engineering\" มีจำนวนเท่าไร**\n",
        "\n",
        "    1.5.1 แสดงผลเป็นกราฟแท่ง เรียงลำดับจากมากไปน้อย \n",
        "    1.5.2 การแสดงผลในข้อ 1.5.1 จะไม่รวมความถี่สะสม ของคำต่อไปนี้ \"a\", \"an\", \"the\", \"and\", \"or\", \"of\", \"with\", \"to\", \"is\",  \"am\", \"are\", \"as\", \"in\" \n",
        "    1.5.3 ไม่รวมเครื่องหมายพิเศษเช่น \\n (new line) , \".\" (dot), \",\" (comma) "
      ]
    },
    {
      "cell_type": "code",
      "metadata": {
        "id": "5LamVWtvfslM"
      },
      "source": [
        "df4 = df.copy()\n",
        "df4 = df4[df4.title.str.contains('engineering')]\n",
        "\n",
        "df4[\"preferred_qualifications\"] = df4[\"preferred_qualifications\"].str.split()\n",
        "list_pq = df4.preferred_qualifications.tolist()\n",
        "flat_list = [item for sublist in list_pq for item in sublist]\n",
        "# print(flat_list)\n",
        "\n",
        "from collections import Counter\n",
        "counts = dict(Counter(flat_list))\n",
        "# print(type(counts))\n",
        "\n",
        "df5 = pd.DataFrame(list(counts.items()))\n",
        "df5 = df5.rename({0: 'word', 1: 'count'}, axis='columns')\n",
        "df5 = df5.sort_values('count', ascending=True).reset_index()\n",
        "df5 = df5.drop(columns=['index'])\n",
        "# df5"
      ],
      "execution_count": 12,
      "outputs": []
    },
    {
      "cell_type": "code",
      "source": [
        "import matplotlib.pyplot as plt\n",
        "\n",
        "# ax = df5.plot.bar(x='word', y='count', rot=0)\n",
        "# ax = df5.plot.barh(x='word', y='count', figsize=(20,200)) ## horizontal bar chart"
      ],
      "metadata": {
        "id": "g7YJNJJubOaW"
      },
      "execution_count": 13,
      "outputs": []
    },
    {
      "cell_type": "code",
      "source": [
        "list_word = [\"a\", \"an\", \"the\", \"and\", \"or\", \"of\", \"with\", \"to\", \"is\",  \"am\", \"are\", \"as\", \"in\" ]\n",
        "filter_df5 = df5[~df5.word.str.contains('|'.join(list_word))]\n",
        "# filter_df5\n",
        "\n",
        "filter_df5 = filter_df5.sort_values('count', ascending=True).reset_index()\n",
        "filter_df5 = filter_df5.drop(columns=['index'])\n",
        "# filter_df5\n",
        "\n",
        "# ax = filter_df5.plot.barh(x='word', y='count', figsize=(20,100)) ## horizontal bar chart"
      ],
      "metadata": {
        "id": "j4UDbDA_bMG3"
      },
      "execution_count": 14,
      "outputs": []
    },
    {
      "cell_type": "code",
      "source": [
        "list_word = [\"\\n\", \"\\.\", \",\"]\n",
        "filter_df5 = df5[~df5.word.str.contains('|'.join(list_word))]\n",
        "# filter_df5\n",
        "\n",
        "filter_df5 = filter_df5.sort_values('count', ascending=True).reset_index()\n",
        "filter_df5 = filter_df5.drop(columns=['index'])\n",
        "# filter_df5\n",
        "\n",
        "# ax = filter_df5.plot.barh(x='word', y='count', figsize=(20,100)) ## horizontal bar chart"
      ],
      "metadata": {
        "id": "Op8HA4JUc6Ug"
      },
      "execution_count": 15,
      "outputs": []
    },
    {
      "cell_type": "markdown",
      "source": [
        "# ข้อที่ 2: Coursera Course Dataset"
      ],
      "metadata": {
        "id": "ZeQ2H-3PeS4D"
      }
    },
    {
      "cell_type": "markdown",
      "metadata": {
        "id": "Go4vX8-mEyYm"
      },
      "source": [
        "<h3><b> ข้อที่ 2: Coursera Course Dataset </b> </h3>\n",
        "data shape : 6 columns, 890 rows\n",
        "\n",
        "<table>\n",
        "  <tr>\n",
        "    <td> Name </td>\n",
        "    <td> Description </td>\n",
        "  </tr>\n",
        "  <tr>\n",
        "    <td> course_title </td>\n",
        "    <td> Contains the course title. </td>\n",
        "  </tr>\n",
        "  <tr>\n",
        "    <td> course_organization </td>\n",
        "    <td> It tells which organization is conducting the courses. </td>\n",
        "  </tr>\n",
        "   <tr>\n",
        "    <td> courseCertificatetype </td>\n",
        "    <td> It has details about what are the different certifications available in courses. </td>\n",
        "  </tr>\n",
        "  <tr>\n",
        "    <td> course_rating </td>\n",
        "    <td> It has the ratings associated with each course. </td>\n",
        "  </tr>\n",
        "    <tr>\n",
        "    <td> course_difficulty </td>\n",
        "    <td> It tells about how difficult or what is the level of the course. </td>\n",
        "  </tr>\n",
        "    <tr>\n",
        "    <td> coursestudentsenrolled </td>\n",
        "    <td> It has the number of students that are enrolled in the course.</td>\n",
        "  </tr>\n",
        "\n",
        "</table>\n"
      ]
    },
    {
      "cell_type": "code",
      "metadata": {
        "id": "cHIO18OjE1Bx"
      },
      "source": [
        "path1 = '/content/drive/MyDrive/pandas/tool data sci/coursea_data.csv'\n",
        "df = pd.read_csv(path1)\n",
        "df = df.rename(columns=lambda x: x.strip())\n",
        "df = df.rename(columns=lambda x: x.lower()) ## convert str all columns is lower.\n",
        "df['unnamed: 0']= df['unnamed: 0'].astype(str) ## convert type columns.\n",
        "df['course_rating']= df['course_rating'].astype(str) ## convert type columns.\n",
        "df = df.apply(lambda col: col.str.lower()) ## convert str all row is lower.\n",
        "df['unnamed: 0']= df['unnamed: 0'].astype(int) ## convert type columns.\n",
        "df['course_rating']= df['course_rating'].astype(float) ## convert type columns."
      ],
      "execution_count": 16,
      "outputs": []
    },
    {
      "cell_type": "code",
      "source": [
        "df.head()\n",
        "# df.info()\n",
        "# df.isnull().sum()\n",
        "# df.describe()"
      ],
      "metadata": {
        "colab": {
          "base_uri": "https://localhost:8080/",
          "height": 206
        },
        "id": "wy8D4wHkegH-",
        "outputId": "92a73343-3744-49d0-8488-ec09766ac910"
      },
      "execution_count": 17,
      "outputs": [
        {
          "output_type": "execute_result",
          "data": {
            "text/html": [
              "<div>\n",
              "<style scoped>\n",
              "    .dataframe tbody tr th:only-of-type {\n",
              "        vertical-align: middle;\n",
              "    }\n",
              "\n",
              "    .dataframe tbody tr th {\n",
              "        vertical-align: top;\n",
              "    }\n",
              "\n",
              "    .dataframe thead th {\n",
              "        text-align: right;\n",
              "    }\n",
              "</style>\n",
              "<table border=\"1\" class=\"dataframe\">\n",
              "  <thead>\n",
              "    <tr style=\"text-align: right;\">\n",
              "      <th></th>\n",
              "      <th>unnamed: 0</th>\n",
              "      <th>course_title</th>\n",
              "      <th>course_organization</th>\n",
              "      <th>course_certificate_type</th>\n",
              "      <th>course_rating</th>\n",
              "      <th>course_difficulty</th>\n",
              "      <th>course_students_enrolled</th>\n",
              "    </tr>\n",
              "  </thead>\n",
              "  <tbody>\n",
              "    <tr>\n",
              "      <th>0</th>\n",
              "      <td>134</td>\n",
              "      <td>(isc)² systems security certified practitioner...</td>\n",
              "      <td>(isc)²</td>\n",
              "      <td>specialization</td>\n",
              "      <td>4.7</td>\n",
              "      <td>beginner</td>\n",
              "      <td>5.3k</td>\n",
              "    </tr>\n",
              "    <tr>\n",
              "      <th>1</th>\n",
              "      <td>743</td>\n",
              "      <td>a crash course in causality:  inferring causal...</td>\n",
              "      <td>university of pennsylvania</td>\n",
              "      <td>course</td>\n",
              "      <td>4.7</td>\n",
              "      <td>intermediate</td>\n",
              "      <td>17k</td>\n",
              "    </tr>\n",
              "    <tr>\n",
              "      <th>2</th>\n",
              "      <td>874</td>\n",
              "      <td>a crash course in data science</td>\n",
              "      <td>johns hopkins university</td>\n",
              "      <td>course</td>\n",
              "      <td>4.5</td>\n",
              "      <td>mixed</td>\n",
              "      <td>130k</td>\n",
              "    </tr>\n",
              "    <tr>\n",
              "      <th>3</th>\n",
              "      <td>413</td>\n",
              "      <td>a law student's toolkit</td>\n",
              "      <td>yale university</td>\n",
              "      <td>course</td>\n",
              "      <td>4.7</td>\n",
              "      <td>mixed</td>\n",
              "      <td>91k</td>\n",
              "    </tr>\n",
              "    <tr>\n",
              "      <th>4</th>\n",
              "      <td>635</td>\n",
              "      <td>a life of happiness and fulfillment</td>\n",
              "      <td>indian school of business</td>\n",
              "      <td>course</td>\n",
              "      <td>4.8</td>\n",
              "      <td>mixed</td>\n",
              "      <td>320k</td>\n",
              "    </tr>\n",
              "  </tbody>\n",
              "</table>\n",
              "</div>"
            ],
            "text/plain": [
              "   unnamed: 0  ... course_students_enrolled\n",
              "0         134  ...                     5.3k\n",
              "1         743  ...                      17k\n",
              "2         874  ...                     130k\n",
              "3         413  ...                      91k\n",
              "4         635  ...                     320k\n",
              "\n",
              "[5 rows x 7 columns]"
            ]
          },
          "metadata": {},
          "execution_count": 17
        }
      ]
    },
    {
      "cell_type": "markdown",
      "metadata": {
        "id": "j_qqUZZw9mdQ"
      },
      "source": [
        "**2.1 แสดงรายการและจำนวนของ Certificate_type แบ่งกลุ่มตามระดับ(course_difficulty)**"
      ]
    },
    {
      "cell_type": "code",
      "metadata": {
        "id": "5isU9Cj_9n7f",
        "colab": {
          "base_uri": "https://localhost:8080/"
        },
        "outputId": "2d2a0ba2-24be-4eb4-aa85-f277b5c2f9b7"
      },
      "source": [
        "#group by cat and count value count.\n",
        "df.groupby('course_difficulty')['course_certificate_type'].value_counts()"
      ],
      "execution_count": 18,
      "outputs": [
        {
          "output_type": "execute_result",
          "data": {
            "text/plain": [
              "course_difficulty  course_certificate_type \n",
              "advanced           specialization               10\n",
              "                   course                        9\n",
              "beginner           course                      282\n",
              "                   specialization              196\n",
              "                   professional certificate      9\n",
              "intermediate       course                      104\n",
              "                   specialization               91\n",
              "                   professional certificate      3\n",
              "mixed              course                      187\n",
              "Name: course_certificate_type, dtype: int64"
            ]
          },
          "metadata": {},
          "execution_count": 18
        }
      ]
    },
    {
      "cell_type": "markdown",
      "metadata": {
        "id": "LijBqxcc_pPW"
      },
      "source": [
        "\n",
        "**2.2 แสดงแถวข้อมูลที่จากสถาบันการศึกษา (course_organization) ที่มีชื่อ deeplearning.ai โดยเรียงจากคะแนน rating จากมากไปน้อย** "
      ]
    },
    {
      "cell_type": "code",
      "metadata": {
        "id": "dVA78cQg_pCp",
        "colab": {
          "base_uri": "https://localhost:8080/",
          "height": 551
        },
        "outputId": "0100bb54-f249-4ccb-b175-cff34279d5be"
      },
      "source": [
        "df[df.course_organization.str.contains('deeplearning.ai')].sort_values('course_rating', ascending=False)"
      ],
      "execution_count": 19,
      "outputs": [
        {
          "output_type": "execute_result",
          "data": {
            "text/html": [
              "<div>\n",
              "<style scoped>\n",
              "    .dataframe tbody tr th:only-of-type {\n",
              "        vertical-align: middle;\n",
              "    }\n",
              "\n",
              "    .dataframe tbody tr th {\n",
              "        vertical-align: top;\n",
              "    }\n",
              "\n",
              "    .dataframe thead th {\n",
              "        text-align: right;\n",
              "    }\n",
              "</style>\n",
              "<table border=\"1\" class=\"dataframe\">\n",
              "  <thead>\n",
              "    <tr style=\"text-align: right;\">\n",
              "      <th></th>\n",
              "      <th>unnamed: 0</th>\n",
              "      <th>course_title</th>\n",
              "      <th>course_organization</th>\n",
              "      <th>course_certificate_type</th>\n",
              "      <th>course_rating</th>\n",
              "      <th>course_difficulty</th>\n",
              "      <th>course_students_enrolled</th>\n",
              "    </tr>\n",
              "  </thead>\n",
              "  <tbody>\n",
              "    <tr>\n",
              "      <th>162</th>\n",
              "      <td>207</td>\n",
              "      <td>convolutional neural networks</td>\n",
              "      <td>deeplearning.ai</td>\n",
              "      <td>course</td>\n",
              "      <td>4.9</td>\n",
              "      <td>intermediate</td>\n",
              "      <td>240k</td>\n",
              "    </tr>\n",
              "    <tr>\n",
              "      <th>427</th>\n",
              "      <td>123</td>\n",
              "      <td>improving deep neural networks: hyperparameter...</td>\n",
              "      <td>deeplearning.ai</td>\n",
              "      <td>course</td>\n",
              "      <td>4.9</td>\n",
              "      <td>beginner</td>\n",
              "      <td>270k</td>\n",
              "    </tr>\n",
              "    <tr>\n",
              "      <th>626</th>\n",
              "      <td>62</td>\n",
              "      <td>neural networks and deep learning</td>\n",
              "      <td>deeplearning.ai</td>\n",
              "      <td>course</td>\n",
              "      <td>4.9</td>\n",
              "      <td>intermediate</td>\n",
              "      <td>630k</td>\n",
              "    </tr>\n",
              "    <tr>\n",
              "      <th>6</th>\n",
              "      <td>54</td>\n",
              "      <td>ai for everyone</td>\n",
              "      <td>deeplearning.ai</td>\n",
              "      <td>course</td>\n",
              "      <td>4.8</td>\n",
              "      <td>beginner</td>\n",
              "      <td>350k</td>\n",
              "    </tr>\n",
              "    <tr>\n",
              "      <th>7</th>\n",
              "      <td>488</td>\n",
              "      <td>ai for medical treatment</td>\n",
              "      <td>deeplearning.ai</td>\n",
              "      <td>course</td>\n",
              "      <td>4.8</td>\n",
              "      <td>intermediate</td>\n",
              "      <td>2.4k</td>\n",
              "    </tr>\n",
              "    <tr>\n",
              "      <th>211</th>\n",
              "      <td>5</td>\n",
              "      <td>deep learning</td>\n",
              "      <td>deeplearning.ai</td>\n",
              "      <td>specialization</td>\n",
              "      <td>4.8</td>\n",
              "      <td>intermediate</td>\n",
              "      <td>690k</td>\n",
              "    </tr>\n",
              "    <tr>\n",
              "      <th>723</th>\n",
              "      <td>285</td>\n",
              "      <td>sequence models</td>\n",
              "      <td>deeplearning.ai</td>\n",
              "      <td>course</td>\n",
              "      <td>4.8</td>\n",
              "      <td>intermediate</td>\n",
              "      <td>14k</td>\n",
              "    </tr>\n",
              "    <tr>\n",
              "      <th>763</th>\n",
              "      <td>189</td>\n",
              "      <td>structuring machine learning projects</td>\n",
              "      <td>deeplearning.ai</td>\n",
              "      <td>course</td>\n",
              "      <td>4.8</td>\n",
              "      <td>beginner</td>\n",
              "      <td>220k</td>\n",
              "    </tr>\n",
              "    <tr>\n",
              "      <th>9</th>\n",
              "      <td>129</td>\n",
              "      <td>ai for medical diagnosis</td>\n",
              "      <td>deeplearning.ai</td>\n",
              "      <td>course</td>\n",
              "      <td>4.7</td>\n",
              "      <td>intermediate</td>\n",
              "      <td>12k</td>\n",
              "    </tr>\n",
              "    <tr>\n",
              "      <th>11</th>\n",
              "      <td>35</td>\n",
              "      <td>ai for medicine</td>\n",
              "      <td>deeplearning.ai</td>\n",
              "      <td>specialization</td>\n",
              "      <td>4.7</td>\n",
              "      <td>intermediate</td>\n",
              "      <td>13k</td>\n",
              "    </tr>\n",
              "    <tr>\n",
              "      <th>163</th>\n",
              "      <td>358</td>\n",
              "      <td>convolutional neural networks in tensorflow</td>\n",
              "      <td>deeplearning.ai</td>\n",
              "      <td>course</td>\n",
              "      <td>4.7</td>\n",
              "      <td>intermediate</td>\n",
              "      <td>46k</td>\n",
              "    </tr>\n",
              "    <tr>\n",
              "      <th>520</th>\n",
              "      <td>230</td>\n",
              "      <td>introduction to tensorflow for artificial inte...</td>\n",
              "      <td>deeplearning.ai</td>\n",
              "      <td>course</td>\n",
              "      <td>4.7</td>\n",
              "      <td>intermediate</td>\n",
              "      <td>150k</td>\n",
              "    </tr>\n",
              "    <tr>\n",
              "      <th>787</th>\n",
              "      <td>27</td>\n",
              "      <td>tensorflow in practice</td>\n",
              "      <td>deeplearning.ai</td>\n",
              "      <td>specialization</td>\n",
              "      <td>4.7</td>\n",
              "      <td>intermediate</td>\n",
              "      <td>170k</td>\n",
              "    </tr>\n",
              "    <tr>\n",
              "      <th>10</th>\n",
              "      <td>283</td>\n",
              "      <td>ai for medical prognosis</td>\n",
              "      <td>deeplearning.ai</td>\n",
              "      <td>course</td>\n",
              "      <td>4.6</td>\n",
              "      <td>intermediate</td>\n",
              "      <td>4k</td>\n",
              "    </tr>\n",
              "    <tr>\n",
              "      <th>621</th>\n",
              "      <td>431</td>\n",
              "      <td>natural language processing in tensorflow</td>\n",
              "      <td>deeplearning.ai</td>\n",
              "      <td>course</td>\n",
              "      <td>4.6</td>\n",
              "      <td>intermediate</td>\n",
              "      <td>40k</td>\n",
              "    </tr>\n",
              "    <tr>\n",
              "      <th>788</th>\n",
              "      <td>217</td>\n",
              "      <td>tensorflow: data and deployment</td>\n",
              "      <td>deeplearning.ai</td>\n",
              "      <td>specialization</td>\n",
              "      <td>4.5</td>\n",
              "      <td>intermediate</td>\n",
              "      <td>12k</td>\n",
              "    </tr>\n",
              "  </tbody>\n",
              "</table>\n",
              "</div>"
            ],
            "text/plain": [
              "     unnamed: 0  ... course_students_enrolled\n",
              "162         207  ...                     240k\n",
              "427         123  ...                     270k\n",
              "626          62  ...                     630k\n",
              "6            54  ...                     350k\n",
              "7           488  ...                     2.4k\n",
              "211           5  ...                     690k\n",
              "723         285  ...                      14k\n",
              "763         189  ...                     220k\n",
              "9           129  ...                      12k\n",
              "11           35  ...                      13k\n",
              "163         358  ...                      46k\n",
              "520         230  ...                     150k\n",
              "787          27  ...                     170k\n",
              "10          283  ...                       4k\n",
              "621         431  ...                      40k\n",
              "788         217  ...                      12k\n",
              "\n",
              "[16 rows x 7 columns]"
            ]
          },
          "metadata": {},
          "execution_count": 19
        }
      ]
    },
    {
      "cell_type": "markdown",
      "metadata": {
        "id": "mxbp4DHT_rN-"
      },
      "source": [
        "**2.3 แสดงรายชื่อวิชา (Course Title) (ที่มีคำ \"Python\" หรือ \"AI\") ที่ระดับความยาก (course_difficulty)  เป็น Beginner ที่มี rating สูงสุด 5 อันดับแรก**"
      ]
    },
    {
      "cell_type": "code",
      "metadata": {
        "id": "qgKIC_vu_qpK",
        "colab": {
          "base_uri": "https://localhost:8080/",
          "height": 206
        },
        "outputId": "3e743a4e-5c00-4b38-c597-23489c51727b"
      },
      "source": [
        "# find key word  string.\n",
        "list_word = [\"python\", \"ai\"] \n",
        "df[(df.course_title.str.contains('|'.join(list_word))) & (df['course_difficulty'] == 'beginner')].sort_values('course_rating', ascending=False).head(5)"
      ],
      "execution_count": 20,
      "outputs": [
        {
          "output_type": "execute_result",
          "data": {
            "text/html": [
              "<div>\n",
              "<style scoped>\n",
              "    .dataframe tbody tr th:only-of-type {\n",
              "        vertical-align: middle;\n",
              "    }\n",
              "\n",
              "    .dataframe tbody tr th {\n",
              "        vertical-align: top;\n",
              "    }\n",
              "\n",
              "    .dataframe thead th {\n",
              "        text-align: right;\n",
              "    }\n",
              "</style>\n",
              "<table border=\"1\" class=\"dataframe\">\n",
              "  <thead>\n",
              "    <tr style=\"text-align: right;\">\n",
              "      <th></th>\n",
              "      <th>unnamed: 0</th>\n",
              "      <th>course_title</th>\n",
              "      <th>course_organization</th>\n",
              "      <th>course_certificate_type</th>\n",
              "      <th>course_rating</th>\n",
              "      <th>course_difficulty</th>\n",
              "      <th>course_students_enrolled</th>\n",
              "    </tr>\n",
              "  </thead>\n",
              "  <tbody>\n",
              "    <tr>\n",
              "      <th>842</th>\n",
              "      <td>249</td>\n",
              "      <td>understanding the brain: the neurobiology of e...</td>\n",
              "      <td>the university of chicago</td>\n",
              "      <td>course</td>\n",
              "      <td>4.9</td>\n",
              "      <td>beginner</td>\n",
              "      <td>130k</td>\n",
              "    </tr>\n",
              "    <tr>\n",
              "      <th>530</th>\n",
              "      <td>866</td>\n",
              "      <td>introdução à ciência da computação com python ...</td>\n",
              "      <td>universidade de são paulo</td>\n",
              "      <td>course</td>\n",
              "      <td>4.9</td>\n",
              "      <td>beginner</td>\n",
              "      <td>120k</td>\n",
              "    </tr>\n",
              "    <tr>\n",
              "      <th>429</th>\n",
              "      <td>318</td>\n",
              "      <td>in the studio: postwar abstract painting</td>\n",
              "      <td>the museum of modern art</td>\n",
              "      <td>course</td>\n",
              "      <td>4.9</td>\n",
              "      <td>beginner</td>\n",
              "      <td>79k</td>\n",
              "    </tr>\n",
              "    <tr>\n",
              "      <th>814</th>\n",
              "      <td>524</td>\n",
              "      <td>the science of training young athletes</td>\n",
              "      <td>university of florida</td>\n",
              "      <td>course</td>\n",
              "      <td>4.9</td>\n",
              "      <td>beginner</td>\n",
              "      <td>13k</td>\n",
              "    </tr>\n",
              "    <tr>\n",
              "      <th>6</th>\n",
              "      <td>54</td>\n",
              "      <td>ai for everyone</td>\n",
              "      <td>deeplearning.ai</td>\n",
              "      <td>course</td>\n",
              "      <td>4.8</td>\n",
              "      <td>beginner</td>\n",
              "      <td>350k</td>\n",
              "    </tr>\n",
              "  </tbody>\n",
              "</table>\n",
              "</div>"
            ],
            "text/plain": [
              "     unnamed: 0  ... course_students_enrolled\n",
              "842         249  ...                     130k\n",
              "530         866  ...                     120k\n",
              "429         318  ...                      79k\n",
              "814         524  ...                      13k\n",
              "6            54  ...                     350k\n",
              "\n",
              "[5 rows x 7 columns]"
            ]
          },
          "metadata": {},
          "execution_count": 20
        }
      ]
    },
    {
      "cell_type": "markdown",
      "metadata": {
        "id": "JTqtWvZG_qSY"
      },
      "source": [
        "**2.4 จำนวนรายวิชา (course) ของแต่ละสถาบันการศึกษา (course_organization) ที่มีคะแนน rating น้อยกว่าหรือเท่ากับ 4.5 ให้แสดงรายชื่อสถาบันการศึกษา, จำนวน course และค่า rating เฉลี่ยของทุกรายวิชา**"
      ]
    },
    {
      "cell_type": "code",
      "metadata": {
        "id": "m6j7bktW_s1Q",
        "colab": {
          "base_uri": "https://localhost:8080/",
          "height": 458
        },
        "outputId": "cf38bfe9-f622-4abf-c6bd-1ecd6c2dc8c3"
      },
      "source": [
        "df2 = df[df.course_certificate_type.str.contains('course')] #.sort_values('course_rating', ascending=False)\n",
        "df2[df2['course_rating'] <= 4.5]\n"
      ],
      "execution_count": 21,
      "outputs": [
        {
          "output_type": "execute_result",
          "data": {
            "text/html": [
              "<div>\n",
              "<style scoped>\n",
              "    .dataframe tbody tr th:only-of-type {\n",
              "        vertical-align: middle;\n",
              "    }\n",
              "\n",
              "    .dataframe tbody tr th {\n",
              "        vertical-align: top;\n",
              "    }\n",
              "\n",
              "    .dataframe thead th {\n",
              "        text-align: right;\n",
              "    }\n",
              "</style>\n",
              "<table border=\"1\" class=\"dataframe\">\n",
              "  <thead>\n",
              "    <tr style=\"text-align: right;\">\n",
              "      <th></th>\n",
              "      <th>unnamed: 0</th>\n",
              "      <th>course_title</th>\n",
              "      <th>course_organization</th>\n",
              "      <th>course_certificate_type</th>\n",
              "      <th>course_rating</th>\n",
              "      <th>course_difficulty</th>\n",
              "      <th>course_students_enrolled</th>\n",
              "    </tr>\n",
              "  </thead>\n",
              "  <tbody>\n",
              "    <tr>\n",
              "      <th>2</th>\n",
              "      <td>874</td>\n",
              "      <td>a crash course in data science</td>\n",
              "      <td>johns hopkins university</td>\n",
              "      <td>course</td>\n",
              "      <td>4.5</td>\n",
              "      <td>mixed</td>\n",
              "      <td>130k</td>\n",
              "    </tr>\n",
              "    <tr>\n",
              "      <th>13</th>\n",
              "      <td>631</td>\n",
              "      <td>aws fundamentals: addressing security risk</td>\n",
              "      <td>amazon web services</td>\n",
              "      <td>course</td>\n",
              "      <td>4.3</td>\n",
              "      <td>beginner</td>\n",
              "      <td>11k</td>\n",
              "    </tr>\n",
              "    <tr>\n",
              "      <th>16</th>\n",
              "      <td>828</td>\n",
              "      <td>aws fundamentals: migrating to the cloud</td>\n",
              "      <td>amazon web services</td>\n",
              "      <td>course</td>\n",
              "      <td>4.5</td>\n",
              "      <td>intermediate</td>\n",
              "      <td>13k</td>\n",
              "    </tr>\n",
              "    <tr>\n",
              "      <th>21</th>\n",
              "      <td>604</td>\n",
              "      <td>accounting analytics</td>\n",
              "      <td>university of pennsylvania</td>\n",
              "      <td>course</td>\n",
              "      <td>4.5</td>\n",
              "      <td>mixed</td>\n",
              "      <td>80k</td>\n",
              "    </tr>\n",
              "    <tr>\n",
              "      <th>51</th>\n",
              "      <td>663</td>\n",
              "      <td>antibiotic stewardship</td>\n",
              "      <td>stanford university</td>\n",
              "      <td>course</td>\n",
              "      <td>4.5</td>\n",
              "      <td>advanced</td>\n",
              "      <td>11k</td>\n",
              "    </tr>\n",
              "    <tr>\n",
              "      <th>...</th>\n",
              "      <td>...</td>\n",
              "      <td>...</td>\n",
              "      <td>...</td>\n",
              "      <td>...</td>\n",
              "      <td>...</td>\n",
              "      <td>...</td>\n",
              "      <td>...</td>\n",
              "    </tr>\n",
              "    <tr>\n",
              "      <th>793</th>\n",
              "      <td>375</td>\n",
              "      <td>the arts and science of relationships: underst...</td>\n",
              "      <td>university of toronto</td>\n",
              "      <td>course</td>\n",
              "      <td>4.5</td>\n",
              "      <td>beginner</td>\n",
              "      <td>73k</td>\n",
              "    </tr>\n",
              "    <tr>\n",
              "      <th>818</th>\n",
              "      <td>138</td>\n",
              "      <td>the strategy of content marketing</td>\n",
              "      <td>university of california, davis</td>\n",
              "      <td>course</td>\n",
              "      <td>4.5</td>\n",
              "      <td>intermediate</td>\n",
              "      <td>100k</td>\n",
              "    </tr>\n",
              "    <tr>\n",
              "      <th>840</th>\n",
              "      <td>261</td>\n",
              "      <td>understanding research methods</td>\n",
              "      <td>soas university of london</td>\n",
              "      <td>course</td>\n",
              "      <td>4.5</td>\n",
              "      <td>mixed</td>\n",
              "      <td>120k</td>\n",
              "    </tr>\n",
              "    <tr>\n",
              "      <th>870</th>\n",
              "      <td>684</td>\n",
              "      <td>write your first novel</td>\n",
              "      <td>michigan state university</td>\n",
              "      <td>course</td>\n",
              "      <td>4.4</td>\n",
              "      <td>beginner</td>\n",
              "      <td>18k</td>\n",
              "    </tr>\n",
              "    <tr>\n",
              "      <th>872</th>\n",
              "      <td>359</td>\n",
              "      <td>e-learning ecologies: innovative approaches to...</td>\n",
              "      <td>university of illinois at urbana-champaign</td>\n",
              "      <td>course</td>\n",
              "      <td>4.5</td>\n",
              "      <td>mixed</td>\n",
              "      <td>17k</td>\n",
              "    </tr>\n",
              "  </tbody>\n",
              "</table>\n",
              "<p>65 rows × 7 columns</p>\n",
              "</div>"
            ],
            "text/plain": [
              "     unnamed: 0  ... course_students_enrolled\n",
              "2           874  ...                     130k\n",
              "13          631  ...                      11k\n",
              "16          828  ...                      13k\n",
              "21          604  ...                      80k\n",
              "51          663  ...                      11k\n",
              "..          ...  ...                      ...\n",
              "793         375  ...                      73k\n",
              "818         138  ...                     100k\n",
              "840         261  ...                     120k\n",
              "870         684  ...                      18k\n",
              "872         359  ...                      17k\n",
              "\n",
              "[65 rows x 7 columns]"
            ]
          },
          "metadata": {},
          "execution_count": 21
        }
      ]
    },
    {
      "cell_type": "markdown",
      "metadata": {
        "id": "t72Kow8W_tKw"
      },
      "source": [
        "**2.5 แสดงกราฟของรายวิชา (Course) ที่มีผู้เข้าเรียน (course_students_enrolled)  มากที่สุด 5 อันดับแรก**\n",
        "- ให้แกน x แทนจำนวนคน (หน่วยเป็น ล้านคน) แกน y เป็นชื่อรายวิชา"
      ]
    },
    {
      "cell_type": "code",
      "metadata": {
        "id": "RyYD4mXfAfdH"
      },
      "source": [
        ""
      ],
      "execution_count": 21,
      "outputs": []
    },
    {
      "cell_type": "markdown",
      "source": [
        "# ข้อที่ 3: Tsunami"
      ],
      "metadata": {
        "id": "Fr5HaWlNeWbR"
      }
    },
    {
      "cell_type": "markdown",
      "metadata": {
        "id": "RAiXMeIwSHtV"
      },
      "source": [
        "<h3> <b>ข้อที่ 3: Tsunami</b> </h3>\n",
        "data shape : 21 columns, 2259 rows"
      ]
    },
    {
      "cell_type": "code",
      "metadata": {
        "id": "KxYtaRsRSJ6Q"
      },
      "source": [
        ""
      ],
      "execution_count": null,
      "outputs": []
    },
    {
      "cell_type": "markdown",
      "metadata": {
        "id": "IKo-NxJXbrpL"
      },
      "source": [
        "**3.1 จากข้อมูลที่ให้มา ให้แสดงรายชื่อประเทศที่การเกิดเหตุการณ์ Tsunami และจำนวนครั้งที่เกิด**"
      ]
    },
    {
      "cell_type": "code",
      "metadata": {
        "id": "56lLH_C2aXJ0"
      },
      "source": [
        ""
      ],
      "execution_count": null,
      "outputs": []
    },
    {
      "cell_type": "markdown",
      "metadata": {
        "id": "YPRXzpD6bs5f"
      },
      "source": [
        "**3.2 สาเหตุ (Cause) ของการเกิด Tsunami โดยนับแต่ตั้งแต่ปี 1800 จนถึงปัจจุบัน มีอะไรบ้าง และมีกี่ครั้งที่เกิด ให้แสดงข้อมูลเรียงจากมากไปน้อย**"
      ]
    },
    {
      "cell_type": "code",
      "metadata": {
        "id": "ncYPlWkQbtR1"
      },
      "source": [
        ""
      ],
      "execution_count": null,
      "outputs": []
    },
    {
      "cell_type": "markdown",
      "metadata": {
        "id": "8WjhO7y8bttR"
      },
      "source": [
        "**3.3 ความถี่ของการเกิด Tsunami ชั่วโมงต่อชั่วโมง (ที่มีข้อมูลเวลา) แยกตามช่วงเวลาในแต่ละชั่วโมง ตัวอย่างเช่น 06.00 - 06.59 โดยนับแถวข้อมูลที่เกิดตั้งแต่ปี 1800 จนถึงปัจจุบัน เรียงตามเวลาตั้งแต่ 00.00 - 00.59, 01.00 - 01.59 .... จนถึง 23.00 - 23.59\n",
        "(คอลัมภ์ ช่วงเวลา และคอลัมภ์ จำนวนครั้ง)**\n",
        "ตัวอย่างเช่น  <BR>\n",
        "\n",
        "ช่วงเวลา        จำนวนครั้ง <BR>\n",
        "0:00 - 1:00     10 <BR>\n",
        "1:00 - 2:00      5 <BR>\n",
        "... <BR>\n",
        "... <BR>\n",
        "... <BR> \n"
      ]
    },
    {
      "cell_type": "code",
      "metadata": {
        "id": "YS9_AwxNbt-7"
      },
      "source": [
        ""
      ],
      "execution_count": null,
      "outputs": []
    },
    {
      "cell_type": "markdown",
      "metadata": {
        "id": "yv2vTyUfbum5"
      },
      "source": [
        "**3.4 แสดงเหตุการณ์ที่เกิดขึ้นตั้งแต่ปี 2010 - 2020 ที่มีรายงานผู้เสียชีวิตมาก 100 คนโดยเรียงลำดับตามขนาดของการสั่นไวของเหตุการณแผ่นดินไหวมากที่สุด (EQ_MAGNITUDE) 5 อันดับแรก**"
      ]
    },
    {
      "cell_type": "code",
      "metadata": {
        "id": "-n8wJsRZbu1u"
      },
      "source": [
        ""
      ],
      "execution_count": null,
      "outputs": []
    },
    {
      "cell_type": "markdown",
      "metadata": {
        "id": "psQO7IaabvPR"
      },
      "source": [
        "**3.5 สร้างกราฟแสดงจำนวนครั้งของการเกิด Tsunami ในแต่ละเดือน ตั้งแต่ปี 1990 - 2020 แกน x แสดงเดือน Jan, Feb, Mar, Apr, May, Jun, Jul, Aug, Sep, Oct, Nov และ Dec และ แกน y แสดงจำนวนครั้งของการเกิดเหตุการณ์ในเดือนนั้น**"
      ]
    },
    {
      "cell_type": "code",
      "metadata": {
        "id": "zhb1nQl1bvj8"
      },
      "source": [
        ""
      ],
      "execution_count": null,
      "outputs": []
    }
  ]
}