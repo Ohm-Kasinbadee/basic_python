{
  "nbformat": 4,
  "nbformat_minor": 0,
  "metadata": {
    "colab": {
      "name": "63910161_Compare_Testing_2_2564_(11_Dec_2021).ipynb",
      "provenance": [],
      "collapsed_sections": []
    },
    "kernelspec": {
      "name": "python3",
      "display_name": "Python 3"
    },
    "language_info": {
      "name": "python"
    }
  },
  "cells": [
    {
      "cell_type": "markdown",
      "metadata": {
        "id": "NEM_-U9I8Wxm"
      },
      "source": [
        "# ข้อสอบประมวลความรู้ รอบที่ 1 ปีการศึกษา 2564 \n",
        "วันที่สอบ 11 ธันวาคม 2564\n",
        "คณะวิทยาการสารสนเทศ มหาวิทยาลัยบูรพา <br>\n",
        "คะแนนเต็ม 100 คะแนน <br>\n",
        "พิมพ์รหัสนิสิตในชื่อไฟล์ก่อนส่งด้วยครับ"
      ]
    },
    {
      "cell_type": "code",
      "source": [
        "from google.colab import drive\n",
        "drive.mount('/content/drive')"
      ],
      "metadata": {
        "id": "AXUWAGk1NBqw",
        "colab": {
          "base_uri": "https://localhost:8080/"
        },
        "outputId": "452ee53f-2a90-4518-cdf4-bfa772f91c93"
      },
      "execution_count": null,
      "outputs": [
        {
          "output_type": "stream",
          "name": "stdout",
          "text": [
            "Drive already mounted at /content/drive; to attempt to forcibly remount, call drive.mount(\"/content/drive\", force_remount=True).\n"
          ]
        }
      ]
    },
    {
      "cell_type": "code",
      "source": [
        "import pandas as pd\n",
        "path = '/content/Compare-Testing-2-2564.csv'\n",
        "df = pd.read_csv(path)"
      ],
      "metadata": {
        "id": "vxaEr9x3QebE"
      },
      "execution_count": null,
      "outputs": []
    },
    {
      "cell_type": "markdown",
      "metadata": {
        "id": "5nNxB7I8uoh7"
      },
      "source": [
        "<h4> ชุดข้อมูล GLOBAL 2000 (500) dataset </h4>\n",
        "https://www.forbes.com/lists/global2000/#31c5d6135ac0 \n",
        "How The World's Biggest Public Companies Endured The Pandemic (MAY 13, 2021)\n",
        "\n",
        "Since 2003, Forbes’ Global 2000 list has measured the world’s largest public companies in terms of four equally weighted metrics: assets, market value, sales and profits. Last year’s edition offered a glimpse into the early economic implications of the Covid-19 pandemic. Now, <b> we see the results over 12 months </b> of market turmoil and unfathomable human loss. based on latest-12-months’ financial data available to us on April 16, 2021.\n",
        "<hr>\n",
        "\n",
        "\n",
        "<h4> Raw Data Description </h4>\n",
        "<table>\n",
        "  <tr>\n",
        "    <th> Columns Name </th> \n",
        "    <th> Data types </th>\n",
        "    <th> Description </th>\n",
        "  </tr>\n",
        "  <tr>\n",
        "    <td>  Rank </td>\n",
        "    <td> Integer </td>\n",
        "    <td> ตัวเลขจัดอันดับ </td>\n",
        "  </tr>\n",
        "   <tr>\n",
        "    <td> Name </td>\n",
        "    <td> String </td>\n",
        "    <td> ชื่อบริษัท </td>\n",
        "  </tr>\n",
        "  <tr>\n",
        "    <td>  Country </td>\n",
        "    <td> String </td>\n",
        "    <td> ชื่อประเทศที่จดทะเบียน </td>\n",
        "  </tr>\n",
        "  <tr>\n",
        "    <td> Sales </td>\n",
        "    <td> String </td>\n",
        "    <td> ยอดขาย </td>\n",
        "  </tr>\n",
        "  <tr>\n",
        "    <td> Profit </td>\n",
        "    <td> String </td>\n",
        "    <td> กำไร </td>\n",
        "  </tr>\n",
        "   <tr>\n",
        "    <td>  Assets </td>\n",
        "    <td> String </td>\n",
        "    <td> สินทรัพย์ </td>\n",
        "  </tr>\n",
        "   <tr>\n",
        "    <td> Market Value </td>\n",
        "    <td> String </td>\n",
        "    <td> มูลค่าในตลาด </td>\n",
        "  </tr>\n",
        "</table>\n",
        "\n",
        "เพิ่มเติม\n",
        "<ol>\n",
        "  <li> ข้อมูลจริงมีทั้งหมด 2000 บริษัท (แถว) แต่ในข้อมูลที่ใช้ในข้อสอบชุดนี้มีทั้งหมด 500 อันดับแรกแถว 7 คอลัมภ์ </li>\n",
        "  <li> หน่วยเงิน M = ล้าน , 1M = 1,000,000 </li>\n",
        "  <li> หน่วยเงิน B = หนึ่งพันล้าน , 1B = 1,000,000,000 </li>\n",
        "</ol>"
      ]
    },
    {
      "cell_type": "markdown",
      "metadata": {
        "id": "eSLlIuB0tmLZ"
      },
      "source": [
        "### **คำถามข้อที่ 1** (5 คะแนน)\n",
        "เตรียมข้อมูลให้พร้อมใช้งาน \n",
        "<ul>\n",
        "<li> เช็คข้อมูลพร้อมใช้งานหรือไม่ </li>\n",
        "<li> ควรจะเปลี่ยนค่าตัวเลขทุกตัวเป็นค่าเงิน M หรือ B ลงท้าย ให้เป็นตัวเลขอย่างเดียว ตัวอย่างเช่น 2M เปลี่ยนเป็น 2,000,000 \n",
        "หรือ 1.1B เป็น 1,100,000,000 </li>\n",
        "</ul>"
      ]
    },
    {
      "cell_type": "code",
      "metadata": {
        "id": "3YoWcOcyt0qh",
        "colab": {
          "base_uri": "https://localhost:8080/"
        },
        "outputId": "7bbd00e3-5dcd-46d3-d8c5-214c2f2f170a"
      },
      "source": [
        "df.shape"
      ],
      "execution_count": null,
      "outputs": [
        {
          "output_type": "execute_result",
          "data": {
            "text/plain": [
              "(510, 7)"
            ]
          },
          "metadata": {},
          "execution_count": 202
        }
      ]
    },
    {
      "cell_type": "code",
      "source": [
        "df.isnull().sum()"
      ],
      "metadata": {
        "colab": {
          "base_uri": "https://localhost:8080/"
        },
        "id": "ZP3ASFbvRBgb",
        "outputId": "34676a28-d5cc-47cc-dcc6-8d8507b4043a"
      },
      "execution_count": null,
      "outputs": [
        {
          "output_type": "execute_result",
          "data": {
            "text/plain": [
              "Rank            10\n",
              "Name            10\n",
              "Country         10\n",
              "Sales           10\n",
              "Profit          10\n",
              "Assets          10\n",
              "Market Value    10\n",
              "dtype: int64"
            ]
          },
          "metadata": {},
          "execution_count": 203
        }
      ]
    },
    {
      "cell_type": "code",
      "source": [
        "df.dropna(inplace = True) #ลบข้อมูลที่มีค่าว่างทั้งแถว\n",
        "df.isnull().sum()"
      ],
      "metadata": {
        "colab": {
          "base_uri": "https://localhost:8080/"
        },
        "id": "OxE41ZDCRHOs",
        "outputId": "03755024-507f-4815-8cec-0dd6e7e4fcb0"
      },
      "execution_count": null,
      "outputs": [
        {
          "output_type": "execute_result",
          "data": {
            "text/plain": [
              "Rank            0\n",
              "Name            0\n",
              "Country         0\n",
              "Sales           0\n",
              "Profit          0\n",
              "Assets          0\n",
              "Market Value    0\n",
              "dtype: int64"
            ]
          },
          "metadata": {},
          "execution_count": 204
        }
      ]
    },
    {
      "cell_type": "code",
      "source": [
        "df['Sales'] = df['Sales'].str.replace('$', '')\n",
        "df['Sales'] = df['Sales'].str.replace('M', ' * 1000000')\n",
        "df['Sales'] = df['Sales'].str.replace('B', ' * 1000000000')\n",
        "df['Sales'] = df['Sales'].map(pd.eval).astype(int)\n",
        "\n",
        "df['Profit'] = df['Profit'].str.replace('$', '')\n",
        "df['Profit'] = df['Profit'].str.replace('M', ' * 1000000')\n",
        "df['Profit'] = df['Profit'].str.replace('B', ' * 1000000000')\n",
        "df['Profit'] = df['Profit'].map(pd.eval).astype(int)\n",
        "\n",
        "df['Assets'] = df['Assets'].str.replace('$', '')\n",
        "df['Assets'] = df['Assets'].str.replace('M', ' * 1000000')\n",
        "df['Assets'] = df['Assets'].str.replace('B', ' * 1000000000')\n",
        "df['Assets'] = df['Assets'].map(pd.eval).astype(int)\n",
        "\n",
        "df['Market Value'] = df['Market Value'].str.replace('$', '')\n",
        "df['Market Value'] = df['Market Value'].str.replace('M', ' * 1000000')\n",
        "df['Market Value'] = df['Market Value'].str.replace('B', ' * 1000000000')\n",
        "df['Market Value'] = df['Market Value'].map(pd.eval).astype(int)\n"
      ],
      "metadata": {
        "id": "kh1nwca1TYTA"
      },
      "execution_count": null,
      "outputs": []
    },
    {
      "cell_type": "code",
      "source": [
        "df"
      ],
      "metadata": {
        "colab": {
          "base_uri": "https://localhost:8080/",
          "height": 424
        },
        "id": "R3StCmMbUeFH",
        "outputId": "87f78b40-a25e-43f5-d09f-acd3283a0943"
      },
      "execution_count": null,
      "outputs": [
        {
          "output_type": "execute_result",
          "data": {
            "text/html": [
              "<div>\n",
              "<style scoped>\n",
              "    .dataframe tbody tr th:only-of-type {\n",
              "        vertical-align: middle;\n",
              "    }\n",
              "\n",
              "    .dataframe tbody tr th {\n",
              "        vertical-align: top;\n",
              "    }\n",
              "\n",
              "    .dataframe thead th {\n",
              "        text-align: right;\n",
              "    }\n",
              "</style>\n",
              "<table border=\"1\" class=\"dataframe\">\n",
              "  <thead>\n",
              "    <tr style=\"text-align: right;\">\n",
              "      <th></th>\n",
              "      <th>Rank</th>\n",
              "      <th>Name</th>\n",
              "      <th>Country</th>\n",
              "      <th>Sales</th>\n",
              "      <th>Profit</th>\n",
              "      <th>Assets</th>\n",
              "      <th>Market Value</th>\n",
              "    </tr>\n",
              "  </thead>\n",
              "  <tbody>\n",
              "    <tr>\n",
              "      <th>0</th>\n",
              "      <td>72.0</td>\n",
              "      <td>Sanofi</td>\n",
              "      <td>France</td>\n",
              "      <td>41100000000</td>\n",
              "      <td>14000000000</td>\n",
              "      <td>140100000000</td>\n",
              "      <td>127400000000</td>\n",
              "    </tr>\n",
              "    <tr>\n",
              "      <th>1</th>\n",
              "      <td>198.0</td>\n",
              "      <td>Longfor Group Holdings</td>\n",
              "      <td>China</td>\n",
              "      <td>27000000000</td>\n",
              "      <td>2900000000</td>\n",
              "      <td>117000000000</td>\n",
              "      <td>39400000000</td>\n",
              "    </tr>\n",
              "    <tr>\n",
              "      <th>2</th>\n",
              "      <td>42.0</td>\n",
              "      <td>TD Bank Group</td>\n",
              "      <td>Canada</td>\n",
              "      <td>38800000000</td>\n",
              "      <td>9100000000</td>\n",
              "      <td>1358600000000</td>\n",
              "      <td>120600000000</td>\n",
              "    </tr>\n",
              "    <tr>\n",
              "      <th>3</th>\n",
              "      <td>161.0</td>\n",
              "      <td>AstraZeneca</td>\n",
              "      <td>United Kingdom</td>\n",
              "      <td>27700000000</td>\n",
              "      <td>3200000000</td>\n",
              "      <td>66700000000</td>\n",
              "      <td>133900000000</td>\n",
              "    </tr>\n",
              "    <tr>\n",
              "      <th>4</th>\n",
              "      <td>354.0</td>\n",
              "      <td>Principal Financial Group</td>\n",
              "      <td>United States</td>\n",
              "      <td>14700000000</td>\n",
              "      <td>1400000000</td>\n",
              "      <td>296600000000</td>\n",
              "      <td>17200000000</td>\n",
              "    </tr>\n",
              "    <tr>\n",
              "      <th>...</th>\n",
              "      <td>...</td>\n",
              "      <td>...</td>\n",
              "      <td>...</td>\n",
              "      <td>...</td>\n",
              "      <td>...</td>\n",
              "      <td>...</td>\n",
              "      <td>...</td>\n",
              "    </tr>\n",
              "    <tr>\n",
              "      <th>505</th>\n",
              "      <td>82.0</td>\n",
              "      <td>Honda Motor</td>\n",
              "      <td>Japan</td>\n",
              "      <td>121800000000</td>\n",
              "      <td>3900000000</td>\n",
              "      <td>201300000000</td>\n",
              "      <td>52800000000</td>\n",
              "    </tr>\n",
              "    <tr>\n",
              "      <th>506</th>\n",
              "      <td>450.0</td>\n",
              "      <td>Talanx</td>\n",
              "      <td>Germany</td>\n",
              "      <td>45700000000</td>\n",
              "      <td>767200000</td>\n",
              "      <td>216400000000</td>\n",
              "      <td>11000000000</td>\n",
              "    </tr>\n",
              "    <tr>\n",
              "      <th>507</th>\n",
              "      <td>329.0</td>\n",
              "      <td>Shin-Etsu Chemical</td>\n",
              "      <td>Japan</td>\n",
              "      <td>13700000000</td>\n",
              "      <td>2600000000</td>\n",
              "      <td>31500000000</td>\n",
              "      <td>72500000000</td>\n",
              "    </tr>\n",
              "    <tr>\n",
              "      <th>508</th>\n",
              "      <td>322.0</td>\n",
              "      <td>Tata Consultancy Services</td>\n",
              "      <td>India</td>\n",
              "      <td>22100000000</td>\n",
              "      <td>4400000000</td>\n",
              "      <td>17900000000</td>\n",
              "      <td>158900000000</td>\n",
              "    </tr>\n",
              "    <tr>\n",
              "      <th>509</th>\n",
              "      <td>187.0</td>\n",
              "      <td>CNOOC</td>\n",
              "      <td>Hong Kong</td>\n",
              "      <td>22500000000</td>\n",
              "      <td>3600000000</td>\n",
              "      <td>110300000000</td>\n",
              "      <td>48400000000</td>\n",
              "    </tr>\n",
              "  </tbody>\n",
              "</table>\n",
              "<p>500 rows × 7 columns</p>\n",
              "</div>"
            ],
            "text/plain": [
              "      Rank                       Name  ...         Assets  Market Value\n",
              "0     72.0                     Sanofi  ...   140100000000  127400000000\n",
              "1    198.0     Longfor Group Holdings  ...   117000000000   39400000000\n",
              "2     42.0              TD Bank Group  ...  1358600000000  120600000000\n",
              "3    161.0                AstraZeneca  ...    66700000000  133900000000\n",
              "4    354.0  Principal Financial Group  ...   296600000000   17200000000\n",
              "..     ...                        ...  ...            ...           ...\n",
              "505   82.0                Honda Motor  ...   201300000000   52800000000\n",
              "506  450.0                     Talanx  ...   216400000000   11000000000\n",
              "507  329.0         Shin-Etsu Chemical  ...    31500000000   72500000000\n",
              "508  322.0  Tata Consultancy Services  ...    17900000000  158900000000\n",
              "509  187.0                      CNOOC  ...   110300000000   48400000000\n",
              "\n",
              "[500 rows x 7 columns]"
            ]
          },
          "metadata": {},
          "execution_count": 206
        }
      ]
    },
    {
      "cell_type": "markdown",
      "metadata": {
        "id": "GGjch7xN3qL5"
      },
      "source": [
        "### **คำถามข้อที่ 2** (5 คะแนน)\n",
        "แสดงรายชื่อบริษัท ที่มี Assets สูงสุด 3 อันดับแรก โดยให้แต่ละแถวแสดงชื่อบริษัท (Name) ประเทศ (Country) และมูลค่าสินทรัพย์ (Assets) ตามลำดับ"
      ]
    },
    {
      "cell_type": "code",
      "metadata": {
        "id": "MUkkk4QD4E40",
        "colab": {
          "base_uri": "https://localhost:8080/",
          "height": 144
        },
        "outputId": "99a4e074-2fa6-4312-afbb-97221be956c2"
      },
      "source": [
        "df2 = df.copy()\n",
        "\n",
        "del df2['Rank']\n",
        "del df2['Sales']\n",
        "del df2['Profit']\n",
        "del df2['Market Value']\n",
        "df2 = df2.sort_values('Assets', ascending=False).head(3).reset_index()\n",
        "df2 = df2.drop('index', 1)\n",
        "df2\n"
      ],
      "execution_count": null,
      "outputs": [
        {
          "output_type": "execute_result",
          "data": {
            "text/html": [
              "<div>\n",
              "<style scoped>\n",
              "    .dataframe tbody tr th:only-of-type {\n",
              "        vertical-align: middle;\n",
              "    }\n",
              "\n",
              "    .dataframe tbody tr th {\n",
              "        vertical-align: top;\n",
              "    }\n",
              "\n",
              "    .dataframe thead th {\n",
              "        text-align: right;\n",
              "    }\n",
              "</style>\n",
              "<table border=\"1\" class=\"dataframe\">\n",
              "  <thead>\n",
              "    <tr style=\"text-align: right;\">\n",
              "      <th></th>\n",
              "      <th>Name</th>\n",
              "      <th>Country</th>\n",
              "      <th>Assets</th>\n",
              "    </tr>\n",
              "  </thead>\n",
              "  <tbody>\n",
              "    <tr>\n",
              "      <th>0</th>\n",
              "      <td>ICBC</td>\n",
              "      <td>China</td>\n",
              "      <td>4914700000000</td>\n",
              "    </tr>\n",
              "    <tr>\n",
              "      <th>1</th>\n",
              "      <td>China Construction Bank</td>\n",
              "      <td>China</td>\n",
              "      <td>4301700000000</td>\n",
              "    </tr>\n",
              "    <tr>\n",
              "      <th>2</th>\n",
              "      <td>Agricultural Bank of China</td>\n",
              "      <td>China</td>\n",
              "      <td>4159899999999</td>\n",
              "    </tr>\n",
              "  </tbody>\n",
              "</table>\n",
              "</div>"
            ],
            "text/plain": [
              "                         Name Country         Assets\n",
              "0                        ICBC   China  4914700000000\n",
              "1     China Construction Bank   China  4301700000000\n",
              "2  Agricultural Bank of China   China  4159899999999"
            ]
          },
          "metadata": {},
          "execution_count": 207
        }
      ]
    },
    {
      "cell_type": "markdown",
      "metadata": {
        "id": "ub6UcAg9a3G4"
      },
      "source": [
        "### **คำถามข้อที่ 3** (5 คะแนน)\n",
        "เรียงลำดับข้อมูลตามคอลัมภ์ Rank จากน้อยไปหามาก และให้แสดงข้อมูลทุกคอลัมภ์ที่มีในชุดข้อมูลที่กำหนดมาให้ "
      ]
    },
    {
      "cell_type": "code",
      "metadata": {
        "id": "BzEqHgYWbGmv",
        "colab": {
          "base_uri": "https://localhost:8080/",
          "height": 424
        },
        "outputId": "0496a6d9-96d4-41d2-d794-e83bd8f04d71"
      },
      "source": [
        "df3 = df.copy()\n",
        "df3 = df3.sort_values('Rank', ascending=False).reset_index()\n",
        "df3 = df3.drop('index', 1)\n",
        "df3\n"
      ],
      "execution_count": null,
      "outputs": [
        {
          "output_type": "execute_result",
          "data": {
            "text/html": [
              "<div>\n",
              "<style scoped>\n",
              "    .dataframe tbody tr th:only-of-type {\n",
              "        vertical-align: middle;\n",
              "    }\n",
              "\n",
              "    .dataframe tbody tr th {\n",
              "        vertical-align: top;\n",
              "    }\n",
              "\n",
              "    .dataframe thead th {\n",
              "        text-align: right;\n",
              "    }\n",
              "</style>\n",
              "<table border=\"1\" class=\"dataframe\">\n",
              "  <thead>\n",
              "    <tr style=\"text-align: right;\">\n",
              "      <th></th>\n",
              "      <th>Rank</th>\n",
              "      <th>Name</th>\n",
              "      <th>Country</th>\n",
              "      <th>Sales</th>\n",
              "      <th>Profit</th>\n",
              "      <th>Assets</th>\n",
              "      <th>Market Value</th>\n",
              "    </tr>\n",
              "  </thead>\n",
              "  <tbody>\n",
              "    <tr>\n",
              "      <th>0</th>\n",
              "      <td>500.0</td>\n",
              "      <td>Lufax Holding</td>\n",
              "      <td>China</td>\n",
              "      <td>8300000000</td>\n",
              "      <td>1800000000</td>\n",
              "      <td>38100000000</td>\n",
              "      <td>34000000000</td>\n",
              "    </tr>\n",
              "    <tr>\n",
              "      <th>1</th>\n",
              "      <td>498.0</td>\n",
              "      <td>KeyCorp</td>\n",
              "      <td>United States</td>\n",
              "      <td>7300000000</td>\n",
              "      <td>1300000000</td>\n",
              "      <td>170300000000</td>\n",
              "      <td>20000000000</td>\n",
              "    </tr>\n",
              "    <tr>\n",
              "      <th>2</th>\n",
              "      <td>498.0</td>\n",
              "      <td>Banorte</td>\n",
              "      <td>Mexico</td>\n",
              "      <td>9400000000</td>\n",
              "      <td>1400000000</td>\n",
              "      <td>89700000000</td>\n",
              "      <td>17600000000</td>\n",
              "    </tr>\n",
              "    <tr>\n",
              "      <th>3</th>\n",
              "      <td>497.0</td>\n",
              "      <td>Safran</td>\n",
              "      <td>France</td>\n",
              "      <td>19000000000</td>\n",
              "      <td>401300000</td>\n",
              "      <td>48400000000</td>\n",
              "      <td>66800000000</td>\n",
              "    </tr>\n",
              "    <tr>\n",
              "      <th>4</th>\n",
              "      <td>496.0</td>\n",
              "      <td>CSL</td>\n",
              "      <td>Australia</td>\n",
              "      <td>9900000000</td>\n",
              "      <td>2600000000</td>\n",
              "      <td>17700000000</td>\n",
              "      <td>94700000000</td>\n",
              "    </tr>\n",
              "    <tr>\n",
              "      <th>...</th>\n",
              "      <td>...</td>\n",
              "      <td>...</td>\n",
              "      <td>...</td>\n",
              "      <td>...</td>\n",
              "      <td>...</td>\n",
              "      <td>...</td>\n",
              "      <td>...</td>\n",
              "    </tr>\n",
              "    <tr>\n",
              "      <th>495</th>\n",
              "      <td>5.0</td>\n",
              "      <td>Saudi Arabian Oil Company (Saudi Aramco)</td>\n",
              "      <td>Saudi Arabia</td>\n",
              "      <td>229700000000</td>\n",
              "      <td>49300000000</td>\n",
              "      <td>510300000000</td>\n",
              "      <td>1897200000000</td>\n",
              "    </tr>\n",
              "    <tr>\n",
              "      <th>496</th>\n",
              "      <td>4.0</td>\n",
              "      <td>China Construction Bank</td>\n",
              "      <td>China</td>\n",
              "      <td>173500000000</td>\n",
              "      <td>39300000000</td>\n",
              "      <td>4301700000000</td>\n",
              "      <td>210400000000</td>\n",
              "    </tr>\n",
              "    <tr>\n",
              "      <th>497</th>\n",
              "      <td>3.0</td>\n",
              "      <td>Berkshire Hathaway</td>\n",
              "      <td>United States</td>\n",
              "      <td>245500000000</td>\n",
              "      <td>42500000000</td>\n",
              "      <td>873700000000</td>\n",
              "      <td>624400000000</td>\n",
              "    </tr>\n",
              "    <tr>\n",
              "      <th>498</th>\n",
              "      <td>2.0</td>\n",
              "      <td>JPMorgan Chase</td>\n",
              "      <td>United States</td>\n",
              "      <td>136199999999</td>\n",
              "      <td>40400000000</td>\n",
              "      <td>3689300000000</td>\n",
              "      <td>464800000000</td>\n",
              "    </tr>\n",
              "    <tr>\n",
              "      <th>499</th>\n",
              "      <td>1.0</td>\n",
              "      <td>ICBC</td>\n",
              "      <td>China</td>\n",
              "      <td>190500000000</td>\n",
              "      <td>45800000000</td>\n",
              "      <td>4914700000000</td>\n",
              "      <td>249500000000</td>\n",
              "    </tr>\n",
              "  </tbody>\n",
              "</table>\n",
              "<p>500 rows × 7 columns</p>\n",
              "</div>"
            ],
            "text/plain": [
              "      Rank  ...   Market Value\n",
              "0    500.0  ...    34000000000\n",
              "1    498.0  ...    20000000000\n",
              "2    498.0  ...    17600000000\n",
              "3    497.0  ...    66800000000\n",
              "4    496.0  ...    94700000000\n",
              "..     ...  ...            ...\n",
              "495    5.0  ...  1897200000000\n",
              "496    4.0  ...   210400000000\n",
              "497    3.0  ...   624400000000\n",
              "498    2.0  ...   464800000000\n",
              "499    1.0  ...   249500000000\n",
              "\n",
              "[500 rows x 7 columns]"
            ]
          },
          "metadata": {},
          "execution_count": 208
        }
      ]
    },
    {
      "cell_type": "markdown",
      "metadata": {
        "id": "Nc1RJcW6varR"
      },
      "source": [
        "### **คำถามข้อที่ 4** (5 คะแนน)\n",
        "แสดงจำนวนของแต่ละประเทศ (Country) ที่มีในชุดข้อมูลโดยให้แสดงเป็นรายการแต่ละแถวเป็นชื่อประเทศ และ จำนวนที่ปรากฎในชุดข้อมูล เช่น United States 170  "
      ]
    },
    {
      "cell_type": "code",
      "metadata": {
        "id": "Xwi9URjbvbgx",
        "colab": {
          "base_uri": "https://localhost:8080/"
        },
        "outputId": "0d2f02b7-1da2-4156-a8e8-1f102d60adc7"
      },
      "source": [
        "df4 = df.copy()\n",
        "df4['Country'].value_counts()"
      ],
      "execution_count": null,
      "outputs": [
        {
          "output_type": "execute_result",
          "data": {
            "text/plain": [
              "United States           170\n",
              "China                    68\n",
              "Japan                    43\n",
              "France                   23\n",
              "United Kingdom           21\n",
              "Germany                  19\n",
              "Canada                   17\n",
              "South Korea              15\n",
              "Australia                11\n",
              "Switzerland              11\n",
              "Hong Kong                11\n",
              "India                     9\n",
              "Netherlands               8\n",
              "Italy                     6\n",
              "Spain                     6\n",
              "Saudi Arabia              6\n",
              "Russia                    6\n",
              "Taiwan                    5\n",
              "Ireland                   5\n",
              "Brazil                    5\n",
              "Sweden                    5\n",
              "Singapore                 4\n",
              "United Arab Emirates      3\n",
              "Mexico                    3\n",
              "Denmark                   3\n",
              "Norway                    3\n",
              "Indonesia                 2\n",
              "Belgium                   2\n",
              "Finland                   2\n",
              "Portugal                  1\n",
              "Qatar                     1\n",
              "Venezuela                 1\n",
              "Austria                   1\n",
              "Luxembourg                1\n",
              "Bermuda                   1\n",
              "Thailand                  1\n",
              "Malaysia                  1\n",
              "Name: Country, dtype: int64"
            ]
          },
          "metadata": {},
          "execution_count": 209
        }
      ]
    },
    {
      "cell_type": "markdown",
      "metadata": {
        "id": "mjdxHs_QvwtE"
      },
      "source": [
        "### **คำถามข้อที่ 5** (5 คะแนน)\n",
        "แสดงข้อมูลของบริษัทที่มี Market Value ในประเทศจีน (China) ที่น้อยที่สุด 10 อันดับแสดงเฉพาะคอลัมภ์ Name และ Market Value\n",
        "\n",
        "\n",
        "\n"
      ]
    },
    {
      "cell_type": "code",
      "metadata": {
        "id": "LbsIHV9v_RoV",
        "colab": {
          "base_uri": "https://localhost:8080/",
          "height": 363
        },
        "outputId": "f009edd8-7059-4a61-ce72-d10033e725ca"
      },
      "source": [
        "df5 = df.copy()\n",
        "\n",
        "df5 = df5[df5['Country'] == 'China'].sort_values('Market Value', ascending=True).head(10).reset_index()\n",
        "df5 = df5.drop('index', 1)\n",
        "\n",
        "del df5['Rank']\n",
        "del df5['Country']\n",
        "del df5['Sales']\n",
        "del df5['Profit']\n",
        "del df5['Assets']\n",
        "\n",
        "df5"
      ],
      "execution_count": null,
      "outputs": [
        {
          "output_type": "execute_result",
          "data": {
            "text/html": [
              "<div>\n",
              "<style scoped>\n",
              "    .dataframe tbody tr th:only-of-type {\n",
              "        vertical-align: middle;\n",
              "    }\n",
              "\n",
              "    .dataframe tbody tr th {\n",
              "        vertical-align: top;\n",
              "    }\n",
              "\n",
              "    .dataframe thead th {\n",
              "        text-align: right;\n",
              "    }\n",
              "</style>\n",
              "<table border=\"1\" class=\"dataframe\">\n",
              "  <thead>\n",
              "    <tr style=\"text-align: right;\">\n",
              "      <th></th>\n",
              "      <th>Name</th>\n",
              "      <th>Market Value</th>\n",
              "    </tr>\n",
              "  </thead>\n",
              "  <tbody>\n",
              "    <tr>\n",
              "      <th>0</th>\n",
              "      <td>China Communications Construction</td>\n",
              "      <td>7800000000</td>\n",
              "    </tr>\n",
              "    <tr>\n",
              "      <th>1</th>\n",
              "      <td>China Railway Construction</td>\n",
              "      <td>8900000000</td>\n",
              "    </tr>\n",
              "    <tr>\n",
              "      <th>2</th>\n",
              "      <td>Power Construction Corporation of China</td>\n",
              "      <td>9100000000</td>\n",
              "    </tr>\n",
              "    <tr>\n",
              "      <th>3</th>\n",
              "      <td>China Zheshang Bank</td>\n",
              "      <td>9600000000</td>\n",
              "    </tr>\n",
              "    <tr>\n",
              "      <th>4</th>\n",
              "      <td>Greenland Holdings Group</td>\n",
              "      <td>10400000000</td>\n",
              "    </tr>\n",
              "    <tr>\n",
              "      <th>5</th>\n",
              "      <td>New China Life Insurance</td>\n",
              "      <td>11900000000</td>\n",
              "    </tr>\n",
              "    <tr>\n",
              "      <th>6</th>\n",
              "      <td>Fosun International</td>\n",
              "      <td>12100000000</td>\n",
              "    </tr>\n",
              "    <tr>\n",
              "      <th>7</th>\n",
              "      <td>CRRC</td>\n",
              "      <td>12500000000</td>\n",
              "    </tr>\n",
              "    <tr>\n",
              "      <th>8</th>\n",
              "      <td>China Railway Group</td>\n",
              "      <td>12500000000</td>\n",
              "    </tr>\n",
              "    <tr>\n",
              "      <th>9</th>\n",
              "      <td>China National Building</td>\n",
              "      <td>12900000000</td>\n",
              "    </tr>\n",
              "  </tbody>\n",
              "</table>\n",
              "</div>"
            ],
            "text/plain": [
              "                                      Name  Market Value\n",
              "0        China Communications Construction    7800000000\n",
              "1               China Railway Construction    8900000000\n",
              "2  Power Construction Corporation of China    9100000000\n",
              "3                      China Zheshang Bank    9600000000\n",
              "4                 Greenland Holdings Group   10400000000\n",
              "5                 New China Life Insurance   11900000000\n",
              "6                      Fosun International   12100000000\n",
              "7                                     CRRC   12500000000\n",
              "8                      China Railway Group   12500000000\n",
              "9                  China National Building   12900000000"
            ]
          },
          "metadata": {},
          "execution_count": 210
        }
      ]
    },
    {
      "cell_type": "markdown",
      "metadata": {
        "id": "ZojGHD1ZwA-y"
      },
      "source": [
        "### **คำถามข้อที่ 6** (5 คะแนน)\n",
        "แสดงข้อมูลที่มี Name, Country, Assets ของประเทศ (Country) ใน ASEAN (Thailand, Brunei Darussalam, Cambodia, Loas, Malaysia, Myanmar, Philippines, Singapore, Vietnam, Indonesia) เรียงลำดับตามคอลัมภ์ Assets มากไปน้อย "
      ]
    },
    {
      "cell_type": "code",
      "metadata": {
        "id": "LkDBNjUowP7j",
        "colab": {
          "base_uri": "https://localhost:8080/",
          "height": 300
        },
        "outputId": "8053c180-f956-4602-ec80-c838284bc92e"
      },
      "source": [
        "df6 = df.copy()\n",
        "\n",
        "del df6['Rank']\n",
        "del df6['Sales']\n",
        "del df6['Profit']\n",
        "del df6['Market Value']\n",
        "\n",
        "list_word = [\"Thailand\", \"Brunei Darussalam\", \"Cambodia\", \"Loas\", \"Malaysia\", \"Myanmar\", \"Philippines\", \"Singapore\", \"Vietnam\", \"Indonesia\"] \n",
        "df6 = df6[(df6.Country.str.contains('|'.join(list_word)))].sort_values('Assets', ascending=False).reset_index()\n",
        "df6 = df6.drop('index', 1)\n",
        "\n",
        "df6"
      ],
      "execution_count": null,
      "outputs": [
        {
          "output_type": "execute_result",
          "data": {
            "text/html": [
              "<div>\n",
              "<style scoped>\n",
              "    .dataframe tbody tr th:only-of-type {\n",
              "        vertical-align: middle;\n",
              "    }\n",
              "\n",
              "    .dataframe tbody tr th {\n",
              "        vertical-align: top;\n",
              "    }\n",
              "\n",
              "    .dataframe thead th {\n",
              "        text-align: right;\n",
              "    }\n",
              "</style>\n",
              "<table border=\"1\" class=\"dataframe\">\n",
              "  <thead>\n",
              "    <tr style=\"text-align: right;\">\n",
              "      <th></th>\n",
              "      <th>Name</th>\n",
              "      <th>Country</th>\n",
              "      <th>Assets</th>\n",
              "    </tr>\n",
              "  </thead>\n",
              "  <tbody>\n",
              "    <tr>\n",
              "      <th>0</th>\n",
              "      <td>DBS</td>\n",
              "      <td>Singapore</td>\n",
              "      <td>491900000000</td>\n",
              "    </tr>\n",
              "    <tr>\n",
              "      <th>1</th>\n",
              "      <td>Oversea-Chinese Banking</td>\n",
              "      <td>Singapore</td>\n",
              "      <td>394500000000</td>\n",
              "    </tr>\n",
              "    <tr>\n",
              "      <th>2</th>\n",
              "      <td>United Overseas Bank</td>\n",
              "      <td>Singapore</td>\n",
              "      <td>326700000000</td>\n",
              "    </tr>\n",
              "    <tr>\n",
              "      <th>3</th>\n",
              "      <td>Maybank</td>\n",
              "      <td>Malaysia</td>\n",
              "      <td>213000000000</td>\n",
              "    </tr>\n",
              "    <tr>\n",
              "      <th>4</th>\n",
              "      <td>Bank Rakyat Indonesia (BRI)</td>\n",
              "      <td>Indonesia</td>\n",
              "      <td>107600000000</td>\n",
              "    </tr>\n",
              "    <tr>\n",
              "      <th>5</th>\n",
              "      <td>PTT</td>\n",
              "      <td>Thailand</td>\n",
              "      <td>84900000000</td>\n",
              "    </tr>\n",
              "    <tr>\n",
              "      <th>6</th>\n",
              "      <td>Bank Central Asia</td>\n",
              "      <td>Indonesia</td>\n",
              "      <td>76600000000</td>\n",
              "    </tr>\n",
              "    <tr>\n",
              "      <th>7</th>\n",
              "      <td>Wilmar International</td>\n",
              "      <td>Singapore</td>\n",
              "      <td>51000000000</td>\n",
              "    </tr>\n",
              "  </tbody>\n",
              "</table>\n",
              "</div>"
            ],
            "text/plain": [
              "                          Name    Country        Assets\n",
              "0                          DBS  Singapore  491900000000\n",
              "1      Oversea-Chinese Banking  Singapore  394500000000\n",
              "2         United Overseas Bank  Singapore  326700000000\n",
              "3                      Maybank   Malaysia  213000000000\n",
              "4  Bank Rakyat Indonesia (BRI)  Indonesia  107600000000\n",
              "5                          PTT   Thailand   84900000000\n",
              "6            Bank Central Asia  Indonesia   76600000000\n",
              "7         Wilmar International  Singapore   51000000000"
            ]
          },
          "metadata": {},
          "execution_count": 211
        }
      ]
    },
    {
      "cell_type": "markdown",
      "metadata": {
        "id": "97E6D2nJNOfx"
      },
      "source": [
        "### **คำถามข้อที่ 7** (5 คะแนน)\n",
        "แสดงตารางค่าเฉลี่ย(Mean), ค่าส่วนเบี่ยงเบนมาตรฐาน (STD) ของคอลัมภ์ Sales, Profit, Assets และ Market Value "
      ]
    },
    {
      "cell_type": "code",
      "metadata": {
        "id": "ThsSxFRANkmG",
        "colab": {
          "base_uri": "https://localhost:8080/",
          "height": 112
        },
        "outputId": "32deb129-c09d-40f9-ff9e-ae6aeed8548f"
      },
      "source": [
        "df7 = df.copy()\n",
        "\n",
        "del df7['Rank']\n",
        "del df7['Name']\n",
        "del df7['Country']\n",
        "\n",
        "df7 = df7.describe()\n",
        "df7 = df7.drop(['count', 'min', '25%', '50%', '75%', 'max'])\n",
        "df7"
      ],
      "execution_count": null,
      "outputs": [
        {
          "output_type": "execute_result",
          "data": {
            "text/html": [
              "<div>\n",
              "<style scoped>\n",
              "    .dataframe tbody tr th:only-of-type {\n",
              "        vertical-align: middle;\n",
              "    }\n",
              "\n",
              "    .dataframe tbody tr th {\n",
              "        vertical-align: top;\n",
              "    }\n",
              "\n",
              "    .dataframe thead th {\n",
              "        text-align: right;\n",
              "    }\n",
              "</style>\n",
              "<table border=\"1\" class=\"dataframe\">\n",
              "  <thead>\n",
              "    <tr style=\"text-align: right;\">\n",
              "      <th></th>\n",
              "      <th>Sales</th>\n",
              "      <th>Profit</th>\n",
              "      <th>Assets</th>\n",
              "      <th>Market Value</th>\n",
              "    </tr>\n",
              "  </thead>\n",
              "  <tbody>\n",
              "    <tr>\n",
              "      <th>mean</th>\n",
              "      <td>4.979460e+10</td>\n",
              "      <td>4.173743e+09</td>\n",
              "      <td>3.229280e+11</td>\n",
              "      <td>1.048094e+11</td>\n",
              "    </tr>\n",
              "    <tr>\n",
              "      <th>std</th>\n",
              "      <td>5.545579e+10</td>\n",
              "      <td>7.457710e+09</td>\n",
              "      <td>6.310834e+11</td>\n",
              "      <td>2.080702e+11</td>\n",
              "    </tr>\n",
              "  </tbody>\n",
              "</table>\n",
              "</div>"
            ],
            "text/plain": [
              "             Sales        Profit        Assets  Market Value\n",
              "mean  4.979460e+10  4.173743e+09  3.229280e+11  1.048094e+11\n",
              "std   5.545579e+10  7.457710e+09  6.310834e+11  2.080702e+11"
            ]
          },
          "metadata": {},
          "execution_count": 212
        }
      ]
    },
    {
      "cell_type": "markdown",
      "metadata": {
        "id": "NcfskRnXOrAe"
      },
      "source": [
        "### **คำถามข้อที่ 8** (10 คะแนน)\n",
        "แสดงรายชื่อบริษัทที่มีข้อมูล Sales และ Profit มากเท่ากับ 5,000 ล้าน แต่มี Market Value น้อยกว่าเท่ากับ 3,000 ล้าน **โดยกำหนดให้แต่ละแถว แสดงชื่อบริษัท (Name), มูลค่าการขาย (Sales), กำไร (Profilts) และ Market Values**"
      ]
    },
    {
      "cell_type": "code",
      "metadata": {
        "id": "HpolsNPuP70k",
        "colab": {
          "base_uri": "https://localhost:8080/",
          "height": 112
        },
        "outputId": "efda879d-3efa-4edd-9fda-5c25808093c4"
      },
      "source": [
        "df8 = df.copy()\n",
        "\n",
        "value1 = 5000000000\n",
        "value2 = 3000000000\n",
        "df8 = df8[(df8['Sales']>=value1) & (df8['Profit']>=value1) & (df8['Market Value']<=value2)].reset_index()\n",
        "df8 = df8.drop('index', 1)\n",
        "\n",
        "del df8['Rank']\n",
        "del df8['Country']\n",
        "del df8['Assets']\n",
        "\n",
        "df8"
      ],
      "execution_count": null,
      "outputs": [
        {
          "output_type": "execute_result",
          "data": {
            "text/html": [
              "<div>\n",
              "<style scoped>\n",
              "    .dataframe tbody tr th:only-of-type {\n",
              "        vertical-align: middle;\n",
              "    }\n",
              "\n",
              "    .dataframe tbody tr th {\n",
              "        vertical-align: top;\n",
              "    }\n",
              "\n",
              "    .dataframe thead th {\n",
              "        text-align: right;\n",
              "    }\n",
              "</style>\n",
              "<table border=\"1\" class=\"dataframe\">\n",
              "  <thead>\n",
              "    <tr style=\"text-align: right;\">\n",
              "      <th></th>\n",
              "      <th>Name</th>\n",
              "      <th>Sales</th>\n",
              "      <th>Profit</th>\n",
              "      <th>Market Value</th>\n",
              "    </tr>\n",
              "  </thead>\n",
              "  <tbody>\n",
              "    <tr>\n",
              "      <th>0</th>\n",
              "      <td>Freddie Mac</td>\n",
              "      <td>68700000000</td>\n",
              "      <td>7300000000</td>\n",
              "      <td>1500000000</td>\n",
              "    </tr>\n",
              "    <tr>\n",
              "      <th>1</th>\n",
              "      <td>Fannie Mae</td>\n",
              "      <td>109600000000</td>\n",
              "      <td>11800000000</td>\n",
              "      <td>2800000000</td>\n",
              "    </tr>\n",
              "  </tbody>\n",
              "</table>\n",
              "</div>"
            ],
            "text/plain": [
              "          Name         Sales       Profit  Market Value\n",
              "0  Freddie Mac   68700000000   7300000000    1500000000\n",
              "1   Fannie Mae  109600000000  11800000000    2800000000"
            ]
          },
          "metadata": {},
          "execution_count": 213
        }
      ]
    },
    {
      "cell_type": "markdown",
      "metadata": {
        "id": "fML-tkb-Qe9N"
      },
      "source": [
        "### **คำถามข้อที่ 9** (15 คะแนน)\n",
        "แสดงตารางค่าเฉลี่ย (Mean), ค่าที่น้อยที่สุด (Min), ค่าที่มากที่สุด(Max) ของแต่ Market value แยกเป็นแต่ละประเทศที่มีจำนวนแถวมากสุด\t3 อันดับ "
      ]
    },
    {
      "cell_type": "code",
      "metadata": {
        "id": "yQnmWitXQ3Xl",
        "colab": {
          "base_uri": "https://localhost:8080/",
          "height": 275
        },
        "outputId": "5c64c8d7-3a76-46b7-c19c-0733bf3e99a0"
      },
      "source": [
        "df9 = df.copy()\n",
        "\n",
        "#check Country ที่มีแถวมากที่สุด3อันดับ\n",
        "print(df9['Country'].value_counts().head(3))\n",
        "\n",
        "list_word = [\"United States\", \"China\", \"Japan\"] #list kwy word top 3\n",
        "df9 = df9[(df9.Country.str.contains('|'.join(list_word)))].reset_index().drop('index', 1)\n",
        "df9.groupby('Country').agg({'Market Value': ['mean', 'min', 'max']})"
      ],
      "execution_count": null,
      "outputs": [
        {
          "output_type": "stream",
          "name": "stdout",
          "text": [
            "United States    170\n",
            "China             68\n",
            "Japan             43\n",
            "Name: Country, dtype: int64\n"
          ]
        },
        {
          "output_type": "execute_result",
          "data": {
            "text/html": [
              "<div>\n",
              "<style scoped>\n",
              "    .dataframe tbody tr th:only-of-type {\n",
              "        vertical-align: middle;\n",
              "    }\n",
              "\n",
              "    .dataframe tbody tr th {\n",
              "        vertical-align: top;\n",
              "    }\n",
              "\n",
              "    .dataframe thead tr th {\n",
              "        text-align: left;\n",
              "    }\n",
              "\n",
              "    .dataframe thead tr:last-of-type th {\n",
              "        text-align: right;\n",
              "    }\n",
              "</style>\n",
              "<table border=\"1\" class=\"dataframe\">\n",
              "  <thead>\n",
              "    <tr>\n",
              "      <th></th>\n",
              "      <th colspan=\"3\" halign=\"left\">Market Value</th>\n",
              "    </tr>\n",
              "    <tr>\n",
              "      <th></th>\n",
              "      <th>mean</th>\n",
              "      <th>min</th>\n",
              "      <th>max</th>\n",
              "    </tr>\n",
              "    <tr>\n",
              "      <th>Country</th>\n",
              "      <th></th>\n",
              "      <th></th>\n",
              "      <th></th>\n",
              "    </tr>\n",
              "  </thead>\n",
              "  <tbody>\n",
              "    <tr>\n",
              "      <th>China</th>\n",
              "      <td>7.787059e+10</td>\n",
              "      <td>7800000000</td>\n",
              "      <td>773800000000</td>\n",
              "    </tr>\n",
              "    <tr>\n",
              "      <th>Japan</th>\n",
              "      <td>4.923256e+10</td>\n",
              "      <td>13000000000</td>\n",
              "      <td>219200000000</td>\n",
              "    </tr>\n",
              "    <tr>\n",
              "      <th>United States</th>\n",
              "      <td>1.668900e+11</td>\n",
              "      <td>1500000000</td>\n",
              "      <td>2252300000000</td>\n",
              "    </tr>\n",
              "  </tbody>\n",
              "</table>\n",
              "</div>"
            ],
            "text/plain": [
              "               Market Value                            \n",
              "                       mean          min            max\n",
              "Country                                                \n",
              "China          7.787059e+10   7800000000   773800000000\n",
              "Japan          4.923256e+10  13000000000   219200000000\n",
              "United States  1.668900e+11   1500000000  2252300000000"
            ]
          },
          "metadata": {},
          "execution_count": 214
        }
      ]
    },
    {
      "cell_type": "markdown",
      "metadata": {
        "id": "t8EsExfSQriT"
      },
      "source": [
        "### **คำถามข้อที่ 10** (15 คะแนน)\n",
        "สร้างกราฟ Pie Chart นับจำนวนแถวโดยแบ่งออกเป็น 12 อันดับ ซึ่ง 1-11 คือประเทศที่จำนวนแถวมากที่สุดตามลำดับ และอันดับที่ 12 จะเป็นประเทศอื่นๆ ที่ไม่จัดอยู่ใน 11 ลำดับแรก อันดับตั้งเชื่อว่า \"Other\" พร้อมแสดง Label ของกราฟให้ชัดเจน "
      ]
    },
    {
      "cell_type": "code",
      "metadata": {
        "id": "vPD-G5hWQ4On",
        "colab": {
          "base_uri": "https://localhost:8080/"
        },
        "outputId": "d1bcb0f4-423d-4a99-e186-6d4908d261bf"
      },
      "source": [
        "df10 = df.copy()\n",
        "top11 = df10['Country'].value_counts().head(11)\n",
        "top11 = top11.to_dict()\n",
        "\n",
        "list_word = [\"United States\", \"China\", \"Japan\", \"France\", \"United Kingdom\", \"Germany\", \"Canada\", \"South Korea\", \"Australia\", \"Switzerland\", \"Hong Kong\"]\n",
        "otherPie = df10[(~df10.Country.str.contains('|'.join(list_word)))].reset_index().drop('index', 1)\n",
        "otherPie = otherPie['Country'].value_counts().sum()\n",
        "top11['Other'] = otherPie\n",
        "\n",
        "for k, v in top11.items():\n",
        "  print(k, ':', v)"
      ],
      "execution_count": null,
      "outputs": [
        {
          "output_type": "stream",
          "name": "stdout",
          "text": [
            "United States : 170\n",
            "China : 68\n",
            "Japan : 43\n",
            "France : 23\n",
            "United Kingdom : 21\n",
            "Germany : 19\n",
            "Canada : 17\n",
            "South Korea : 15\n",
            "Australia : 11\n",
            "Switzerland : 11\n",
            "Hong Kong : 11\n",
            "Other : 91\n"
          ]
        }
      ]
    },
    {
      "cell_type": "code",
      "source": [
        "import matplotlib.pyplot as plt\n",
        "plt.figure(figsize=(15,15))\n",
        "plt.pie([float(top11[v]) for v in top11], labels=[str(k) for k in top11], autopct='%1.1f%%')\n",
        "plt.show()"
      ],
      "metadata": {
        "colab": {
          "base_uri": "https://localhost:8080/",
          "height": 846
        },
        "id": "WmYRXIyQhJTw",
        "outputId": "7b77103f-5140-4a22-879e-35480b30fb6f"
      },
      "execution_count": null,
      "outputs": [
        {
          "output_type": "display_data",
          "data": {
            "image/png": "[encoded data removed]",
            "text/plain": [
              "<Figure size 1080x1080 with 1 Axes>"
            ]
          },
          "metadata": {}
        }
      ]
    },
    {
      "cell_type": "markdown",
      "metadata": {
        "id": "-tql1A51_vlP"
      },
      "source": [
        "### **คำถามข้อที่ 11** (25 คะแนน)\n",
        "สร้างกราฟที่ประกอบด้วย 2 subplot โดยมีรายละเอียดดังนี้ </br>\n",
        "11.1 Subplot ที่ 1 แสดงกราฟ Bar แบบแนวนอน (10 คะแนน) โดยให้ \n",
        "- แกน x เป็น Profits (หน่วย Dollar) \n",
        "- แกน y เป็นรายชื่อของบริษัท (Name) ที่มี Profit ติดลบทั้งหมด โดยเรียงลำดับตาม Assets จากมากไปน้อย\n",
        "\n",
        "\n",
        "---\n",
        "\n",
        "\n",
        "11.2 Subplot ที่ 2 แสดงกราฟ Bar แบบแนวตั้ง แสดงแท่งของ Sales, Assets และ Market value ของแต่ละบริษัท ที่มีลำดับ(Rank) ตั้งแต่ 1 - 5 (5 บริษัท) (15 คะแนน) โดยให้\n",
        "- แกน x แสดงลำดับ (Ranking) ของบริษัทได้แก่ Rank 1 , Rank 2, Rank 3, Rank 4, Rank 5\n",
        "- แกน y แสดงมูลค่า (หน่วยเป็น Dollar) "
      ]
    },
    {
      "cell_type": "code",
      "metadata": {
        "id": "uYEQLyZI_v4L",
        "colab": {
          "base_uri": "https://localhost:8080/",
          "height": 605
        },
        "outputId": "6ffc89cb-da60-4682-c975-a4c451119d2c"
      },
      "source": [
        "df11 = df.copy()\n",
        "# df11.sort_values('Profit', ascending=True)\n",
        "df11 = df11[df11['Profit']<0]\n",
        "del df11['Rank']\n",
        "del df11['Country']\n",
        "del df11['Sales']\n",
        "del df11['Market Value']\n",
        "df11 = df11.sort_values('Assets', ascending=False).reset_index().drop('index', 1)\n",
        "del df11['Assets']\n",
        "\n",
        "df11['Profit'] = df11['Profit'].astype(int)\n",
        "ax = df11.plot.barh(x='Name', y='Profit', figsize=(10,10)) ## horizontal bar chart"
      ],
      "execution_count": null,
      "outputs": [
        {
          "output_type": "display_data",
          "data": {
            "image/png": "[encoded data removed]",
            "text/plain": [
              "<Figure size 720x720 with 1 Axes>"
            ]
          },
          "metadata": {
            "needs_background": "light"
          }
        }
      ]
    },
    {
      "cell_type": "code",
      "source": [
        "df12 = df.copy()\n",
        "df12 = df12.sort_values('Rank', ascending=True).head(5).reset_index().drop('index', 1)\n",
        "\n",
        "del df12['Name']\n",
        "del df12['Country']\n",
        "del df12['Assets']\n",
        "\n",
        "rank = df12['Rank'].tolist()\n",
        "sales = df12['Sales'].tolist()\n",
        "profit = df12['Profit'].tolist()\n",
        "market = df12['Market Value'].tolist()\n",
        "df12\n",
        "\n",
        "df12.plot(x=\"Rank\", y=[\"Sales\", \"Profit\", \"Market Value\"], kind=\"bar\")"
      ],
      "metadata": {
        "colab": {
          "base_uri": "https://localhost:8080/",
          "height": 314
        },
        "id": "5cmlYA-SpedE",
        "outputId": "2a654349-ab5d-4d35-a5a2-023e8c9b8a30"
      },
      "execution_count": null,
      "outputs": [
        {
          "output_type": "execute_result",
          "data": {
            "text/plain": [
              "<matplotlib.axes._subplots.AxesSubplot at 0x7f560d5d7d50>"
            ]
          },
          "metadata": {},
          "execution_count": 311
        },
        {
          "output_type": "display_data",
          "data": {
            "image/png": "[encoded data removed]",
            "text/plain": [
              "<Figure size 432x288 with 1 Axes>"
            ]
          },
          "metadata": {
            "needs_background": "light"
          }
        }
      ]
    },
    {
      "cell_type": "code",
      "source": [
        "fig, (df11, df12) = plt.subplots(2)\n",
        "# df11.plot(x='Name', y='Profit', figsize=(10,10), kind=\"barh\") ## horizontal bar chart\n",
        "# df12.plot(x=\"Rank\", y=[\"Sales\", \"Profit\", \"Market Value\"], kind=\"bar\")"
      ],
      "metadata": {
        "colab": {
          "base_uri": "https://localhost:8080/",
          "height": 269
        },
        "id": "7CHW9hlctkjw",
        "outputId": "57a9254e-8402-40ec-dd58-b827e4d09984"
      },
      "execution_count": null,
      "outputs": [
        {
          "output_type": "display_data",
          "data": {
            "image/png": "[encoded data removed]",
            "text/plain": [
              "<Figure size 432x288 with 2 Axes>"
            ]
          },
          "metadata": {
            "needs_background": "light"
          }
        }
      ]
    }
  ]
}