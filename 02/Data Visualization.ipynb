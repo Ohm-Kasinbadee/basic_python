{
  "nbformat": 4,
  "nbformat_minor": 0,
  "metadata": {
    "colab": {
      "name": "Tools_for_Data_Science-Week8-student.ipynb",
      "provenance": [],
      "collapsed_sections": []
    },
    "kernelspec": {
      "name": "python3",
      "display_name": "Python 3"
    }
  },
  "cells": [
    {
      "cell_type": "markdown",
      "metadata": {
        "id": "HwwKBEZ-GaV8"
      },
      "source": [
        "**Data Visualization**\n",
        "\n",
        "<p>Making informative visualization (plots) is one of the most important task in data analysis</p>\n",
        "\n",
        "- For exploratory data analysis\n",
        "- Communicate data clearly\n",
        "- Share unbiased representation of data\n",
        "- Use them to support recommendation and stakeholders\n",
        "\n",
        "<img src=\"https://drive.google.com/uc?export=view&id=19uayRtDpC8hB0IRHjNvSkxbrhAG70pK_\" width=\"500\">"
      ]
    },
    {
      "cell_type": "markdown",
      "metadata": {
        "id": "ZalFJsYLIuDA"
      },
      "source": [
        "**Matplotlib and pyplot**\n",
        "- Matplotlib is a library for 2D plotting\n",
        "\n",
        "**pyPlot** is a collection of methods within Matplotlib which allow user to construct 2D plots easily and interactively.\n",
        "\n",
        "https://matplotlib.org/tutorials/introductory/pyplot.html\n"
      ]
    },
    {
      "cell_type": "code",
      "metadata": {
        "id": "Jg12nKZYCqL_"
      },
      "source": [
        "import matplotlib.pyplot as plt\n",
        "import numpy as np\n",
        "import pandas as pd\n",
        "# https://pandas.pydata.org/docs/getting_started/intro_tutorials/04_plotting.html#min-tut-04-plotting\n",
        "from numpy.random import randn"
      ],
      "execution_count": null,
      "outputs": []
    },
    {
      "cell_type": "markdown",
      "metadata": {
        "id": "APq7AQjpXrF_"
      },
      "source": [
        "<img src=\"https://drive.google.com/uc?export=view&id=1TlZXbeDjT9yAS-CR0ONNPRu5xb6juPYF\" width=\"500\">"
      ]
    },
    {
      "cell_type": "markdown",
      "metadata": {
        "id": "IX4avYu5QlJC"
      },
      "source": [
        "**Types of inputs to plotting**\n",
        "- All of plotting functions *expect np.array or np.ma.masked_array as input.* \n",
        "- Classes that are *’array-like’* such as pandas data objects and np.matrix may or may not work as intended. It is best to convert these to np.array objects prior to plotting.\n",
        "\n",
        "\n",
        "- ระวังค่า NaN"
      ]
    },
    {
      "cell_type": "code",
      "metadata": {
        "id": "ct3tL6jNTRkk"
      },
      "source": [
        "# python list\n",
        "# numpy array\n",
        "# pandas series\n",
        "x = 1\n",
        "x = [1]\n",
        "\n",
        "a = pd.DataFrame(np.random.rand(4,5), columns = list('abcde')) \n",
        "a_asarray = a.values\n",
        "\n",
        "# and to convert a np.matrix\n",
        "b = np.matrix([[1,2],[3,4]]) \n",
        "b_asarray = np.asarray(b)"
      ],
      "execution_count": null,
      "outputs": []
    },
    {
      "cell_type": "code",
      "metadata": {
        "id": "KLh4CL_mGC75",
        "outputId": "97122f03-4e0a-46de-8978-e7d6dff887a3",
        "colab": {
          "base_uri": "https://localhost:8080/",
          "height": 346
        }
      },
      "source": [
        "# First plot https://matplotlib.org/api/_as_gen/matplotlib.pyplot.subplot.html#matplotlib.pyplot.subplot\n",
        "\n",
        "# make a a numpy array\n",
        "# x = [0, 1, 2, 3, 4, 5, 6, 7, 8, 9]\n",
        "# x = list(range(10))\n",
        "x = np.linspace(0, 10, 11)\n",
        "print(x)\n",
        "y = x*x # list\n",
        "print(y)\n",
        "# x and y must have same number of points\n",
        "plt.plot(x, y, 'bo:')\n",
        "# string 'do:' tells how to make the plot\n",
        "# b = blue \n",
        "# o the line style\n",
        "# : markaer\n",
        "plt.xlabel('X')\n",
        "plt.ylabel('Y')\n",
        "plt.title('My First Plot')\n",
        "\n",
        "# plt.axis([-1, 11, -1, 101])\n",
        "# plt.grid()"
      ],
      "execution_count": null,
      "outputs": [
        {
          "output_type": "stream",
          "text": [
            "[ 0.  1.  2.  3.  4.  5.  6.  7.  8.  9. 10.]\n",
            "[  0.   1.   4.   9.  16.  25.  36.  49.  64.  81. 100.]\n"
          ],
          "name": "stdout"
        },
        {
          "output_type": "execute_result",
          "data": {
            "text/plain": [
              "Text(0.5, 1.0, 'My First Plot')"
            ]
          },
          "metadata": {
            "tags": []
          },
          "execution_count": 49
        },
        {
          "output_type": "display_data",
          "data": {
            "image/png": "[encoded data removed]",
            "text/plain": [
              "<Figure size 432x288 with 1 Axes>"
            ]
          },
          "metadata": {
            "tags": [],
            "needs_background": "light"
          }
        }
      ]
    },
    {
      "cell_type": "markdown",
      "metadata": {
        "id": "kJasAwAKKJWv"
      },
      "source": [
        "**PyPlot Figures**\n",
        "- Matplotlib allows you to use one or more “figures” for making graphs."
      ]
    },
    {
      "cell_type": "code",
      "metadata": {
        "id": "Tv024GGMC7VI",
        "outputId": "7701ef76-a6ec-4bd1-d43f-8ae888338191",
        "colab": {
          "base_uri": "https://localhost:8080/",
          "height": 51
        }
      },
      "source": [
        "fig = plt.figure()  # an empty figure with no axes\n",
        "fig.suptitle('No axes on this figure') # Add a title so we know which it is"
      ],
      "execution_count": null,
      "outputs": [
        {
          "output_type": "execute_result",
          "data": {
            "text/plain": [
              "Text(0.5, 0.98, 'No axes on this figure')"
            ]
          },
          "metadata": {
            "tags": []
          },
          "execution_count": 50
        },
        {
          "output_type": "display_data",
          "data": {
            "text/plain": [
              "<Figure size 432x288 with 0 Axes>"
            ]
          },
          "metadata": {
            "tags": []
          }
        }
      ]
    },
    {
      "cell_type": "markdown",
      "metadata": {
        "id": "wJ9o8ke8XCdg"
      },
      "source": [
        "<img src=\"https://drive.google.com/uc?export=view&id=1oVsv9JqKtwb2wTYTEsyb4dY8IaJ9OhWn\" width=\"500\">\n",
        "\n",
        "- **Figure** คือหน้าต่างในการแสดงผลทั้งหมด สามารถมีได้ Axes (1 - n)\n",
        "- **Axes** เป็นพืนที่ในการแสดงผลกราฟที่กำหนด (line, bar, scatter) ประกอบด้วย Axis ถ้ากราฟเป็นแบบสองมิติ จะประกอบด้วย สอง Axis objects คือ axis x, axis y สามารถกำหนด title, x_label, y_label)\n",
        "- **Axis** คือ number-line สามารถกำหนดระยะ (tick) และค่าในการแสดงผลแกน"
      ]
    },
    {
      "cell_type": "code",
      "metadata": {
        "id": "RKUeYwnEDGgj"
      },
      "source": [
        "# 1 create figure https://matplotlib.org/api/_as_gen/matplotlib.pyplot.figure.html\n",
        "fig = plt.figure(figsize=(12, 12)) # create figure (Width, height in inches.)\n",
        "#ax1 = fig.add_subplot(1, 1, 1)\n",
        "\n",
        "ax1 = fig.add_subplot(2, 2, 1) # add axis subplot\n",
        "ax2 = fig.add_subplot(2, 2, 2) # add axis subplot\n",
        "ax3 = fig.add_subplot(2, 2, 3) # add axis subplot"
      ],
      "execution_count": null,
      "outputs": []
    },
    {
      "cell_type": "code",
      "metadata": {
        "id": "ufLCNDb_DZrq"
      },
      "source": [
        "fig2, axes2 = plt.subplots(2, 2, sharex=True, sharey=True) # Create a figure and a set of subplots.\n",
        "print(axes2)\n",
        "for i in range(2):\n",
        "  for j in range(2):\n",
        "    axes2[i, j].hist(np.random.randn(500), bins=50, color='k', alpha=0.5)\n",
        "    \n",
        "# plt.subplots_adjust(wspace=0, hspace=0)"
      ],
      "execution_count": null,
      "outputs": []
    },
    {
      "cell_type": "markdown",
      "metadata": {
        "id": "mZ0H1c1SMjSR"
      },
      "source": [
        "**Basic Chart** <br>\n",
        "<img src=\"https://drive.google.com/uc?export=view&id=1b0kGH_2O06mhFRzWPQfbhmX7WVbhjXyR\" width=\"500\">\n"
      ]
    },
    {
      "cell_type": "code",
      "metadata": {
        "id": "Zs798YGFEA21",
        "outputId": "bffa0508-3e02-4769-a0bf-2567915deaf1",
        "colab": {
          "base_uri": "https://localhost:8080/",
          "height": 282
        }
      },
      "source": [
        "x = np.arange(0, 20, 2)\n",
        "y = np.random.randint(100, size=10)\n",
        "fig = plt.figure()\n",
        "ax = fig.add_subplot(1, 1, 1)\n",
        "ax.plot(y)"
      ],
      "execution_count": null,
      "outputs": [
        {
          "output_type": "execute_result",
          "data": {
            "text/plain": [
              "[<matplotlib.lines.Line2D at 0x7f86be0b9630>]"
            ]
          },
          "metadata": {
            "tags": []
          },
          "execution_count": 17
        },
        {
          "output_type": "display_data",
          "data": {
            "image/png": "[encoded data removed]",
            "text/plain": [
              "<Figure size 432x288 with 1 Axes>"
            ]
          },
          "metadata": {
            "tags": [],
            "needs_background": "light"
          }
        }
      ]
    },
    {
      "cell_type": "code",
      "metadata": {
        "id": "sKG-rr4wTe28",
        "outputId": "3100efa2-5c14-4eec-b6d7-73302949b04f",
        "colab": {
          "base_uri": "https://localhost:8080/",
          "height": 312
        }
      },
      "source": [
        "fig, ax = plt.subplots()\n",
        "\n",
        "x = np.linspace(0, 2, 100) # create data\n",
        "\n",
        "ax.plot(x, x, label='linear') \n",
        "ax.plot(x, x**2, label='quadratic') \n",
        "ax.plot(x, x**3, label='cubic')\n",
        "\n",
        "ax.set_xlabel('x label') \n",
        "ax.set_ylabel('y label')\n",
        "ax.set_title(\"Simple Plot\") \n",
        "ax.legend()"
      ],
      "execution_count": null,
      "outputs": [
        {
          "output_type": "execute_result",
          "data": {
            "text/plain": [
              "<matplotlib.legend.Legend at 0x7f86be060048>"
            ]
          },
          "metadata": {
            "tags": []
          },
          "execution_count": 18
        },
        {
          "output_type": "display_data",
          "data": {
            "image/png": "[encoded data removed]",
            "text/plain": [
              "<Figure size 432x288 with 1 Axes>"
            ]
          },
          "metadata": {
            "tags": [],
            "needs_background": "light"
          }
        }
      ]
    },
    {
      "cell_type": "code",
      "metadata": {
        "id": "x7euNKBAejqg",
        "outputId": "f49dcb54-dbcc-43ed-deec-c785ebe41143",
        "colab": {
          "base_uri": "https://localhost:8080/",
          "height": 282
        }
      },
      "source": [
        "fig = plt.figure()\n",
        "ax = fig.add_subplot(1, 1, 1)\n",
        "x = np.arange(-2*np.pi, 2*np.pi, 0.01)\n",
        "y = np.sin(3*x)/x\n",
        "y2 = np.sin(2*x)/x\n",
        "y3 = np.sin(4*x)/x\n",
        "\n",
        "ax.plot(x, y, color='r')\n",
        "ax.plot(x, y2, color='g')\n",
        "ax.plot(x, y3, color='b')"
      ],
      "execution_count": null,
      "outputs": [
        {
          "output_type": "execute_result",
          "data": {
            "text/plain": [
              "[<matplotlib.lines.Line2D at 0x7f86bdbc4a90>]"
            ]
          },
          "metadata": {
            "tags": []
          },
          "execution_count": 19
        },
        {
          "output_type": "display_data",
          "data": {
            "image/png": "[encoded data removed]",
            "text/plain": [
              "<Figure size 432x288 with 1 Axes>"
            ]
          },
          "metadata": {
            "tags": [],
            "needs_background": "light"
          }
        }
      ]
    },
    {
      "cell_type": "code",
      "metadata": {
        "id": "pNvsZplqelor"
      },
      "source": [
        "# use pandas as input (df)\n",
        "data = {'series1':[1,3,4,3,5], 'series2':[2,4,5,2,4], 'series3':[3,2,3,1,3]}\n",
        "df = pd.DataFrame(data)\n",
        "x = np.arange(5)\n",
        "plt.axis([0,5,0,7])\n",
        "plt.plot(x,df)\n",
        "plt.legend(data, loc=2)"
      ],
      "execution_count": null,
      "outputs": []
    },
    {
      "cell_type": "markdown",
      "metadata": {
        "id": "x6BaALPien8I"
      },
      "source": [
        "Histograms\n",
        "- A histogram consists of adjacent rectangles erected on the x-axis, split into discrete intervals called bins, and with an area proportional to the frequency of the occurrences for that bin.\n",
        "- this kind of visualization is commonly used in statistical studies about distribution of samples."
      ]
    },
    {
      "cell_type": "code",
      "metadata": {
        "id": "KN7SbPpVe4bC",
        "outputId": "6cc75d03-a196-48e6-c2ed-58129bde8280",
        "colab": {
          "base_uri": "https://localhost:8080/",
          "height": 334
        }
      },
      "source": [
        "pop = np.random.randint(0, 100, 100)\n",
        "n, bins, patches = plt.hist(pop, bins=20)\n",
        "print(n)\n",
        "print(bins)\n",
        "print(patches)"
      ],
      "execution_count": null,
      "outputs": [
        {
          "output_type": "stream",
          "text": [
            "[5. 6. 5. 6. 4. 6. 3. 4. 8. 9. 4. 1. 6. 5. 5. 7. 8. 0. 5. 3.]\n",
            "[ 1.   5.8 10.6 15.4 20.2 25.  29.8 34.6 39.4 44.2 49.  53.8 58.6 63.4\n",
            " 68.2 73.  77.8 82.6 87.4 92.2 97. ]\n",
            "<a list of 20 Patch objects>\n"
          ],
          "name": "stdout"
        },
        {
          "output_type": "display_data",
          "data": {
            "image/png": "[encoded data removed]",
            "text/plain": [
              "<Figure size 432x288 with 1 Axes>"
            ]
          },
          "metadata": {
            "tags": [],
            "needs_background": "light"
          }
        }
      ]
    },
    {
      "cell_type": "markdown",
      "metadata": {
        "id": "RtEEV0Mye7PH"
      },
      "source": [
        "**Bar Charts**\n",
        "It is very similar to a histogram but in this case the x-axis is not used to reference numerical values but categories."
      ]
    },
    {
      "cell_type": "code",
      "metadata": {
        "id": "ysmsXybWe9CS",
        "outputId": "371e7e96-e51b-47b0-85f6-ce21fa9991ba",
        "colab": {
          "base_uri": "https://localhost:8080/",
          "height": 282
        }
      },
      "source": [
        "index = [0, 1, 2, 3, 4]\n",
        "values = [5, 7, 3, 4, 6]\n",
        "plt.bar(index, values)"
      ],
      "execution_count": null,
      "outputs": [
        {
          "output_type": "execute_result",
          "data": {
            "text/plain": [
              "<BarContainer object of 5 artists>"
            ]
          },
          "metadata": {
            "tags": []
          },
          "execution_count": 22
        },
        {
          "output_type": "display_data",
          "data": {
            "image/png": "[encoded data removed]",
            "text/plain": [
              "<Figure size 432x288 with 1 Axes>"
            ]
          },
          "metadata": {
            "tags": [],
            "needs_background": "light"
          }
        }
      ]
    },
    {
      "cell_type": "code",
      "metadata": {
        "id": "rLGLul3hfAp3",
        "outputId": "97d0d121-a9e0-4c1d-f1d2-d6e7d6aaf45a",
        "colab": {
          "base_uri": "https://localhost:8080/",
          "height": 436
        }
      },
      "source": [
        "index = np.arange(5)\n",
        "values1 = [5, 7, 3, 4, 6]\n",
        "plt.bar(index, values1)\n",
        "plt.xticks(index, ['A', 'B', 'C', 'D', 'E'])"
      ],
      "execution_count": null,
      "outputs": [
        {
          "output_type": "execute_result",
          "data": {
            "text/plain": [
              "([<matplotlib.axis.XTick at 0x7f86b1305e80>,\n",
              "  <matplotlib.axis.XTick at 0x7f86b0abf1d0>,\n",
              "  <matplotlib.axis.XTick at 0x7f86b0863390>,\n",
              "  <matplotlib.axis.XTick at 0x7f86b0f5a390>,\n",
              "  <matplotlib.axis.XTick at 0x7f86b0f5a828>],\n",
              " [Text(0, 0, 'A'),\n",
              "  Text(0, 0, 'B'),\n",
              "  Text(0, 0, 'C'),\n",
              "  Text(0, 0, 'D'),\n",
              "  Text(0, 0, 'E')])"
            ]
          },
          "metadata": {
            "tags": []
          },
          "execution_count": 56
        },
        {
          "output_type": "display_data",
          "data": {
            "image/png": "[encoded data removed]",
            "text/plain": [
              "<Figure size 432x288 with 1 Axes>"
            ]
          },
          "metadata": {
            "tags": [],
            "needs_background": "light"
          }
        }
      ]
    },
    {
      "cell_type": "markdown",
      "metadata": {
        "id": "YrOdofF7fECH"
      },
      "source": [
        "**Pie Charts**"
      ]
    },
    {
      "cell_type": "code",
      "metadata": {
        "id": "wBv2y-wkfCys",
        "outputId": "b4ddf67b-0e1d-4228-cd97-7d644106e20f",
        "colab": {
          "base_uri": "https://localhost:8080/",
          "height": 322
        }
      },
      "source": [
        "fig_pie = plt.figure()\n",
        "ax_pie = fig_pie.add_subplot(1, 1, 1)\n",
        "\n",
        "labels = ['Nokias', 'Sumsung', 'Apple', 'Lumia']\n",
        "values = [10, 30, 45, 15]\n",
        "colors = ['yellow', 'green', 'red', 'blue']\n",
        "ax_pie.pie(values, labels=labels, colors=colors)\n",
        "ax_pie.axis('equal')"
      ],
      "execution_count": null,
      "outputs": [
        {
          "output_type": "execute_result",
          "data": {
            "text/plain": [
              "(-1.11637372803214,\n",
              " 1.1007797090739162,\n",
              " -1.1163737124158366,\n",
              " 1.1007797083302826)"
            ]
          },
          "metadata": {
            "tags": []
          },
          "execution_count": 24
        },
        {
          "output_type": "display_data",
          "data": {
            "image/png": "[encoded data removed]",
            "text/plain": [
              "<Figure size 432x288 with 1 Axes>"
            ]
          },
          "metadata": {
            "tags": []
          }
        }
      ]
    },
    {
      "cell_type": "code",
      "metadata": {
        "id": "YpFsDKH7fGJU",
        "outputId": "d15ecb35-2211-4497-cfa9-b44f91d49bc6",
        "colab": {
          "base_uri": "https://localhost:8080/",
          "height": 332
        }
      },
      "source": [
        "fig_pie = plt.figure()\n",
        "labels = ['Nokia', 'Samsung', 'Apple', 'Lumia']\n",
        "values = [10, 30, 45, 15]\n",
        "colors = ['yellow', 'green', 'red', 'blue']\n",
        "explode = [0.3, 0, 0 ,0]\n",
        "plt.title('A Pie Chart')\n",
        "plt.pie(values, labels=labels, colors=colors, explode=explode,\n",
        "        startangle=90)\n",
        "plt.axis('equal')"
      ],
      "execution_count": null,
      "outputs": [
        {
          "output_type": "execute_result",
          "data": {
            "text/plain": [
              "(-1.1007797083302826,\n",
              " 1.1163737124158366,\n",
              " -1.1306395753855039,\n",
              " 1.4003625034945653)"
            ]
          },
          "metadata": {
            "tags": []
          },
          "execution_count": 25
        },
        {
          "output_type": "display_data",
          "data": {
            "image/png": "[encoded data removed]",
            "text/plain": [
              "<Figure size 432x288 with 1 Axes>"
            ]
          },
          "metadata": {
            "tags": []
          }
        }
      ]
    },
    {
      "cell_type": "markdown",
      "metadata": {
        "id": "kn2Lt30PSy3O"
      },
      "source": [
        "**Example**\n",
        ": Netflix Movies and TV Shows <br>"
      ]
    },
    {
      "cell_type": "code",
      "metadata": {
        "id": "Aaul5ua9SyqN"
      },
      "source": [
        "data = pd.read_csv(\"https://raw.githubusercontent.com/ABChamp/python_programming_buu_class/master/data/nft.csv?token=ACC22Y76LHXMUWKCCJJ6PRK7NVI3O\")"
      ],
      "execution_count": null,
      "outputs": []
    },
    {
      "cell_type": "code",
      "metadata": {
        "id": "VWs2hOz5VP3F"
      },
      "source": [
        "## add new features in the dataset\n",
        "data[\"date_added\"] = pd.to_datetime(data['date_added'])\n",
        "data['year_added'] = data['date_added'].dt.year\n",
        "data['month_added'] = data['date_added'].dt.month\n",
        "\n",
        "data['season_count'] = data.apply(lambda x : x['duration'].split(\" \")[0] if \"Season\" in x['duration'] else \"\", axis = 1)\n",
        "data['duration'] = data.apply(lambda x : x['duration'].split(\" \")[0] if \"Season\" not in x['duration'] else \"\", axis = 1)\n",
        "data.head()"
      ],
      "execution_count": null,
      "outputs": []
    },
    {
      "cell_type": "markdown",
      "metadata": {
        "id": "kWcPTWBIULG_"
      },
      "source": [
        "1. แสดงจำนวนของ type ใน content ของ Netflix ทั้งหมด"
      ]
    },
    {
      "cell_type": "code",
      "metadata": {
        "id": "vMsuOlAbTAlx",
        "outputId": "7515792e-7231-41e2-f6d5-95c653f58d3c",
        "colab": {
          "base_uri": "https://localhost:8080/",
          "height": 68
        }
      },
      "source": [
        "col = \"type\"\n",
        "grouped = data[col].value_counts().reset_index()\n",
        "print(grouped)"
      ],
      "execution_count": null,
      "outputs": [
        {
          "output_type": "stream",
          "text": [
            "     index  type\n",
            "0    Movie  4265\n",
            "1  TV Show  1969\n"
          ],
          "name": "stdout"
        }
      ]
    }
  ]
}