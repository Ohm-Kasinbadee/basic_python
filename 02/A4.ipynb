{
  "nbformat": 4,
  "nbformat_minor": 0,
  "metadata": {
    "colab": {
      "name": "63910072Assignment4",
      "provenance": [],
      "collapsed_sections": []
    },
    "kernelspec": {
      "name": "python3",
      "display_name": "Python 3"
    }
  },
  "cells": [
    {
      "cell_type": "code",
      "metadata": {
        "id": "Oso_trxaRtCE",
        "colab": {
          "base_uri": "https://localhost:8080/",
          "height": 52
        },
        "outputId": "681aca34-80a5-4c70-af4a-a79972965ff9"
      },
      "source": [
        "#1\n",
        "input1 = list(input())\n",
        "data1 =input1.count('5')\n",
        "if data1 >=1:\n",
        " print('Boomm!')\n",
        "else:\n",
        " print('there is no 5')"
      ],
      "execution_count": null,
      "outputs": [
        {
          "output_type": "stream",
          "text": [
            "8,6,33,100\n",
            "there is no 5\n"
          ],
          "name": "stdout"
        }
      ]
    },
    {
      "cell_type": "code",
      "metadata": {
        "id": "1LhsyG7FRpCV",
        "colab": {
          "base_uri": "https://localhost:8080/",
          "height": 52
        },
        "outputId": "93df993f-df40-4569-c586-9d4560bf7400"
      },
      "source": [
        "#2\n",
        "input1 = int(input())\n",
        "if input1>1001 and  input1<1100:\n",
        "  print('The 11th century')\n",
        "elif input1>1101 and  input1<1200:  \n",
        "  print('The 12th century') \n",
        "elif input1>1201 and  input1<1300:  \n",
        "  print('The 13th century')\n",
        "elif input1>1301 and  input1<1400:  \n",
        "  print('The 14th century')\n",
        "elif input1>1401 and  input1<1500:  \n",
        "  print('The 15th century')\n",
        "elif input1>1501 and  input1<1600:  \n",
        "  print('The 16th century')\n",
        "elif input1>1601 and  input1<1700:  \n",
        "  print('The 17th century')\n",
        "elif input1>1701 and  input1<1800:  \n",
        "  print('The 18th century')\n",
        "elif input1>1801 and  input1<1900:  \n",
        "  print('The 19th century')\n",
        "elif input1>1201 and  input1<2020:  \n",
        "  print('The 20th century')"
      ],
      "execution_count": null,
      "outputs": [
        {
          "output_type": "stream",
          "text": [
            "1555\n",
            "The 16th century\n"
          ],
          "name": "stdout"
        }
      ]
    },
    {
      "cell_type": "code",
      "metadata": {
        "id": "oUxfJpT6RmPN",
        "colab": {
          "base_uri": "https://localhost:8080/",
          "height": 52
        },
        "outputId": "813ab206-a562-4582-b3e6-470afc984354"
      },
      "source": [
        "#3\n",
        "input3 = str(input())\n",
        "data3 =input3.split()\n",
        "# print(data3)\n",
        "list3 = []\n",
        "for da3 in data3:\n",
        "  k3 = len(da3)\n",
        "  if k3 > 4:\n",
        "    d3 = k3*'*'\n",
        "    list3.append(d3)\n",
        "  else:  \n",
        "    list3.append(da3)\n",
        "print(' '.join(list3))"
      ],
      "execution_count": null,
      "outputs": [
        {
          "output_type": "stream",
          "text": [
            "The code is fourty\n",
            "The code is ******\n"
          ],
          "name": "stdout"
        }
      ]
    },
    {
      "cell_type": "code",
      "metadata": {
        "id": "aoMeuu1sRjcF",
        "colab": {
          "base_uri": "https://localhost:8080/",
          "height": 52
        },
        "outputId": "06389042-f521-430c-a2af-c31c94d042ba"
      },
      "source": [
        "#4\n",
        "input4 = str(input())\n",
        "data4 =input4.split()\n",
        "in4_0 = int(data4[0])\n",
        "in4_1 = str(data4[1])\n",
        "in4_2 = int(data4[2])\n",
        "if in4_1 == '+':\n",
        "  num4 =in4_0+in4_2\n",
        "elif in4_1 == '-':\n",
        "  num4 =in4_0-in4_2\n",
        "elif in4_1 == 'x':\n",
        "  num4 =in4_0*in4_2\n",
        "elif in4_1 == '/':\n",
        "  num4 =in4_0/in4_2\n",
        "print(num4)"
      ],
      "execution_count": null,
      "outputs": [
        {
          "output_type": "stream",
          "text": [
            "10 / 3\n",
            "3.3333333333333335\n"
          ],
          "name": "stdout"
        }
      ]
    },
    {
      "cell_type": "code",
      "metadata": {
        "id": "Lz6HV8nvRfsr",
        "colab": {
          "base_uri": "https://localhost:8080/",
          "height": 69
        },
        "outputId": "af2bdf95-2d29-46b5-c9ca-1a1e547e32c8"
      },
      "source": [
        "#5\n",
        "input5 = int(input())\n",
        "list5 = ['brilliant','exciting','fantastic','virtuous','heart-warming','tear-jerking','beautiful','exhilarating','emotional','inspiring']\n",
        "list5_1 = []\n",
        "list5_2 = []\n",
        "for n5 in range(10):\n",
        "  num5 = n5+1\n",
        "  num5_1 = input5/num5\n",
        "  #print(num5_1.is_integer())\n",
        "  if num5_1.is_integer():\n",
        "    list5_1.append(int(num5))\n",
        "    list5_2.append(list5[n5])\n",
        "print(list5_1)\n",
        "print(' '.join(list5_2))"
      ],
      "execution_count": null,
      "outputs": [
        {
          "output_type": "stream",
          "text": [
            "60\n",
            "[1, 2, 3, 4, 5, 6, 10]\n",
            "brilliant exciting fantastic virtuous heart-warming tear-jerking inspiring\n"
          ],
          "name": "stdout"
        }
      ]
    },
    {
      "cell_type": "code",
      "metadata": {
        "id": "DPh3m_QGRbxc",
        "colab": {
          "base_uri": "https://localhost:8080/",
          "height": 52
        },
        "outputId": "9be0e088-dade-4c0b-af6d-c52192aefa66"
      },
      "source": [
        "#6\n",
        "input6 = str(input())\n",
        "data6 =input6.split(',')\n",
        "list6_1 = []\n",
        "list6_2 = []\n",
        "list6_3 = []\n",
        "i6=0\n",
        "for n6 in data6:\n",
        "  #print(n6.isnumeric())\n",
        "  if n6.isnumeric():\n",
        "   list6_1.append(n6)\n",
        "   list6_1.sort()\n",
        "   list6_2.append(i6)\n",
        "  else:\n",
        "   list6_3.append(int(n6))\n",
        "  i6+=1\n",
        "for in6 in range(1,len(list6_1)+1): \n",
        "   m6_1 =int(list6_2[in6-1])\n",
        "   m6_2 =int(list6_1[in6-1])\n",
        "   #print(str(m6_1)+str(m6_2))\n",
        "   list6_3.insert(m6_1,m6_2 )\n",
        "#print(list6_1)\n",
        "#print(list6_2)\n",
        "print(list6_3)\n",
        "#6,3,-2,5,-8,2,-2\n",
        "#6,5,4,-1,3,2,-1,1"
      ],
      "execution_count": null,
      "outputs": [
        {
          "output_type": "stream",
          "text": [
            "6,3,-2,5,-8,2,-2\n",
            "[2, 3, -2, 5, -8, 6, -2]\n"
          ],
          "name": "stdout"
        }
      ]
    },
    {
      "cell_type": "code",
      "metadata": {
        "id": "36xBZJ-ZRYjK",
        "colab": {
          "base_uri": "https://localhost:8080/",
          "height": 52
        },
        "outputId": "7f9caf30-6dba-4957-aab5-1a7e442c5db8"
      },
      "source": [
        "#7\n",
        "input7 = str(input())\n",
        "list7 = []\n",
        "for str7 in input7: \n",
        "  if str7.islower():\n",
        "    list7.append(str7)\n",
        "  else:\n",
        "    list7.append(' ')\n",
        "    list7.append(str7)\n",
        "str7_1 = ''.join(list7).lower()\n",
        "print(str7_1)\n",
        "#helloWorld"
      ],
      "execution_count": null,
      "outputs": [
        {
          "output_type": "stream",
          "text": [
            "iLoveMyTeapot\n",
            "i love my teapot\n"
          ],
          "name": "stdout"
        }
      ]
    },
    {
      "cell_type": "code",
      "metadata": {
        "id": "xmuB-dyVRSgf",
        "colab": {
          "base_uri": "https://localhost:8080/",
          "height": 52
        },
        "outputId": "2611a2e1-0b40-49f7-caa3-9238ea79d512"
      },
      "source": [
        "#8\n",
        "input8 = str(input())\n",
        "data8 =input8.split()\n",
        "list8 = []\n",
        "for str8 in data8:\n",
        "  str8=str(str8)\n",
        "  if 'zero'  == str8 or 'Zero'  == str8 :\n",
        "    list8.append('0')\n",
        "  elif 'one'  == str8 or 'One'  == str8 :\n",
        "    list8.append('1')\n",
        "  else:\n",
        "    list8.clear()\n",
        "    list8.append('None')\n",
        "print(''.join(list8))\n",
        "#zero one zero one zero one zero one\n",
        "#zero one zero one zero one zero three"
      ],
      "execution_count": null,
      "outputs": [
        {
          "output_type": "stream",
          "text": [
            "zero one zero one zero one zero three\n",
            "None\n"
          ],
          "name": "stdout"
        }
      ]
    },
    {
      "cell_type": "code",
      "metadata": {
        "id": "G-fQPxjsWVty",
        "colab": {
          "base_uri": "https://localhost:8080/",
          "height": 52
        },
        "outputId": "79801bfb-718f-43d6-f5f4-2066440f3f5a"
      },
      "source": [
        "#9\n",
        "def my_function9(data9_0):\n",
        " in9 = 1\n",
        " listf13 = []\n",
        " while in9 < len(data9_0):\n",
        "  d9_1 = str(data9[in9])\n",
        "  #print(d9_1[0])\n",
        "  #print(data9[in9-1][-1])\n",
        "  sd9 = data9.count(data9[in9])\n",
        "  if  data9[in9-1][-1] == d9_1[0] and sd9 <= 1:\n",
        "   listf13.append(1)\n",
        "  else:\n",
        "   listf13.append(0)\n",
        "  in9+=1\n",
        " return listf13\n",
        "input9 = str(input())\n",
        "data9 =input9.split(', ')\n",
        "ds9 = my_function9(data9)\n",
        "if 0 not in ds9:\n",
        "  print('valid')\n",
        "else:\n",
        "  print('invalid')\n",
        "#word, dowry, yodel, leader, righteous, serpent\n",
        "#motive, beach\n",
        "#hive, eh, hive"
      ],
      "execution_count": null,
      "outputs": [
        {
          "output_type": "stream",
          "text": [
            "word, dowry, yodel, leader, righteous, serpent\n",
            "valid\n"
          ],
          "name": "stdout"
        }
      ]
    },
    {
      "cell_type": "code",
      "metadata": {
        "id": "drdAtHD-RHaG",
        "colab": {
          "base_uri": "https://localhost:8080/",
          "height": 51
        },
        "outputId": "f56da992-3419-402a-f492-4d902870179c"
      },
      "source": [
        "#10\n",
        "input10 = list(input())\n",
        "f10=0\n",
        "data10_1 = ['N','E','S','W']\n",
        "for da10 in input10:\n",
        "  if da10 == 'L':\n",
        "    f10 +=1\n",
        "  elif da10 == 'R':\n",
        "    f10 -=1\n",
        "print(data10_1[f10])"
      ],
      "execution_count": null,
      "outputs": [
        {
          "output_type": "stream",
          "text": [
            "RRRL\n",
            "S\n"
          ],
          "name": "stdout"
        }
      ]
    },
    {
      "cell_type": "code",
      "metadata": {
        "id": "xSiDVAsfQ_-J",
        "colab": {
          "base_uri": "https://localhost:8080/",
          "height": 87
        },
        "outputId": "b3a4f814-c568-4135-f99d-1b78fa2b5d6a"
      },
      "source": [
        "#11\n",
        "input11 = str(input())\n",
        "data11 =input11.split(' ')\n",
        "data = \"#\"+data11[1]+\" Happy Birthday \"+data11[0]+\"! \"+data11[1]+\"#\" \n",
        "fg = '#'*19\n",
        "print(fg)\n",
        "print(data)\n",
        "print(fg)"
      ],
      "execution_count": null,
      "outputs": [
        {
          "output_type": "stream",
          "text": [
            "Russell 19\n",
            "###################\n",
            "#19 Happy Birthday Russell! 19#\n",
            "###################\n"
          ],
          "name": "stdout"
        }
      ]
    },
    {
      "cell_type": "code",
      "metadata": {
        "id": "JMbWQ3D5TjyV",
        "colab": {
          "base_uri": "https://localhost:8080/",
          "height": 52
        },
        "outputId": "d23195af-6032-424c-9ba2-d6879925bb5a"
      },
      "source": [
        "#12\n",
        "import json\n",
        "input12 = str(input())\n",
        "data12 = json.loads(input12)\n",
        "list12 = []\n",
        "sort_orders = sorted(data12.items(), key=lambda x: x[1], reverse=True)\n",
        "#print(data12.items())\n",
        "for x12, y12 in sort_orders:\n",
        "  if y12 > 500:\n",
        "    list12.append(x12)\n",
        "print(', '.join(list12))\n",
        "#{\"Computer\": 600, \"TV\": 800, \"Radio\":50}"
      ],
      "execution_count": null,
      "outputs": [
        {
          "output_type": "stream",
          "text": [
            "{\"Computer\": 600, \"TV\": 800, \"Radio\":50}\n",
            "TV, Computer\n"
          ],
          "name": "stdout"
        }
      ]
    },
    {
      "cell_type": "code",
      "metadata": {
        "id": "199eFJWE18d-",
        "colab": {
          "base_uri": "https://localhost:8080/",
          "height": 52
        },
        "outputId": "9e724e74-9fc1-4ad7-dcd3-9df52902db10"
      },
      "source": [
        "#13\n",
        "import json\n",
        "def my_function13(data13_0):\n",
        "#  print(data13_0)\n",
        " listf13_1=[]\n",
        " for daf13 in data13_0:\n",
        "  #print(daf13)\n",
        "  dataf13 = daf13.split('/')\n",
        "  if dataf13[0] == dataf13[1] :\n",
        "   listf13_1.append(1)\n",
        "  else:\n",
        "   listf13_1.append(0)\n",
        " return listf13_1\n",
        "input13 = str(input())\n",
        "data13 = json.loads(input13)\n",
        "list13=[]\n",
        "for da13 in data13:\n",
        "  fin13 = my_function13(data13[da13])\n",
        "  x13 = fin13.count(0)\n",
        "  if x13 == 0:\n",
        "    list13.append(da13)\n",
        "print(', '.join(list13))\n",
        "  #print(x)\n",
        "  #{ \"John\" : [\"5/5\", \"50/50\", \"10/10\", \"10/10\"], \"Sarah\" : [\"4/8\", \"50/57\", \"7/10\", \"10/18\"], \"Adam\" : [\"8/10\", \"22/25\", \"3/5\", \"5/5\"], \"Barry\" : [\"3/3\", \"20/20\"] }"
      ],
      "execution_count": null,
      "outputs": [
        {
          "output_type": "stream",
          "text": [
            "{ \"Zara\" : [\"10/10\"], \"Kris\" : [\"30/30\"], \"Charlie\" : [\"100/100\"], \"Alex\" : [\"1/1\"] }\n",
            "Zara, Kris, Charlie, Alex\n"
          ],
          "name": "stdout"
        }
      ]
    },
    {
      "cell_type": "code",
      "metadata": {
        "id": "ZaK5bu-AAWM2",
        "colab": {
          "base_uri": "https://localhost:8080/",
          "height": 52
        },
        "outputId": "c302f7e3-bd17-4330-9295-235326f0494d"
      },
      "source": [
        "#14\n",
        "def my_function14(data14_0):\n",
        " listf14 = []\n",
        " for daf14 in data14_0: \n",
        "   if daf14 not in listf14:\n",
        "    listf14.append(daf14)\n",
        " return listf14\n",
        "input14 = str(input())\n",
        "in14 = my_function14(input14)\n",
        "list14 = []\n",
        "for da14 in input14:\n",
        " list14.append(in14.index(da14))\n",
        "print(list14)"
      ],
      "execution_count": null,
      "outputs": [
        {
          "output_type": "stream",
          "text": [
            "hmmmmm\n",
            "[0, 1, 1, 1, 1, 1]\n"
          ],
          "name": "stdout"
        }
      ]
    },
    {
      "cell_type": "code",
      "metadata": {
        "id": "l1rQ2OM0Ioza",
        "colab": {
          "base_uri": "https://localhost:8080/",
          "height": 35
        },
        "outputId": "90986196-993d-4337-813e-643611af93c9"
      },
      "source": [
        "#15\n",
        "input15 = [[1], (1)]\n",
        "list15 =[]\n",
        "for da15 in input15:\n",
        " list15.append(type(da15))\n",
        "if len(set(list15)) <= 1:\n",
        " print('True')\n",
        "else:\n",
        " print('False')\n",
        "# [1, 6, 5, 3, 7, 9]\n",
        "# [1, 6, 5, 3, \"7\", 9]\n",
        "# [[]]\n",
        "# [[1], (1)]"
      ],
      "execution_count": null,
      "outputs": [
        {
          "output_type": "stream",
          "text": [
            "False\n"
          ],
          "name": "stdout"
        }
      ]
    }
  ]
}