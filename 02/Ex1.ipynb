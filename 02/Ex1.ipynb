{
  "nbformat": 4,
  "nbformat_minor": 0,
  "metadata": {
    "colab": {
      "name": "Ex1",
      "provenance": [],
      "collapsed_sections": []
    },
    "kernelspec": {
      "name": "python3",
      "display_name": "Python 3"
    },
    "language_info": {
      "name": "python"
    }
  },
  "cells": [
    {
      "cell_type": "markdown",
      "source": [
        "1.ร้านขายหนังสือร้านหนึ่ง พยายามเพิ่มยอดขายโดยการเสนอโปรโมชั่นพิเศษ ถ้าคุณซื้อหนังสือมากกว่า 3 เล่ม ที่มีมูลค่ารวมเกิน 500 บาท คุณจะได้ส่วนลด 10%\n",
        "\n",
        "ให้เขียนโปรแกรมรับจำนวนหนังสือที่ซื้อและราคารวม จากนั้นคำนวณราคาที่ต้องจ่าย\n",
        "\n",
        "\n",
        "```\n",
        "Sample output1\n",
        "\n",
        "How many books: 2\n",
        "How much: 1000\n",
        "You have to pay 1000 bath.\n",
        "\n",
        "Sample output2\n",
        "\n",
        "How many books: 5\n",
        "How much: 500\n",
        "You have to pay 500 bath.\n",
        "\n",
        "Sample output3\n",
        "\n",
        "How many books: 5\n",
        "How much: 600\n",
        "You have to pay 540 bath.\n",
        "```\n",
        "\n"
      ],
      "metadata": {
        "id": "qTdGJuF6C1A0"
      }
    },
    {
      "cell_type": "code",
      "execution_count": null,
      "metadata": {
        "colab": {
          "base_uri": "https://localhost:8080/"
        },
        "id": "j9dhW98PCmKf",
        "outputId": "c49abd83-16ee-40f2-a49f-f6de03046709"
      },
      "outputs": [
        {
          "output_type": "stream",
          "name": "stdout",
          "text": [
            "How many books: 5\n",
            "How much: 3000\n",
            "You have to pay 2700 bath.\n"
          ]
        }
      ],
      "source": [
        "count = int(input(\"How many books: \"))\n",
        "money = int(input(\"How much: \"))\n",
        "#ซื้อหนังสือมากกว่า 3 เล่ม ที่มีมูลค่ารวมเกิน 500 บาท\n",
        "if count > 3 and money > 500:\n",
        "   s = money-money*0.1\n",
        "else:\n",
        "   s = money\n",
        "print(\"You have to pay\",int(s),\"bath.\")"
      ]
    },
    {
      "cell_type": "markdown",
      "source": [
        "2.ให้เขียนโปรแกรมรับจำนวนเต็ม N และ K จากนั้นพิมพ์เลขตั้งแต่ 1 ถึง N ที่ K หารลงตัว\n",
        "\n",
        "\n",
        "```\n",
        "Enter N: 10\n",
        "Enter K: 3\n",
        "3\n",
        "6\n",
        "9\n",
        "```\n",
        "\n"
      ],
      "metadata": {
        "id": "aakj4qu8Dcjj"
      }
    },
    {
      "cell_type": "code",
      "source": [
        "n = int(input(\"Enter N: \"))\n",
        "k = int(input(\"Enter K: \"))\n",
        "for x in range(1,n+1):\n",
        "   if  x%k == 0:\n",
        "      print(x)"
      ],
      "metadata": {
        "colab": {
          "base_uri": "https://localhost:8080/"
        },
        "id": "DpVAT0zQCv2M",
        "outputId": "87ed9af0-53d7-49b8-ef80-b50ca36c34ef"
      },
      "execution_count": null,
      "outputs": [
        {
          "output_type": "stream",
          "name": "stdout",
          "text": [
            "Enter N: 10\n",
            "Enter K: 2\n",
            "2\n",
            "4\n",
            "6\n",
            "8\n",
            "10\n"
          ]
        }
      ]
    },
    {
      "cell_type": "markdown",
      "source": [
        "3.เขียนฟังก์ชัน printdouble(s) ที่รับรายการ s ของจำนวนเต็ม จากนั้นให้พิจารณาข้อมูลในรายการทีละตัวตามลำดับ แล้วพิมพ์ค่าข้อมูลแต่ละตัวนั้นคูณด้วย 2 (ให้สั่งพิมพ์ข้อมูลในฟังก์ชันเลย)\n",
        "```\n",
        ">>> printdouble([1,10,3,7,15])\n",
        "2\n",
        "20\n",
        "6\n",
        "14\n",
        "30\n",
        "```"
      ],
      "metadata": {
        "id": "HI9oYtdsDsM6"
      }
    },
    {
      "cell_type": "code",
      "source": [
        "def printdouble(s):\n",
        "   for x in s:\n",
        "      print(x*2)\n",
        "print([1,10,3,7,15])\n",
        "printdouble([1,10,3,7,15])"
      ],
      "metadata": {
        "colab": {
          "base_uri": "https://localhost:8080/"
        },
        "id": "pwcQbxBoD-0b",
        "outputId": "84a904aa-13e9-4c31-ccfe-eabb3d5f5220"
      },
      "execution_count": null,
      "outputs": [
        {
          "output_type": "stream",
          "name": "stdout",
          "text": [
            "[1, 10, 3, 7, 15]\n",
            "2\n",
            "20\n",
            "6\n",
            "14\n",
            "30\n"
          ]
        }
      ]
    },
    {
      "cell_type": "markdown",
      "source": [
        "4.1 คำนวณฟังก์ชัน\n",
        "ให้เขียนฟังก์ชัน func(x) ที่คำนวณค่า\n",
        "\n",
        "ตัวอย่างการทำงานใน Python Shell\n",
        "```\n",
        ">>> print(func(0))\n",
        "0.0\n",
        ">>> print(func(10))\n",
        "106.696700846\n",
        ">>> print(func(20))\n",
        "451.779774682\n",
        "```"
      ],
      "metadata": {
        "id": "lsxclaPVERXa"
      }
    },
    {
      "cell_type": "code",
      "source": [
        "def func(x):\n",
        "   y = x**2*(2-2**(-x/100))\n",
        "   return y\n",
        "print(func(20))"
      ],
      "metadata": {
        "colab": {
          "base_uri": "https://localhost:8080/"
        },
        "id": "xPsxG4xtRg7s",
        "outputId": "3c082987-582f-476d-bb9b-2eefa30b055d"
      },
      "execution_count": 6,
      "outputs": [
        {
          "output_type": "stream",
          "name": "stdout",
          "text": [
            "451.77977468155035\n"
          ]
        }
      ]
    },
    {
      "cell_type": "markdown",
      "source": [
        "4.2 ตรวจสอบว่าอยู่ใต้เส้นโค้งหรือไม่\n",
        "เขียนฟังก์ชัน under(x,y) เพื่อตรวจสอบว่า จุด (x,y) อยู่ใต้เส้นของฟังก์ชัน f(x) ที่เขียนด้วยฟังก์ชัน func หรือไม่ ให้ฟังก์ชัน under คือค่าเป็น Boolean\n",
        "\n",
        "ในการเขียนฟังก์ชันดังกล่าวให้เรียกใช้ฟังก์ชัน func ตามที่ได้เขียนไว้จากข้อที่แล้ว แต่ในการตอบไม่ต้องใส่ฟังก์ชันดังกล่าวลงไป\n",
        "```\n",
        "ตัวอย่างของโปรแกรมหลักที่เรียกใช้ฟังก์ชันดังกล่าว\n",
        "x = float(input(\"Enter X: \"))\n",
        "y = float(input(\"Enter Y: \"))\n",
        "if under(x,y):\n",
        "    print(\"It is.\")\n",
        "else:\n",
        "    print(\"It is not.\")\n",
        "```\n",
        "```\n",
        "ตัวอย่างการทำงาน 1\n",
        "Enter X: 0\n",
        "Enter Y: 0\n",
        "It is not.\n",
        "```\n",
        "```\n",
        "ตัวอย่างการทำงาน 2\n",
        "Enter X: 10\n",
        "Enter Y: 100\n",
        "It is.\n",
        "(ไม่ต้องเขียน main program ฟังก์ชัน func(x) ได้ถูกเขียนไว้แล้วใช้ได้เลย)\n",
        "```"
      ],
      "metadata": {
        "id": "t4LyXympN56V"
      }
    },
    {
      "cell_type": "code",
      "source": [
        "def under(x,y):\n",
        "   if func(x) > y:\n",
        "      return True\n",
        "   return False"
      ],
      "metadata": {
        "id": "XaQEmZK2RrL0"
      },
      "execution_count": 3,
      "outputs": []
    },
    {
      "cell_type": "code",
      "source": [
        "x = float(input(\"Enter X: \"))\n",
        "y = float(input(\"Enter Y: \"))\n",
        "if under(x,y):\n",
        "    print(\"It is.\")\n",
        "else:\n",
        "    print(\"It is not.\")"
      ],
      "metadata": {
        "colab": {
          "base_uri": "https://localhost:8080/"
        },
        "id": "UeZBaT4oRw_t",
        "outputId": "7b1fcce6-798f-4073-ef9d-a929913d8cf1"
      },
      "execution_count": 7,
      "outputs": [
        {
          "output_type": "stream",
          "name": "stdout",
          "text": [
            "Enter X: 10\n",
            "Enter Y: 100\n",
            "It is.\n"
          ]
        }
      ]
    },
    {
      "cell_type": "markdown",
      "source": [
        "5.หอยทากตัวหนึ่ง ตกลงไปในบ่อที่มีความสูง H เมตร มันพยายามจะไต่ให้ถึงปากบ่อ ในเวลากลางวันหอยทากไต่ขึ้นไปได้ U เมตร เวลากลางคืนมันนอนหลับจึงไม่ได้ไต่แต่กลับไถลลงมาเป็นระยะทาง D เมตร ให้เขียนโปรแกรมเพื่อหาว่าหอยทากจะใช้เวลากี่วันในการไต่ออกจากบ่อ (กำหนดให้หอยทากเริ่มไต่ในเวลากลางวัน)\n",
        "```\n",
        "Example 1\n",
        "H: 5\n",
        "U: 10\n",
        "D: 1\n",
        "1 day(s).\n",
        "```\n",
        "```\n",
        "Example 2\n",
        "H: 5\n",
        "U: 3\n",
        "D: 2\n",
        "3 day(s).\n",
        "```"
      ],
      "metadata": {
        "id": "l7YNPJ-IOUss"
      }
    },
    {
      "cell_type": "code",
      "source": [
        "H = int(input(\"H: \"))\n",
        "U = int(input(\"U: \"))\n",
        "D = int(input(\"D: \"))\n",
        "k = 0\n",
        "day = 1\n",
        "while True:\n",
        "   k = k+U\n",
        "   if k>=H:\n",
        "      break\n",
        "   k = k-D\n",
        "   day = day+1\n",
        "print(day,\"day(s).\")"
      ],
      "metadata": {
        "colab": {
          "base_uri": "https://localhost:8080/"
        },
        "id": "5IggR9JwSUOk",
        "outputId": "507c61ed-89d9-4726-b3ff-df5326871ea3"
      },
      "execution_count": 8,
      "outputs": [
        {
          "output_type": "stream",
          "name": "stdout",
          "text": [
            "H: 5\n",
            "U: 3\n",
            "D: 2\n",
            "3 day(s).\n"
          ]
        }
      ]
    },
    {
      "cell_type": "markdown",
      "source": [
        "6.ให้เขียนโปรแกรมรับจำนวนเต็มระหว่าง 0 ถึง 9 จากนั้นแสดงแผนภาพฮิสโตแกรมที่แสดงความถี่ของข้อมูลแต่ละตัวที่ได้รับมา\n",
        "\n",
        "โปรแกรมจะรับข้อมูลจากผู้ใช้จนกระทั่งผู้ใช้ป้อนข้อมูลที่น้อยกว่า 0\n",
        "\n",
        "ในการแสดงฮิสโตแกรมให้แสดงความถี่ด้วยเครื่องหมาย *\n",
        "\n",
        "```\n",
        "Example\n",
        "\n",
        "0\n",
        "1\n",
        "9\n",
        "1\n",
        "3\n",
        "9\n",
        "1\n",
        "-100\n",
        "0 : *\n",
        "1 : ***\n",
        "2 :\n",
        "3 : *\n",
        "4 :\n",
        "5 :\n",
        "6 :\n",
        "7 :\n",
        "8 :\n",
        "9 : **\n",
        "```\n",
        "หมายเหตุ: สามารถใช้ตัวดำเนินการ * กับสตริงเพื่อให้เป็นสตริงที่ซ้ำ ๆ กันได้ เช่น \"*\" * 10 มีค่าเป็น \"**********\""
      ],
      "metadata": {
        "id": "giqb3OfcOnz9"
      }
    },
    {
      "cell_type": "code",
      "source": [
        "x = int(input())\n",
        "n =[[],[],[],[],[],[],[],[],[],[]]\n",
        "while x >=0 :\n",
        "    if x == 0:\n",
        "        n[0].append('*')\n",
        "    elif x == 1:\n",
        "        n[1].append('*')\n",
        "    elif x == 2:\n",
        "        n[2].append('*')\n",
        "    elif x == 3:\n",
        "        n[3].append('*')\n",
        "    elif x == 4:\n",
        "        n[4].append('*')\n",
        "    elif x == 5:\n",
        "        n[5].append('*')\n",
        "    elif x == 6:\n",
        "        n[6].append('*')\n",
        "    elif x == 7:\n",
        "        n[7].append('*')\n",
        "    elif x == 8:\n",
        "        n[8].append('*')\n",
        "    elif x == 9:\n",
        "        n[9].append('*')\n",
        "    x = int(input())\n",
        "for i in range(10):\n",
        "    sum = ''\n",
        "    for y in n[i]:\n",
        "        sum = sum+y\n",
        "    print(i,\":\",sum)"
      ],
      "metadata": {
        "colab": {
          "base_uri": "https://localhost:8080/"
        },
        "id": "_W0cceL5TC1O",
        "outputId": "37077073-818f-4020-c79a-d2686b7b5c77"
      },
      "execution_count": 9,
      "outputs": [
        {
          "output_type": "stream",
          "name": "stdout",
          "text": [
            "5\n",
            "8\n",
            "7\n",
            "6\n",
            "9\n",
            "1\n",
            "0\n",
            "5\n",
            "3\n",
            "3\n",
            "5\n",
            "4\n",
            "7\n",
            "1\n",
            "-2\n",
            "0 : *\n",
            "1 : **\n",
            "2 : \n",
            "3 : **\n",
            "4 : *\n",
            "5 : ***\n",
            "6 : *\n",
            "7 : **\n",
            "8 : *\n",
            "9 : *\n"
          ]
        }
      ]
    },
    {
      "cell_type": "markdown",
      "source": [
        "7.ให้เขียนโปรแกรมรับจำนวนเต็มระหว่าง 0 ถึง 99 จากนั้นแสดงแผนภาพฮิสโตแกรมที่แสดงความถี่ของข้อมูล อย่างไรก็ตาม ในการแสดงให้แสดงเป็นกลุ่ม กลุ่มแรกมีค่าตั้งแต่ 0 - 9 กลุ่มที่สองมีค่าตั้งแต่ 10 - 19 จนถึงกลุ่มสุดท้ายเป็น 90 - 99 ตามลำดับ ในการแสดงไม่ต้องพิมพ์หมายเลขกลุ่ม\n",
        "\n",
        "โปรแกรมจะรับข้อมูลจากผู้ใช้จนกระทั่งผู้ใช้ป้อนข้อมูลที่น้อยกว่า 0\n",
        "ในการแสดงฮิสโตแกรมให้แสดงความถี่ด้วยเครื่องหมาย *\n",
        "```\n",
        "Example\n",
        "9\n",
        "10\n",
        "95\n",
        "15\n",
        "32\n",
        "91\n",
        "12\n",
        "-100\n",
        ": *\n",
        ": ***\n",
        ":\n",
        ": *\n",
        ":\n",
        ":\n",
        ":\n",
        ":\n",
        ":\n",
        ": **\n",
        "```\n"
      ],
      "metadata": {
        "id": "2DduGSpfPBGb"
      }
    },
    {
      "cell_type": "code",
      "source": [
        "x = int(input())\n",
        "n =[[],[],[],[],[],[],[],[],[],[]]\n",
        "while x >=0 :\n",
        "    if 0<=x<=9:\n",
        "        n[0].append('*')\n",
        "    elif 10<=x<=19:\n",
        "        n[1].append('*')\n",
        "    elif 20<=x<=29:\n",
        "        n[2].append('*')\n",
        "    elif 30<=x<=39:\n",
        "        n[3].append('*')\n",
        "    elif 40<=x<=49:\n",
        "        n[4].append('*')\n",
        "    elif 50<=x<=59:\n",
        "        n[5].append('*')\n",
        "    elif 60<=x<=69:\n",
        "        n[6].append('*')\n",
        "    elif 70<=x<=79:\n",
        "        n[7].append('*')\n",
        "    elif 80<=x<=89:\n",
        "        n[8].append('*')\n",
        "    elif 90<=x<=99:\n",
        "        n[9].append('*')\n",
        "    x = int(input())\n",
        "for i in range(10):\n",
        "    sum = ''\n",
        "    for y in n[i]:\n",
        "        sum = sum+y\n",
        "    print(\":\",sum)"
      ],
      "metadata": {
        "colab": {
          "base_uri": "https://localhost:8080/"
        },
        "id": "7RTkUuqCUrmc",
        "outputId": "ac13939d-da6b-4bc7-f9ca-8373e6834ba5"
      },
      "execution_count": 11,
      "outputs": [
        {
          "output_type": "stream",
          "name": "stdout",
          "text": [
            "2\n",
            "5\n",
            "8\n",
            "4\n",
            "-1\n",
            ": ****\n",
            ": \n",
            ": \n",
            ": \n",
            ": \n",
            ": \n",
            ": \n",
            ": \n",
            ": \n",
            ": \n"
          ]
        }
      ]
    },
    {
      "cell_type": "markdown",
      "source": [
        "8.เขียนโปรแกรมรับจำนวนเต็ม จากนั้นพิมพ์จำนวนเต็มดังกล่าวออกมาทีละหลัก หลักละ 1 บรรทัด โดยพิมพ์จากหลักหน่วยก่อน\n",
        "```\n",
        "ตัวอย่างการทำงาน 1\n",
        "Enter number: 12437\n",
        "7\n",
        "3\n",
        "4\n",
        "2\n",
        "1\n",
        "```\n",
        "```\n",
        "ตัวอย่างการทำงาน 2\n",
        "Enter number: 10000\n",
        "0\n",
        "0\n",
        "0\n",
        "0\n",
        "1\n",
        "```\n",
        "\n",
        "\n",
        "\n"
      ],
      "metadata": {
        "id": "ttBcBCHlQd5U"
      }
    },
    {
      "cell_type": "code",
      "source": [
        "x = input(\"Enter number: \")\n",
        "d = len(x)-1\n",
        "while d != -1:\n",
        "   print(x[d])\n",
        "   d = d-1"
      ],
      "metadata": {
        "colab": {
          "base_uri": "https://localhost:8080/"
        },
        "id": "NJeADGwGU-1j",
        "outputId": "6d4c8233-a879-4d56-95de-0d0670afb3ed"
      },
      "execution_count": 12,
      "outputs": [
        {
          "output_type": "stream",
          "name": "stdout",
          "text": [
            "Enter number: 5000\n",
            "0\n",
            "0\n",
            "0\n",
            "5\n"
          ]
        }
      ]
    },
    {
      "cell_type": "markdown",
      "source": [
        "9.เขียนโปรแกรมรับจำนวนเต็มบวก 1 จำนวน จากนั้นให้แสดงผลลัพธ์เป็นจำนวนเต็มดังกล่าวที่เขียนอยู่ในรูปของตัวเลขฐาน สอง\n",
        "```\n",
        "ตัวอย่างการทำงาน 1\n",
        "Enter number: 19\n",
        "10011\n",
        "```\n",
        "```\n",
        "ตัวอย่างการทำงาน 2\n",
        "Enter number: 6\n",
        "110\n",
        "```\n",
        "\n",
        "\n",
        "\n"
      ],
      "metadata": {
        "id": "RVew5P2CQsV1"
      }
    },
    {
      "cell_type": "code",
      "source": [
        "x = int(input(\"Enter number: \"))\n",
        "x0 = x\n",
        "sum = ''\n",
        "d = 0\n",
        "z = 0\n",
        "while True:\n",
        "   y = int(x%2)\n",
        "   x = int(x/2)\n",
        "   sum = str(y)+sum\n",
        "   if y==1:\n",
        "      z = z+2**d\n",
        "   if z==x0:\n",
        "      break\n",
        "   d = d+1\n",
        "z = int(sum)\n",
        "print(z)"
      ],
      "metadata": {
        "colab": {
          "base_uri": "https://localhost:8080/"
        },
        "id": "ew1gT0peVJ1U",
        "outputId": "471086ed-f853-44a8-e109-be13302da93d"
      },
      "execution_count": 13,
      "outputs": [
        {
          "output_type": "stream",
          "name": "stdout",
          "text": [
            "Enter number: 9\n",
            "1001\n"
          ]
        }
      ]
    },
    {
      "cell_type": "markdown",
      "source": [
        "10.ให้เขียนรับตัวเลขฐาน 2 จากผู้ใช้ จากนั้นแปลงให้เป็นเลขฐานสิบ\n",
        "```\n",
        "ตัวอย่างการทำงาน 1\n",
        "Enter binary number: 10110\n",
        "22\n",
        "```\n",
        "```\n",
        "ตัวอย่างการทำงาน 2\n",
        "Enter binary number: 110\n",
        "6\n",
        "```\n",
        "\n",
        "\n",
        "\n",
        "\n",
        "**คำใบ้: อย่าลืมว่าเราสามารถพิจารณาสตริงเป็นรายการของตัวอักษรได้"
      ],
      "metadata": {
        "id": "cSqKAAYeQ121"
      }
    },
    {
      "cell_type": "code",
      "source": [
        "x = input(\"Enter binary number: \")\n",
        "d = len(x)-1\n",
        "sum = 0\n",
        "for y in x:\n",
        "   if y == '1':\n",
        "      sum = sum+2**d\n",
        "   d = d-1\n",
        "print(sum)"
      ],
      "metadata": {
        "colab": {
          "base_uri": "https://localhost:8080/"
        },
        "id": "3TlsFznyVRM8",
        "outputId": "bc1e7b20-1f56-4039-eb2d-eb1faaf110ca"
      },
      "execution_count": 14,
      "outputs": [
        {
          "output_type": "stream",
          "name": "stdout",
          "text": [
            "Enter binary number: 111001\n",
            "57\n"
          ]
        }
      ]
    },
    {
      "cell_type": "markdown",
      "source": [
        "11.ในเกมมาสเตอร์มายด์ เราต้องการสุ่มเลขตั้งต้นที่ไม่มีเลขหลักใดซ้ำกันเลย การสุ่มดังกล่าวทำได้ไม่ยากถ้าเราสามารถตรวจสอบว่าตัวเลข 4 หลักที่เราได้สุ่มมานั้นมีหลักซ้ำกันหรือไม่\n",
        "\n",
        "ให้เขียนฟังก์ชัน verify_digits(x) ที่รับจำนวนเต็มบวก x จากนั้นคืนค่าเป็น True ก็ต่อเมื่อเลขในแต่ละหลักของ x เมื่อเขียนเป็นเลขฐานสิบ ไม่มีตัวใดซ้ำกันเลย และคืนค่าเป็น False เมื่อมีตัวเลขที่ซ้ำกัน\n",
        "```\n",
        "ตัวอย่างการทำงานใน Python Shell\n",
        ">>> verify_digits(12345)\n",
        "True\n",
        ">>> verify_digits(1242)\n",
        "False\n",
        ">>> verify_digits(938401)\n",
        "True\n",
        ">>> verify_digits(194842)\n",
        "False\n",
        "```"
      ],
      "metadata": {
        "id": "mtb2b9GHRHU7"
      }
    },
    {
      "cell_type": "code",
      "source": [
        "def verify_digits(x):\n",
        "    y1 = str(x)\n",
        "    y2 = str(x)\n",
        "    d = 0\n",
        "    for q in y2:\n",
        "        d2 = 0\n",
        "        for z in y1:\n",
        "            if z == q and d2 != d:\n",
        "                return False\n",
        "            d2 = d2+1\n",
        "        d = d + 1\n",
        "    return True\n",
        "verify_digits(194842)"
      ],
      "metadata": {
        "colab": {
          "base_uri": "https://localhost:8080/"
        },
        "id": "eFCEjdObRHCb",
        "outputId": "8fb5ab0f-64e4-4dd2-f535-3f6ca5d6c338"
      },
      "execution_count": 16,
      "outputs": [
        {
          "output_type": "execute_result",
          "data": {
            "text/plain": [
              "False"
            ]
          },
          "metadata": {},
          "execution_count": 16
        }
      ]
    },
    {
      "cell_type": "markdown",
      "source": [
        "12.ในเกมมาสเตอร์มายด์ เราต้องการสุ่มเลขตั้งต้นที่ไม่มีเลขหลักใดซ้ำกันเลย เราจะนำฟังก์ชัน verify_digits จากข้อที่แล้วที่เราได้เขียนไว้มาสร้างเป็นฟังก์ชันสำหรับสุ่มตัวเลขคำตอบของเกมนี้\n",
        "\n",
        "ในการสุ่มตัวเลข 4 หลักเราจะใช้ฟังก์ชัน randint ในโมดูล random ฟังก์ชัน randint(a,b) จะคืนค่าเป็นเลขสุ่มที่มีค่าเป็นไปได้ตั้งแต่ a ถึง b (รวม a และ b ด้วย) ดูตัวอย่างการใช้งานที่ เอกสารนี้\n",
        "\n",
        "ให้เขียนฟังก์ชัน rand_answer() ที่คืนค่าเป็นจำนวนเต็ม 4 หลัก (นั่นคือต้องมีค่าอย่างน้อย 1000 แต่มีค่าไม่เกิน 9999) ที่ไม่มีหลักใด ๆ ที่ซ้ำกันเลย\n",
        "```\n",
        "ตัวอย่างการทำงาน (แสดงใน Python shell)\n",
        ">>> randanswer()\n",
        "1324\n",
        ">>> randanswer()\n",
        "8503\n",
        ">>> rand_answer()\n",
        "6359\n",
        "```\n",
        "หมายเหตุ: ฟัง์กชันของนิสิตไม่จำเป็นต้องตอบตรงกับตัวอย่าง"
      ],
      "metadata": {
        "id": "qVY9z1DSRSRN"
      }
    },
    {
      "cell_type": "code",
      "source": [
        "import random\n",
        "def rand_answer():\n",
        "    while True:\n",
        "        x = random.randint(1000,9999)\n",
        "        if verify_digits(x):\n",
        "            return x\n",
        "rand_answer()"
      ],
      "metadata": {
        "colab": {
          "base_uri": "https://localhost:8080/"
        },
        "id": "vS9-8vkbNlCV",
        "outputId": "cb526684-7d19-4c0d-de0e-ce699d6c11fa"
      },
      "execution_count": 21,
      "outputs": [
        {
          "output_type": "execute_result",
          "data": {
            "text/plain": [
              "5947"
            ]
          },
          "metadata": {},
          "execution_count": 21
        }
      ]
    }
  ]
}